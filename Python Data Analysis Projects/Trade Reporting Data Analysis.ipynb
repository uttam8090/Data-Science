{
 "cells": [
  {
   "cell_type": "markdown",
   "id": "af625628",
   "metadata": {},
   "source": [
    "# Importing Libraries"
   ]
  },
  {
   "cell_type": "code",
   "execution_count": 1,
   "id": "d930f91b",
   "metadata": {},
   "outputs": [],
   "source": [
    "import numpy as np\n",
    "import pandas as pd\n",
    "import matplotlib.pyplot as plt\n",
    "import seaborn as sns\n",
    "import warnings\n",
    "warnings.filterwarnings('ignore')"
   ]
  },
  {
   "cell_type": "markdown",
   "id": "5734f502",
   "metadata": {},
   "source": [
    "# Load Dataset"
   ]
  },
  {
   "cell_type": "code",
   "execution_count": 429,
   "id": "859418f5",
   "metadata": {},
   "outputs": [
    {
     "data": {
      "text/html": [
       "<div>\n",
       "<style scoped>\n",
       "    .dataframe tbody tr th:only-of-type {\n",
       "        vertical-align: middle;\n",
       "    }\n",
       "\n",
       "    .dataframe tbody tr th {\n",
       "        vertical-align: top;\n",
       "    }\n",
       "\n",
       "    .dataframe thead th {\n",
       "        text-align: right;\n",
       "    }\n",
       "</style>\n",
       "<table border=\"1\" class=\"dataframe\">\n",
       "  <thead>\n",
       "    <tr style=\"text-align: right;\">\n",
       "      <th></th>\n",
       "      <th>tradeId</th>\n",
       "      <th>regulator</th>\n",
       "      <th>version</th>\n",
       "      <th>assetClass</th>\n",
       "      <th>clDateTime</th>\n",
       "      <th>clStatus</th>\n",
       "      <th>cflag</th>\n",
       "      <th>eFlag</th>\n",
       "      <th>cDateTime</th>\n",
       "      <th>method</th>\n",
       "      <th>...</th>\n",
       "      <th>seller</th>\n",
       "      <th>endDate</th>\n",
       "      <th>sType</th>\n",
       "      <th>Product</th>\n",
       "      <th>price</th>\n",
       "      <th>terminationDate</th>\n",
       "      <th>party</th>\n",
       "      <th>PartyId</th>\n",
       "      <th>transactionType</th>\n",
       "      <th>Reporting Status</th>\n",
       "    </tr>\n",
       "  </thead>\n",
       "  <tbody>\n",
       "    <tr>\n",
       "      <th>0</th>\n",
       "      <td>1</td>\n",
       "      <td>SEBI</td>\n",
       "      <td>1</td>\n",
       "      <td>FX</td>\n",
       "      <td>2023-07-18T11:47:26.075000Z</td>\n",
       "      <td>True</td>\n",
       "      <td>FULLY</td>\n",
       "      <td>False</td>\n",
       "      <td>2023-12-10T07:37:58.548000Z</td>\n",
       "      <td>NonElectronic</td>\n",
       "      <td>...</td>\n",
       "      <td>Party1</td>\n",
       "      <td>2023-05-26T05:23:44.110000Z</td>\n",
       "      <td>Cash</td>\n",
       "      <td>Swap</td>\n",
       "      <td>NaN</td>\n",
       "      <td>2023-07-02T04:01:17.940000Z</td>\n",
       "      <td>PartyZ</td>\n",
       "      <td>1</td>\n",
       "      <td>EXIT</td>\n",
       "      <td>Failed Ack</td>\n",
       "    </tr>\n",
       "    <tr>\n",
       "      <th>1</th>\n",
       "      <td>2</td>\n",
       "      <td>SEBI</td>\n",
       "      <td>9</td>\n",
       "      <td>FX</td>\n",
       "      <td>2023-08-02T03:12:48.207000Z</td>\n",
       "      <td>False</td>\n",
       "      <td>FULLY</td>\n",
       "      <td>False</td>\n",
       "      <td>2023-10-03T22:32:10.991000Z</td>\n",
       "      <td>NotConfirmed</td>\n",
       "      <td>...</td>\n",
       "      <td>Party2</td>\n",
       "      <td>2023-07-23T23:43:15.460000Z</td>\n",
       "      <td>Cash</td>\n",
       "      <td>Swap</td>\n",
       "      <td>NaN</td>\n",
       "      <td>2023-08-15T13:25:45.442000Z</td>\n",
       "      <td>PartyX</td>\n",
       "      <td>4</td>\n",
       "      <td>EXIT</td>\n",
       "      <td>ACK</td>\n",
       "    </tr>\n",
       "    <tr>\n",
       "      <th>2</th>\n",
       "      <td>3</td>\n",
       "      <td>SEBI</td>\n",
       "      <td>8</td>\n",
       "      <td>FX</td>\n",
       "      <td>2023-05-09T07:42:36.475000Z</td>\n",
       "      <td>False</td>\n",
       "      <td>FULLY</td>\n",
       "      <td>False</td>\n",
       "      <td>2023-03-09T20:32:31.302000Z</td>\n",
       "      <td>NonElectronic</td>\n",
       "      <td>...</td>\n",
       "      <td>Party2</td>\n",
       "      <td>2023-08-08T11:13:43.217000Z</td>\n",
       "      <td>Physical</td>\n",
       "      <td>Swap</td>\n",
       "      <td>NaN</td>\n",
       "      <td>2023-07-07T02:03:20.354000Z</td>\n",
       "      <td>PartyX</td>\n",
       "      <td>4</td>\n",
       "      <td>TRADE</td>\n",
       "      <td>Processing Error</td>\n",
       "    </tr>\n",
       "    <tr>\n",
       "      <th>3</th>\n",
       "      <td>4</td>\n",
       "      <td>SEBI</td>\n",
       "      <td>1</td>\n",
       "      <td>FX</td>\n",
       "      <td>2023-10-01T05:02:54.209000Z</td>\n",
       "      <td>False</td>\n",
       "      <td>FULLY</td>\n",
       "      <td>True</td>\n",
       "      <td>2023-11-21T06:53:09.983000Z</td>\n",
       "      <td>Electronic</td>\n",
       "      <td>...</td>\n",
       "      <td>Party2</td>\n",
       "      <td>2023-07-31T19:30:37.266000Z</td>\n",
       "      <td>Cash</td>\n",
       "      <td>forward</td>\n",
       "      <td>91773.25433</td>\n",
       "      <td>2023-08-02T04:55:34.632000Z</td>\n",
       "      <td>PartyK</td>\n",
       "      <td>2</td>\n",
       "      <td>TRADE</td>\n",
       "      <td>Acknowledged</td>\n",
       "    </tr>\n",
       "    <tr>\n",
       "      <th>4</th>\n",
       "      <td>5</td>\n",
       "      <td>SEBI</td>\n",
       "      <td>1</td>\n",
       "      <td>FX</td>\n",
       "      <td>2023-01-23T20:53:01.076000Z</td>\n",
       "      <td>True</td>\n",
       "      <td>ONEWAY</td>\n",
       "      <td>False</td>\n",
       "      <td>2023-08-05T17:06:08.895000Z</td>\n",
       "      <td>Electronic</td>\n",
       "      <td>...</td>\n",
       "      <td>Party1</td>\n",
       "      <td>2023-12-04T19:38:57.326000Z</td>\n",
       "      <td>Cash</td>\n",
       "      <td>Swap</td>\n",
       "      <td>NaN</td>\n",
       "      <td>2023-02-08T06:49:44.186000Z</td>\n",
       "      <td>PartyX</td>\n",
       "      <td>4</td>\n",
       "      <td>TRADE</td>\n",
       "      <td>Acknowledged</td>\n",
       "    </tr>\n",
       "  </tbody>\n",
       "</table>\n",
       "<p>5 rows × 26 columns</p>\n",
       "</div>"
      ],
      "text/plain": [
       "   tradeId regulator  version assetClass                   clDateTime  \\\n",
       "0        1      SEBI        1         FX  2023-07-18T11:47:26.075000Z   \n",
       "1        2      SEBI        9         FX  2023-08-02T03:12:48.207000Z   \n",
       "2        3      SEBI        8         FX  2023-05-09T07:42:36.475000Z   \n",
       "3        4      SEBI        1         FX  2023-10-01T05:02:54.209000Z   \n",
       "4        5      SEBI        1         FX  2023-01-23T20:53:01.076000Z   \n",
       "\n",
       "   clStatus   cflag  eFlag                    cDateTime         method  ...  \\\n",
       "0      True   FULLY  False  2023-12-10T07:37:58.548000Z  NonElectronic  ...   \n",
       "1     False   FULLY  False  2023-10-03T22:32:10.991000Z   NotConfirmed  ...   \n",
       "2     False   FULLY  False  2023-03-09T20:32:31.302000Z  NonElectronic  ...   \n",
       "3     False   FULLY   True  2023-11-21T06:53:09.983000Z     Electronic  ...   \n",
       "4      True  ONEWAY  False  2023-08-05T17:06:08.895000Z     Electronic  ...   \n",
       "\n",
       "   seller                      endDate     sType  Product        price  \\\n",
       "0  Party1  2023-05-26T05:23:44.110000Z      Cash     Swap          NaN   \n",
       "1  Party2  2023-07-23T23:43:15.460000Z      Cash     Swap          NaN   \n",
       "2  Party2  2023-08-08T11:13:43.217000Z  Physical     Swap          NaN   \n",
       "3  Party2  2023-07-31T19:30:37.266000Z      Cash  forward  91773.25433   \n",
       "4  Party1  2023-12-04T19:38:57.326000Z      Cash     Swap          NaN   \n",
       "\n",
       "               terminationDate   party PartyId transactionType  \\\n",
       "0  2023-07-02T04:01:17.940000Z  PartyZ       1            EXIT   \n",
       "1  2023-08-15T13:25:45.442000Z  PartyX       4            EXIT   \n",
       "2  2023-07-07T02:03:20.354000Z  PartyX       4           TRADE   \n",
       "3  2023-08-02T04:55:34.632000Z  PartyK       2           TRADE   \n",
       "4  2023-02-08T06:49:44.186000Z  PartyX       4           TRADE   \n",
       "\n",
       "   Reporting Status  \n",
       "0        Failed Ack  \n",
       "1               ACK  \n",
       "2  Processing Error  \n",
       "3      Acknowledged  \n",
       "4      Acknowledged  \n",
       "\n",
       "[5 rows x 26 columns]"
      ]
     },
     "execution_count": 429,
     "metadata": {},
     "output_type": "execute_result"
    }
   ],
   "source": [
    "df= pd.read_csv('Testdata.csv')\n",
    "df.head()"
   ]
  },
  {
   "cell_type": "markdown",
   "id": "ea101811",
   "metadata": {},
   "source": [
    "# Exploratory Data Analysis"
   ]
  },
  {
   "cell_type": "code",
   "execution_count": 3,
   "id": "7cbf6e3d",
   "metadata": {},
   "outputs": [
    {
     "data": {
      "text/plain": [
       "(50000, 26)"
      ]
     },
     "execution_count": 3,
     "metadata": {},
     "output_type": "execute_result"
    }
   ],
   "source": [
    "df.shape"
   ]
  },
  {
   "cell_type": "markdown",
   "id": "f5669565",
   "metadata": {},
   "source": [
    "- There are 50000 rows and 26 columns present in the data."
   ]
  },
  {
   "cell_type": "code",
   "execution_count": 4,
   "id": "fe729399",
   "metadata": {},
   "outputs": [
    {
     "data": {
      "text/plain": [
       "Index(['tradeId', 'regulator', 'version', 'assetClass', 'clDateTime',\n",
       "       'clStatus', 'cflag', 'eFlag', 'cDateTime', 'method', 'rate',\n",
       "       'expirationDate', 'eventT', 'mType', 'Timestamp', 'quantity', 'seller',\n",
       "       'endDate', 'sType', 'Product', 'price', 'terminationDate', 'party',\n",
       "       'PartyId', 'transactionType', 'Reporting Status'],\n",
       "      dtype='object')"
      ]
     },
     "execution_count": 4,
     "metadata": {},
     "output_type": "execute_result"
    }
   ],
   "source": [
    "df.columns"
   ]
  },
  {
   "cell_type": "markdown",
   "id": "532b69b0",
   "metadata": {},
   "source": [
    "### Basic Information About Data"
   ]
  },
  {
   "cell_type": "code",
   "execution_count": 5,
   "id": "865d647e",
   "metadata": {},
   "outputs": [
    {
     "name": "stdout",
     "output_type": "stream",
     "text": [
      "<class 'pandas.core.frame.DataFrame'>\n",
      "RangeIndex: 50000 entries, 0 to 49999\n",
      "Data columns (total 26 columns):\n",
      " #   Column            Non-Null Count  Dtype  \n",
      "---  ------            --------------  -----  \n",
      " 0   tradeId           50000 non-null  int64  \n",
      " 1   regulator         50000 non-null  object \n",
      " 2   version           50000 non-null  int64  \n",
      " 3   assetClass        50000 non-null  object \n",
      " 4   clDateTime        50000 non-null  object \n",
      " 5   clStatus          50000 non-null  bool   \n",
      " 6   cflag             50000 non-null  object \n",
      " 7   eFlag             50000 non-null  bool   \n",
      " 8   cDateTime         50000 non-null  object \n",
      " 9   method            50000 non-null  object \n",
      " 10  rate              50000 non-null  float64\n",
      " 11  expirationDate    50000 non-null  object \n",
      " 12  eventT            50000 non-null  object \n",
      " 13  mType             50000 non-null  object \n",
      " 14  Timestamp         50000 non-null  object \n",
      " 15  quantity          50000 non-null  object \n",
      " 16  seller            50000 non-null  object \n",
      " 17  endDate           50000 non-null  object \n",
      " 18  sType             50000 non-null  object \n",
      " 19  Product           50000 non-null  object \n",
      " 20  price             15014 non-null  float64\n",
      " 21  terminationDate   43791 non-null  object \n",
      " 22  party             50000 non-null  object \n",
      " 23  PartyId           50000 non-null  int64  \n",
      " 24  transactionType   50000 non-null  object \n",
      " 25  Reporting Status  50000 non-null  object \n",
      "dtypes: bool(2), float64(2), int64(3), object(19)\n",
      "memory usage: 9.3+ MB\n"
     ]
    }
   ],
   "source": [
    "df.info()"
   ]
  },
  {
   "cell_type": "markdown",
   "id": "31cdb5a4",
   "metadata": {},
   "source": [
    "### Statistical Summary"
   ]
  },
  {
   "cell_type": "code",
   "execution_count": 59,
   "id": "518a149a",
   "metadata": {},
   "outputs": [
    {
     "data": {
      "text/html": [
       "<div>\n",
       "<style scoped>\n",
       "    .dataframe tbody tr th:only-of-type {\n",
       "        vertical-align: middle;\n",
       "    }\n",
       "\n",
       "    .dataframe tbody tr th {\n",
       "        vertical-align: top;\n",
       "    }\n",
       "\n",
       "    .dataframe thead th {\n",
       "        text-align: right;\n",
       "    }\n",
       "</style>\n",
       "<table border=\"1\" class=\"dataframe\">\n",
       "  <thead>\n",
       "    <tr style=\"text-align: right;\">\n",
       "      <th></th>\n",
       "      <th>tradeId</th>\n",
       "      <th>regulator</th>\n",
       "      <th>version</th>\n",
       "      <th>assetClass</th>\n",
       "      <th>clDateTime</th>\n",
       "      <th>clStatus</th>\n",
       "      <th>cflag</th>\n",
       "      <th>eFlag</th>\n",
       "      <th>cDateTime</th>\n",
       "      <th>method</th>\n",
       "      <th>...</th>\n",
       "      <th>seller</th>\n",
       "      <th>endDate</th>\n",
       "      <th>sType</th>\n",
       "      <th>Product</th>\n",
       "      <th>price</th>\n",
       "      <th>terminationDate</th>\n",
       "      <th>party</th>\n",
       "      <th>PartyId</th>\n",
       "      <th>transactionType</th>\n",
       "      <th>Reporting Status</th>\n",
       "    </tr>\n",
       "  </thead>\n",
       "  <tbody>\n",
       "    <tr>\n",
       "      <th>count</th>\n",
       "      <td>50000.000000</td>\n",
       "      <td>50000</td>\n",
       "      <td>50000.000000</td>\n",
       "      <td>50000</td>\n",
       "      <td>50000</td>\n",
       "      <td>50000</td>\n",
       "      <td>50000</td>\n",
       "      <td>50000</td>\n",
       "      <td>50000</td>\n",
       "      <td>50000</td>\n",
       "      <td>...</td>\n",
       "      <td>50000</td>\n",
       "      <td>50000</td>\n",
       "      <td>50000</td>\n",
       "      <td>50000</td>\n",
       "      <td>15014.000000</td>\n",
       "      <td>43791</td>\n",
       "      <td>50000</td>\n",
       "      <td>50000.000000</td>\n",
       "      <td>50000</td>\n",
       "      <td>50000</td>\n",
       "    </tr>\n",
       "    <tr>\n",
       "      <th>unique</th>\n",
       "      <td>NaN</td>\n",
       "      <td>1</td>\n",
       "      <td>NaN</td>\n",
       "      <td>1</td>\n",
       "      <td>50000</td>\n",
       "      <td>2</td>\n",
       "      <td>6</td>\n",
       "      <td>2</td>\n",
       "      <td>50000</td>\n",
       "      <td>8</td>\n",
       "      <td>...</td>\n",
       "      <td>2</td>\n",
       "      <td>50000</td>\n",
       "      <td>2</td>\n",
       "      <td>4</td>\n",
       "      <td>NaN</td>\n",
       "      <td>43791</td>\n",
       "      <td>5</td>\n",
       "      <td>NaN</td>\n",
       "      <td>3</td>\n",
       "      <td>7</td>\n",
       "    </tr>\n",
       "    <tr>\n",
       "      <th>top</th>\n",
       "      <td>NaN</td>\n",
       "      <td>SEBI</td>\n",
       "      <td>NaN</td>\n",
       "      <td>FX</td>\n",
       "      <td>2023-07-18T11:47:26.075000Z</td>\n",
       "      <td>True</td>\n",
       "      <td>FULLY</td>\n",
       "      <td>False</td>\n",
       "      <td>2023-12-10T07:37:58.548000Z</td>\n",
       "      <td>Electronic</td>\n",
       "      <td>...</td>\n",
       "      <td>Party2</td>\n",
       "      <td>2023-05-26T05:23:44.110000Z</td>\n",
       "      <td>Physical</td>\n",
       "      <td>Swap</td>\n",
       "      <td>NaN</td>\n",
       "      <td>2023-07-02T04:01:17.940000Z</td>\n",
       "      <td>PartyX</td>\n",
       "      <td>NaN</td>\n",
       "      <td>TRADE</td>\n",
       "      <td>Ignored</td>\n",
       "    </tr>\n",
       "    <tr>\n",
       "      <th>freq</th>\n",
       "      <td>NaN</td>\n",
       "      <td>50000</td>\n",
       "      <td>NaN</td>\n",
       "      <td>50000</td>\n",
       "      <td>1</td>\n",
       "      <td>26684</td>\n",
       "      <td>13938</td>\n",
       "      <td>25023</td>\n",
       "      <td>1</td>\n",
       "      <td>10507</td>\n",
       "      <td>...</td>\n",
       "      <td>25217</td>\n",
       "      <td>1</td>\n",
       "      <td>25063</td>\n",
       "      <td>41737</td>\n",
       "      <td>NaN</td>\n",
       "      <td>1</td>\n",
       "      <td>16577</td>\n",
       "      <td>NaN</td>\n",
       "      <td>25633</td>\n",
       "      <td>12878</td>\n",
       "    </tr>\n",
       "    <tr>\n",
       "      <th>mean</th>\n",
       "      <td>25000.500000</td>\n",
       "      <td>NaN</td>\n",
       "      <td>4.991940</td>\n",
       "      <td>NaN</td>\n",
       "      <td>NaN</td>\n",
       "      <td>NaN</td>\n",
       "      <td>NaN</td>\n",
       "      <td>NaN</td>\n",
       "      <td>NaN</td>\n",
       "      <td>NaN</td>\n",
       "      <td>...</td>\n",
       "      <td>NaN</td>\n",
       "      <td>NaN</td>\n",
       "      <td>NaN</td>\n",
       "      <td>NaN</td>\n",
       "      <td>502292.898972</td>\n",
       "      <td>NaN</td>\n",
       "      <td>NaN</td>\n",
       "      <td>3.163600</td>\n",
       "      <td>NaN</td>\n",
       "      <td>NaN</td>\n",
       "    </tr>\n",
       "    <tr>\n",
       "      <th>std</th>\n",
       "      <td>14433.901067</td>\n",
       "      <td>NaN</td>\n",
       "      <td>2.593339</td>\n",
       "      <td>NaN</td>\n",
       "      <td>NaN</td>\n",
       "      <td>NaN</td>\n",
       "      <td>NaN</td>\n",
       "      <td>NaN</td>\n",
       "      <td>NaN</td>\n",
       "      <td>NaN</td>\n",
       "      <td>...</td>\n",
       "      <td>NaN</td>\n",
       "      <td>NaN</td>\n",
       "      <td>NaN</td>\n",
       "      <td>NaN</td>\n",
       "      <td>288205.734165</td>\n",
       "      <td>NaN</td>\n",
       "      <td>NaN</td>\n",
       "      <td>1.342919</td>\n",
       "      <td>NaN</td>\n",
       "      <td>NaN</td>\n",
       "    </tr>\n",
       "    <tr>\n",
       "      <th>min</th>\n",
       "      <td>1.000000</td>\n",
       "      <td>NaN</td>\n",
       "      <td>1.000000</td>\n",
       "      <td>NaN</td>\n",
       "      <td>NaN</td>\n",
       "      <td>NaN</td>\n",
       "      <td>NaN</td>\n",
       "      <td>NaN</td>\n",
       "      <td>NaN</td>\n",
       "      <td>NaN</td>\n",
       "      <td>...</td>\n",
       "      <td>NaN</td>\n",
       "      <td>NaN</td>\n",
       "      <td>NaN</td>\n",
       "      <td>NaN</td>\n",
       "      <td>108.503208</td>\n",
       "      <td>NaN</td>\n",
       "      <td>NaN</td>\n",
       "      <td>1.000000</td>\n",
       "      <td>NaN</td>\n",
       "      <td>NaN</td>\n",
       "    </tr>\n",
       "    <tr>\n",
       "      <th>25%</th>\n",
       "      <td>12500.750000</td>\n",
       "      <td>NaN</td>\n",
       "      <td>3.000000</td>\n",
       "      <td>NaN</td>\n",
       "      <td>NaN</td>\n",
       "      <td>NaN</td>\n",
       "      <td>NaN</td>\n",
       "      <td>NaN</td>\n",
       "      <td>NaN</td>\n",
       "      <td>NaN</td>\n",
       "      <td>...</td>\n",
       "      <td>NaN</td>\n",
       "      <td>NaN</td>\n",
       "      <td>NaN</td>\n",
       "      <td>NaN</td>\n",
       "      <td>253646.139675</td>\n",
       "      <td>NaN</td>\n",
       "      <td>NaN</td>\n",
       "      <td>2.000000</td>\n",
       "      <td>NaN</td>\n",
       "      <td>NaN</td>\n",
       "    </tr>\n",
       "    <tr>\n",
       "      <th>50%</th>\n",
       "      <td>25000.500000</td>\n",
       "      <td>NaN</td>\n",
       "      <td>5.000000</td>\n",
       "      <td>NaN</td>\n",
       "      <td>NaN</td>\n",
       "      <td>NaN</td>\n",
       "      <td>NaN</td>\n",
       "      <td>NaN</td>\n",
       "      <td>NaN</td>\n",
       "      <td>NaN</td>\n",
       "      <td>...</td>\n",
       "      <td>NaN</td>\n",
       "      <td>NaN</td>\n",
       "      <td>NaN</td>\n",
       "      <td>NaN</td>\n",
       "      <td>501724.834200</td>\n",
       "      <td>NaN</td>\n",
       "      <td>NaN</td>\n",
       "      <td>3.000000</td>\n",
       "      <td>NaN</td>\n",
       "      <td>NaN</td>\n",
       "    </tr>\n",
       "    <tr>\n",
       "      <th>75%</th>\n",
       "      <td>37500.250000</td>\n",
       "      <td>NaN</td>\n",
       "      <td>7.000000</td>\n",
       "      <td>NaN</td>\n",
       "      <td>NaN</td>\n",
       "      <td>NaN</td>\n",
       "      <td>NaN</td>\n",
       "      <td>NaN</td>\n",
       "      <td>NaN</td>\n",
       "      <td>NaN</td>\n",
       "      <td>...</td>\n",
       "      <td>NaN</td>\n",
       "      <td>NaN</td>\n",
       "      <td>NaN</td>\n",
       "      <td>NaN</td>\n",
       "      <td>751081.198725</td>\n",
       "      <td>NaN</td>\n",
       "      <td>NaN</td>\n",
       "      <td>4.000000</td>\n",
       "      <td>NaN</td>\n",
       "      <td>NaN</td>\n",
       "    </tr>\n",
       "    <tr>\n",
       "      <th>max</th>\n",
       "      <td>50000.000000</td>\n",
       "      <td>NaN</td>\n",
       "      <td>9.000000</td>\n",
       "      <td>NaN</td>\n",
       "      <td>NaN</td>\n",
       "      <td>NaN</td>\n",
       "      <td>NaN</td>\n",
       "      <td>NaN</td>\n",
       "      <td>NaN</td>\n",
       "      <td>NaN</td>\n",
       "      <td>...</td>\n",
       "      <td>NaN</td>\n",
       "      <td>NaN</td>\n",
       "      <td>NaN</td>\n",
       "      <td>NaN</td>\n",
       "      <td>999940.821500</td>\n",
       "      <td>NaN</td>\n",
       "      <td>NaN</td>\n",
       "      <td>5.000000</td>\n",
       "      <td>NaN</td>\n",
       "      <td>NaN</td>\n",
       "    </tr>\n",
       "  </tbody>\n",
       "</table>\n",
       "<p>11 rows × 26 columns</p>\n",
       "</div>"
      ],
      "text/plain": [
       "             tradeId regulator       version assetClass  \\\n",
       "count   50000.000000     50000  50000.000000      50000   \n",
       "unique           NaN         1           NaN          1   \n",
       "top              NaN      SEBI           NaN         FX   \n",
       "freq             NaN     50000           NaN      50000   \n",
       "mean    25000.500000       NaN      4.991940        NaN   \n",
       "std     14433.901067       NaN      2.593339        NaN   \n",
       "min         1.000000       NaN      1.000000        NaN   \n",
       "25%     12500.750000       NaN      3.000000        NaN   \n",
       "50%     25000.500000       NaN      5.000000        NaN   \n",
       "75%     37500.250000       NaN      7.000000        NaN   \n",
       "max     50000.000000       NaN      9.000000        NaN   \n",
       "\n",
       "                         clDateTime clStatus  cflag  eFlag  \\\n",
       "count                         50000    50000  50000  50000   \n",
       "unique                        50000        2      6      2   \n",
       "top     2023-07-18T11:47:26.075000Z     True  FULLY  False   \n",
       "freq                              1    26684  13938  25023   \n",
       "mean                            NaN      NaN    NaN    NaN   \n",
       "std                             NaN      NaN    NaN    NaN   \n",
       "min                             NaN      NaN    NaN    NaN   \n",
       "25%                             NaN      NaN    NaN    NaN   \n",
       "50%                             NaN      NaN    NaN    NaN   \n",
       "75%                             NaN      NaN    NaN    NaN   \n",
       "max                             NaN      NaN    NaN    NaN   \n",
       "\n",
       "                          cDateTime      method  ...  seller  \\\n",
       "count                         50000       50000  ...   50000   \n",
       "unique                        50000           8  ...       2   \n",
       "top     2023-12-10T07:37:58.548000Z  Electronic  ...  Party2   \n",
       "freq                              1       10507  ...   25217   \n",
       "mean                            NaN         NaN  ...     NaN   \n",
       "std                             NaN         NaN  ...     NaN   \n",
       "min                             NaN         NaN  ...     NaN   \n",
       "25%                             NaN         NaN  ...     NaN   \n",
       "50%                             NaN         NaN  ...     NaN   \n",
       "75%                             NaN         NaN  ...     NaN   \n",
       "max                             NaN         NaN  ...     NaN   \n",
       "\n",
       "                            endDate     sType Product          price  \\\n",
       "count                         50000     50000   50000   15014.000000   \n",
       "unique                        50000         2       4            NaN   \n",
       "top     2023-05-26T05:23:44.110000Z  Physical    Swap            NaN   \n",
       "freq                              1     25063   41737            NaN   \n",
       "mean                            NaN       NaN     NaN  502292.898972   \n",
       "std                             NaN       NaN     NaN  288205.734165   \n",
       "min                             NaN       NaN     NaN     108.503208   \n",
       "25%                             NaN       NaN     NaN  253646.139675   \n",
       "50%                             NaN       NaN     NaN  501724.834200   \n",
       "75%                             NaN       NaN     NaN  751081.198725   \n",
       "max                             NaN       NaN     NaN  999940.821500   \n",
       "\n",
       "                    terminationDate   party       PartyId transactionType  \\\n",
       "count                         43791   50000  50000.000000           50000   \n",
       "unique                        43791       5           NaN               3   \n",
       "top     2023-07-02T04:01:17.940000Z  PartyX           NaN           TRADE   \n",
       "freq                              1   16577           NaN           25633   \n",
       "mean                            NaN     NaN      3.163600             NaN   \n",
       "std                             NaN     NaN      1.342919             NaN   \n",
       "min                             NaN     NaN      1.000000             NaN   \n",
       "25%                             NaN     NaN      2.000000             NaN   \n",
       "50%                             NaN     NaN      3.000000             NaN   \n",
       "75%                             NaN     NaN      4.000000             NaN   \n",
       "max                             NaN     NaN      5.000000             NaN   \n",
       "\n",
       "       Reporting Status  \n",
       "count             50000  \n",
       "unique                7  \n",
       "top             Ignored  \n",
       "freq              12878  \n",
       "mean                NaN  \n",
       "std                 NaN  \n",
       "min                 NaN  \n",
       "25%                 NaN  \n",
       "50%                 NaN  \n",
       "75%                 NaN  \n",
       "max                 NaN  \n",
       "\n",
       "[11 rows x 26 columns]"
      ]
     },
     "execution_count": 59,
     "metadata": {},
     "output_type": "execute_result"
    }
   ],
   "source": [
    "df.describe(include='all')"
   ]
  },
  {
   "cell_type": "markdown",
   "id": "f958e9b0",
   "metadata": {},
   "source": [
    "### Check For Missing Values"
   ]
  },
  {
   "cell_type": "code",
   "execution_count": 6,
   "id": "c460f68d",
   "metadata": {},
   "outputs": [
    {
     "data": {
      "text/plain": [
       "tradeId                 0\n",
       "regulator               0\n",
       "version                 0\n",
       "assetClass              0\n",
       "clDateTime              0\n",
       "clStatus                0\n",
       "cflag                   0\n",
       "eFlag                   0\n",
       "cDateTime               0\n",
       "method                  0\n",
       "rate                    0\n",
       "expirationDate          0\n",
       "eventT                  0\n",
       "mType                   0\n",
       "Timestamp               0\n",
       "quantity                0\n",
       "seller                  0\n",
       "endDate                 0\n",
       "sType                   0\n",
       "Product                 0\n",
       "price               34986\n",
       "terminationDate      6209\n",
       "party                   0\n",
       "PartyId                 0\n",
       "transactionType         0\n",
       "Reporting Status        0\n",
       "dtype: int64"
      ]
     },
     "execution_count": 6,
     "metadata": {},
     "output_type": "execute_result"
    }
   ],
   "source": [
    "df.isnull().sum()"
   ]
  },
  {
   "cell_type": "markdown",
   "id": "eba3c7f8",
   "metadata": {},
   "source": [
    "- Columns price and terminationDate has missing values"
   ]
  },
  {
   "cell_type": "markdown",
   "id": "8ee899a4",
   "metadata": {},
   "source": [
    "### Percentage of Missing Values"
   ]
  },
  {
   "cell_type": "code",
   "execution_count": 7,
   "id": "23764ddc",
   "metadata": {},
   "outputs": [
    {
     "data": {
      "text/plain": [
       "tradeId              0.000\n",
       "regulator            0.000\n",
       "version              0.000\n",
       "assetClass           0.000\n",
       "clDateTime           0.000\n",
       "clStatus             0.000\n",
       "cflag                0.000\n",
       "eFlag                0.000\n",
       "cDateTime            0.000\n",
       "method               0.000\n",
       "rate                 0.000\n",
       "expirationDate       0.000\n",
       "eventT               0.000\n",
       "mType                0.000\n",
       "Timestamp            0.000\n",
       "quantity             0.000\n",
       "seller               0.000\n",
       "endDate              0.000\n",
       "sType                0.000\n",
       "Product              0.000\n",
       "price               69.972\n",
       "terminationDate     12.418\n",
       "party                0.000\n",
       "PartyId              0.000\n",
       "transactionType      0.000\n",
       "Reporting Status     0.000\n",
       "dtype: float64"
      ]
     },
     "execution_count": 7,
     "metadata": {},
     "output_type": "execute_result"
    }
   ],
   "source": [
    "df.isnull().sum()/len(df)*100"
   ]
  },
  {
   "cell_type": "markdown",
   "id": "1e5feb4b",
   "metadata": {},
   "source": [
    "- As price column has approximately 70% missing values and highly affecting target variable then we can drop that column."
   ]
  },
  {
   "cell_type": "markdown",
   "id": "2f19dd35",
   "metadata": {},
   "source": [
    "### Check For Duplicate Data"
   ]
  },
  {
   "cell_type": "code",
   "execution_count": 62,
   "id": "cd7410c4",
   "metadata": {},
   "outputs": [
    {
     "data": {
      "text/plain": [
       "0"
      ]
     },
     "execution_count": 62,
     "metadata": {},
     "output_type": "execute_result"
    }
   ],
   "source": [
    "df.duplicated().sum()"
   ]
  },
  {
   "cell_type": "markdown",
   "id": "ae8880b3",
   "metadata": {},
   "source": [
    "- There is no duplicate data"
   ]
  },
  {
   "cell_type": "markdown",
   "id": "df731a17",
   "metadata": {},
   "source": [
    "## Data in Proper Format"
   ]
  },
  {
   "cell_type": "markdown",
   "id": "6cc92b88",
   "metadata": {},
   "source": [
    "### Converting into datetime format from object"
   ]
  },
  {
   "cell_type": "code",
   "execution_count": 430,
   "id": "6207bc8a",
   "metadata": {},
   "outputs": [],
   "source": [
    "df['clDateTime']= pd.to_datetime(df['clDateTime'])"
   ]
  },
  {
   "cell_type": "code",
   "execution_count": 431,
   "id": "e70bad4d",
   "metadata": {},
   "outputs": [],
   "source": [
    "df['cDateTime']= pd.to_datetime(df['cDateTime'])"
   ]
  },
  {
   "cell_type": "code",
   "execution_count": 432,
   "id": "a486ab8f",
   "metadata": {},
   "outputs": [],
   "source": [
    "df['expirationDate']= pd.to_datetime(df['expirationDate'])"
   ]
  },
  {
   "cell_type": "code",
   "execution_count": 433,
   "id": "16d5d3a8",
   "metadata": {},
   "outputs": [],
   "source": [
    "df['Timestamp']= pd.to_datetime(df['Timestamp'])"
   ]
  },
  {
   "cell_type": "code",
   "execution_count": 434,
   "id": "6e119300",
   "metadata": {},
   "outputs": [],
   "source": [
    "df['endDate']= pd.to_datetime(df['endDate'])"
   ]
  },
  {
   "cell_type": "code",
   "execution_count": 435,
   "id": "3927d5db",
   "metadata": {},
   "outputs": [],
   "source": [
    "df['terminationDate']= pd.to_datetime(df['terminationDate'])"
   ]
  },
  {
   "cell_type": "markdown",
   "id": "21cb8fe1",
   "metadata": {},
   "source": [
    "### Extracting Year From DateTime"
   ]
  },
  {
   "cell_type": "code",
   "execution_count": 436,
   "id": "90da217a",
   "metadata": {},
   "outputs": [],
   "source": [
    "df['Year']= df['clDateTime'].dt.year"
   ]
  },
  {
   "cell_type": "markdown",
   "id": "1beefe85",
   "metadata": {},
   "source": [
    "### Extracting Month From DateTime"
   ]
  },
  {
   "cell_type": "code",
   "execution_count": 440,
   "id": "21ec049e",
   "metadata": {},
   "outputs": [],
   "source": [
    "df['Month']= df['clDateTime'].dt.month"
   ]
  },
  {
   "cell_type": "code",
   "execution_count": 441,
   "id": "5619d59f",
   "metadata": {},
   "outputs": [],
   "source": [
    "df= df.drop(columns=['clDateTime'])"
   ]
  },
  {
   "cell_type": "markdown",
   "id": "e45f0456",
   "metadata": {},
   "source": [
    "### clStatus"
   ]
  },
  {
   "cell_type": "code",
   "execution_count": 442,
   "id": "5a8d996f",
   "metadata": {},
   "outputs": [],
   "source": [
    "df['clStatus']= df['clStatus'].replace('False',0)\n",
    "df['clStatus']= df['clStatus'].replace('True',1)"
   ]
  },
  {
   "cell_type": "code",
   "execution_count": 443,
   "id": "4aa6d203",
   "metadata": {},
   "outputs": [],
   "source": [
    "df['clStatus']= df['clStatus'].astype('int')"
   ]
  },
  {
   "cell_type": "markdown",
   "id": "6227470d",
   "metadata": {},
   "source": [
    "### eFlag"
   ]
  },
  {
   "cell_type": "code",
   "execution_count": 444,
   "id": "1b16ebbf",
   "metadata": {},
   "outputs": [],
   "source": [
    "df['eFlag']= df['eFlag'].replace('False',0)\n",
    "df['eFlag']= df['eFlag'].replace('True',1)"
   ]
  },
  {
   "cell_type": "code",
   "execution_count": 445,
   "id": "ae73e1ed",
   "metadata": {},
   "outputs": [],
   "source": [
    "df['eFlag']= df['eFlag'].astype('int')"
   ]
  },
  {
   "cell_type": "markdown",
   "id": "4a66b00b",
   "metadata": {},
   "source": [
    "### cflag"
   ]
  },
  {
   "cell_type": "code",
   "execution_count": 446,
   "id": "7591f9a0",
   "metadata": {},
   "outputs": [
    {
     "data": {
      "text/plain": [
       "cflag\n",
       "FULLY               13938\n",
       "ONEWAY              13902\n",
       "UNCOLLATERALIZED    13860\n",
       "F                    2798\n",
       "UN                   2758\n",
       "OW                   2744\n",
       "Name: count, dtype: int64"
      ]
     },
     "execution_count": 446,
     "metadata": {},
     "output_type": "execute_result"
    }
   ],
   "source": [
    "df['cflag'].value_counts()"
   ]
  },
  {
   "cell_type": "code",
   "execution_count": 447,
   "id": "8bace395",
   "metadata": {},
   "outputs": [],
   "source": [
    "df['cflag']= df['cflag'].replace('F','FULLY')"
   ]
  },
  {
   "cell_type": "code",
   "execution_count": 448,
   "id": "40b5e3ae",
   "metadata": {},
   "outputs": [],
   "source": [
    "df['cflag']= df['cflag'].replace('UN','UNCOLLATERALIZED')\n",
    "df['cflag']= df['cflag'].replace('OW','ONEWAY')"
   ]
  },
  {
   "cell_type": "code",
   "execution_count": 449,
   "id": "0de967f6",
   "metadata": {},
   "outputs": [
    {
     "data": {
      "text/plain": [
       "cflag\n",
       "FULLY               16736\n",
       "ONEWAY              16646\n",
       "UNCOLLATERALIZED    16618\n",
       "Name: count, dtype: int64"
      ]
     },
     "execution_count": 449,
     "metadata": {},
     "output_type": "execute_result"
    }
   ],
   "source": [
    "df['cflag'].value_counts()"
   ]
  },
  {
   "cell_type": "markdown",
   "id": "be338e53",
   "metadata": {},
   "source": [
    "### method"
   ]
  },
  {
   "cell_type": "code",
   "execution_count": 450,
   "id": "99121435",
   "metadata": {},
   "outputs": [
    {
     "data": {
      "text/plain": [
       "method\n",
       "Electronic       10507\n",
       "NonElectronic    10460\n",
       "Nn-Electronic    10432\n",
       "NotConfirmed     10301\n",
       "E                 2141\n",
       "NC                2065\n",
       "NE                2064\n",
       "Non               2030\n",
       "Name: count, dtype: int64"
      ]
     },
     "execution_count": 450,
     "metadata": {},
     "output_type": "execute_result"
    }
   ],
   "source": [
    "df['method'].value_counts()"
   ]
  },
  {
   "cell_type": "code",
   "execution_count": 451,
   "id": "9772309b",
   "metadata": {},
   "outputs": [],
   "source": [
    "df['method']= df['method'].replace('E','Electronic')\n",
    "df['method']= df['method'].replace('NC','NotConfirmed')\n",
    "df['method']= df['method'].replace('NE','Nn-Electronic')\n",
    "df['method']= df['method'].replace('Non','NonElectronic')"
   ]
  },
  {
   "cell_type": "code",
   "execution_count": 452,
   "id": "45f670f6",
   "metadata": {},
   "outputs": [
    {
     "data": {
      "text/plain": [
       "method\n",
       "Electronic       12648\n",
       "Nn-Electronic    12496\n",
       "NonElectronic    12490\n",
       "NotConfirmed     12366\n",
       "Name: count, dtype: int64"
      ]
     },
     "execution_count": 452,
     "metadata": {},
     "output_type": "execute_result"
    }
   ],
   "source": [
    "df['method'].value_counts()"
   ]
  },
  {
   "cell_type": "markdown",
   "id": "7762fdaf",
   "metadata": {},
   "source": [
    "### mType"
   ]
  },
  {
   "cell_type": "code",
   "execution_count": 453,
   "id": "27815c78",
   "metadata": {},
   "outputs": [
    {
     "data": {
      "text/plain": [
       "mType\n",
       "Snapshot    20913\n",
       "Realtime    20787\n",
       "S            4174\n",
       "R            4126\n",
       "Name: count, dtype: int64"
      ]
     },
     "execution_count": 453,
     "metadata": {},
     "output_type": "execute_result"
    }
   ],
   "source": [
    "df['mType'].value_counts()"
   ]
  },
  {
   "cell_type": "code",
   "execution_count": 454,
   "id": "0a58dd1f",
   "metadata": {},
   "outputs": [],
   "source": [
    "df['mType']= df['mType'].replace('S','Snapshot')\n",
    "df['mType']= df['mType'].replace('R','Realtime')"
   ]
  },
  {
   "cell_type": "code",
   "execution_count": 455,
   "id": "3fe2b2c8",
   "metadata": {},
   "outputs": [
    {
     "data": {
      "text/plain": [
       "mType\n",
       "Snapshot    25087\n",
       "Realtime    24913\n",
       "Name: count, dtype: int64"
      ]
     },
     "execution_count": 455,
     "metadata": {},
     "output_type": "execute_result"
    }
   ],
   "source": [
    "df['mType'].value_counts()"
   ]
  },
  {
   "cell_type": "markdown",
   "id": "40210039",
   "metadata": {},
   "source": [
    "### transactionType"
   ]
  },
  {
   "cell_type": "code",
   "execution_count": 456,
   "id": "ed180328",
   "metadata": {},
   "outputs": [
    {
     "data": {
      "text/plain": [
       "transactionType\n",
       "TRADE    25633\n",
       "EXIT     24366\n",
       "Exit         1\n",
       "Name: count, dtype: int64"
      ]
     },
     "execution_count": 456,
     "metadata": {},
     "output_type": "execute_result"
    }
   ],
   "source": [
    "df['transactionType'].value_counts()"
   ]
  },
  {
   "cell_type": "code",
   "execution_count": 457,
   "id": "711cc895",
   "metadata": {},
   "outputs": [],
   "source": [
    "df['transactionType']= df['transactionType'].replace('Exit','EXIT')"
   ]
  },
  {
   "cell_type": "code",
   "execution_count": 458,
   "id": "becb60ea",
   "metadata": {},
   "outputs": [
    {
     "data": {
      "text/plain": [
       "transactionType\n",
       "TRADE    25633\n",
       "EXIT     24367\n",
       "Name: count, dtype: int64"
      ]
     },
     "execution_count": 458,
     "metadata": {},
     "output_type": "execute_result"
    }
   ],
   "source": [
    "df['transactionType'].value_counts()"
   ]
  },
  {
   "cell_type": "markdown",
   "id": "ca200200",
   "metadata": {},
   "source": [
    "### quantity"
   ]
  },
  {
   "cell_type": "code",
   "execution_count": 459,
   "id": "eebca85a",
   "metadata": {},
   "outputs": [
    {
     "data": {
      "text/plain": [
       "quantity\n",
       "1       32767\n",
       "1       17232\n",
       "asxa        1\n",
       "Name: count, dtype: int64"
      ]
     },
     "execution_count": 459,
     "metadata": {},
     "output_type": "execute_result"
    }
   ],
   "source": [
    "df['quantity'].value_counts()"
   ]
  },
  {
   "cell_type": "code",
   "execution_count": 460,
   "id": "98642333",
   "metadata": {},
   "outputs": [],
   "source": [
    "df['quantity']= df['quantity'].replace('asxa',1)"
   ]
  },
  {
   "cell_type": "code",
   "execution_count": 461,
   "id": "7c430f60",
   "metadata": {},
   "outputs": [],
   "source": [
    "df['quantity']= df['quantity'].replace('1',1)"
   ]
  },
  {
   "cell_type": "code",
   "execution_count": 462,
   "id": "b2f1fa8e",
   "metadata": {},
   "outputs": [
    {
     "data": {
      "text/plain": [
       "quantity\n",
       "1    50000\n",
       "Name: count, dtype: int64"
      ]
     },
     "execution_count": 462,
     "metadata": {},
     "output_type": "execute_result"
    }
   ],
   "source": [
    "df['quantity'].value_counts()"
   ]
  },
  {
   "cell_type": "markdown",
   "id": "bdafb97d",
   "metadata": {},
   "source": [
    "### Converting Quantity type into Int "
   ]
  },
  {
   "cell_type": "code",
   "execution_count": 463,
   "id": "f3dac3e8",
   "metadata": {},
   "outputs": [],
   "source": [
    "df['quantity']= df['quantity'].astype('int')"
   ]
  },
  {
   "cell_type": "code",
   "execution_count": 464,
   "id": "abdffb7d",
   "metadata": {},
   "outputs": [
    {
     "name": "stdout",
     "output_type": "stream",
     "text": [
      "<class 'pandas.core.frame.DataFrame'>\n",
      "RangeIndex: 50000 entries, 0 to 49999\n",
      "Data columns (total 27 columns):\n",
      " #   Column            Non-Null Count  Dtype              \n",
      "---  ------            --------------  -----              \n",
      " 0   tradeId           50000 non-null  int64              \n",
      " 1   regulator         50000 non-null  object             \n",
      " 2   version           50000 non-null  int64              \n",
      " 3   assetClass        50000 non-null  object             \n",
      " 4   clStatus          50000 non-null  int32              \n",
      " 5   cflag             50000 non-null  object             \n",
      " 6   eFlag             50000 non-null  int32              \n",
      " 7   cDateTime         50000 non-null  datetime64[ns, UTC]\n",
      " 8   method            50000 non-null  object             \n",
      " 9   rate              50000 non-null  float64            \n",
      " 10  expirationDate    50000 non-null  datetime64[ns, UTC]\n",
      " 11  eventT            50000 non-null  object             \n",
      " 12  mType             50000 non-null  object             \n",
      " 13  Timestamp         50000 non-null  datetime64[ns, UTC]\n",
      " 14  quantity          50000 non-null  int32              \n",
      " 15  seller            50000 non-null  object             \n",
      " 16  endDate           50000 non-null  datetime64[ns, UTC]\n",
      " 17  sType             50000 non-null  object             \n",
      " 18  Product           50000 non-null  object             \n",
      " 19  price             15014 non-null  float64            \n",
      " 20  terminationDate   43791 non-null  datetime64[ns, UTC]\n",
      " 21  party             50000 non-null  object             \n",
      " 22  PartyId           50000 non-null  int64              \n",
      " 23  transactionType   50000 non-null  object             \n",
      " 24  Reporting Status  50000 non-null  object             \n",
      " 25  Year              50000 non-null  int32              \n",
      " 26  Month             50000 non-null  int32              \n",
      "dtypes: datetime64[ns, UTC](5), float64(2), int32(5), int64(3), object(12)\n",
      "memory usage: 9.3+ MB\n"
     ]
    }
   ],
   "source": [
    "df.info()"
   ]
  },
  {
   "cell_type": "markdown",
   "id": "324f1870",
   "metadata": {},
   "source": [
    "## Univariate Analysis"
   ]
  },
  {
   "cell_type": "code",
   "execution_count": 211,
   "id": "68181b72",
   "metadata": {},
   "outputs": [
    {
     "data": {
      "image/png": "[encoded data removed]",
      "text/plain": [
       "<Figure size 1200x1000 with 2 Axes>"
      ]
     },
     "metadata": {},
     "output_type": "display_data"
    }
   ],
   "source": [
    "fig, axs = plt.subplots(2, 1, figsize=(12, 10))\n",
    "\n",
    "\n",
    "ax=df['method'].value_counts().plot(kind='bar', ax=axs[0], color='lightsteelblue')\n",
    "axs[0].set_title('Distribution of Method')\n",
    "for i in ax.containers:\n",
    "    ax.bar_label(i)\n",
    "\n",
    "cflag_counts = df['cflag'].value_counts()\n",
    "axs[1].pie(cflag_counts, labels=cflag_counts.index, autopct='%1.1f%%', colors=['orange', 'orchid'])\n",
    "axs[1].set_title('Distribution of Cflag')\n",
    "\n",
    "\n",
    "fig.tight_layout()\n",
    "\n",
    "\n",
    "plt.show()"
   ]
  },
  {
   "cell_type": "markdown",
   "id": "6bc700c7",
   "metadata": {},
   "source": [
    "- From above analysis most of the financial transactions were conducted Electronically.\n",
    "- As we can see from above chart of Clearing Flag Fully had an upperhand which is 33.5% as compared to others."
   ]
  },
  {
   "cell_type": "code",
   "execution_count": 213,
   "id": "91f2b899",
   "metadata": {},
   "outputs": [
    {
     "data": {
      "image/png": "[encoded data removed]",
      "text/plain": [
       "<Figure size 1200x1000 with 2 Axes>"
      ]
     },
     "metadata": {},
     "output_type": "display_data"
    }
   ],
   "source": [
    "fig, axs = plt.subplots(2, 1, figsize=(12, 10))\n",
    "\n",
    "\n",
    "ax=df['mType'].value_counts().plot(kind='barh', ax=axs[0], color='lightcoral')\n",
    "axs[0].set_title('Distribution of mType')\n",
    "for i in ax.containers:\n",
    "    ax.bar_label(i)\n",
    "\n",
    "\n",
    "ax1=df['Reporting Status'].value_counts().plot(kind='barh', ax=axs[1], color='lightgreen')\n",
    "axs[1].set_title('Distribution of Reporting Status')\n",
    "for i in ax1.containers:\n",
    "    ax1.bar_label(i)\n",
    "\n",
    "\n",
    "fig.tight_layout()\n",
    "\n",
    "\n",
    "plt.show()"
   ]
  },
  {
   "cell_type": "markdown",
   "id": "0c14f57c",
   "metadata": {},
   "source": [
    "- According to my analysis Snapshot was widely used to capture of the current state of the market.\n",
    "- As we can see most of the time the reporting status of a particular trade was intentionally being disregarded or not considered."
   ]
  },
  {
   "cell_type": "markdown",
   "id": "8ab33814",
   "metadata": {},
   "source": [
    "### Boxplot of Numerical Columns"
   ]
  },
  {
   "cell_type": "code",
   "execution_count": 82,
   "id": "d146e344",
   "metadata": {},
   "outputs": [
    {
     "data": {
      "image/png": "[encoded data removed]",
      "text/plain": [
       "<Figure size 640x480 with 1 Axes>"
      ]
     },
     "metadata": {},
     "output_type": "display_data"
    }
   ],
   "source": [
    "df.boxplot()\n",
    "plt.show()"
   ]
  },
  {
   "cell_type": "markdown",
   "id": "e2184270",
   "metadata": {},
   "source": [
    "### Distribution Plot"
   ]
  },
  {
   "cell_type": "code",
   "execution_count": 175,
   "id": "542b73b1",
   "metadata": {},
   "outputs": [
    {
     "data": {
      "image/png": "[encoded data removed]",
      "text/plain": [
       "<Figure size 640x480 with 1 Axes>"
      ]
     },
     "metadata": {},
     "output_type": "display_data"
    }
   ],
   "source": [
    "sns.distplot(df['price'])\n",
    "plt.show()"
   ]
  },
  {
   "cell_type": "code",
   "execution_count": 88,
   "id": "add7f2a6",
   "metadata": {},
   "outputs": [
    {
     "data": {
      "image/png": "[encoded data removed]",
      "text/plain": [
       "<Figure size 640x480 with 1 Axes>"
      ]
     },
     "metadata": {},
     "output_type": "display_data"
    }
   ],
   "source": [
    "sns.distplot(df['rate'])\n",
    "plt.show()"
   ]
  },
  {
   "cell_type": "code",
   "execution_count": 90,
   "id": "d6074e4a",
   "metadata": {},
   "outputs": [
    {
     "data": {
      "image/png": "[encoded data removed]",
      "text/plain": [
       "<Figure size 640x480 with 1 Axes>"
      ]
     },
     "metadata": {},
     "output_type": "display_data"
    }
   ],
   "source": [
    "plt.pie(df.eventT.value_counts(),labels=df.eventT.value_counts().index,autopct='%.2f%%')\n",
    "plt.show()"
   ]
  },
  {
   "cell_type": "markdown",
   "id": "ed0e3cd2",
   "metadata": {},
   "source": [
    "- As per my analysis most of the time termination occured as contract had expired,canceled,or reached a predefined condition."
   ]
  },
  {
   "cell_type": "code",
   "execution_count": 215,
   "id": "03b05dc8",
   "metadata": {},
   "outputs": [
    {
     "data": {
      "image/png": "[encoded data removed]",
      "text/plain": [
       "<Figure size 1200x800 with 2 Axes>"
      ]
     },
     "metadata": {},
     "output_type": "display_data"
    }
   ],
   "source": [
    "fig, axs = plt.subplots(2, 1, figsize=(12, 8))\n",
    "\n",
    "axs[0].bar(df['Product'].value_counts().index, df['Product'].value_counts(), color='purple')\n",
    "axs[0].set_title('Distribution of Products')\n",
    "axs[0].set_xticklabels(axs[0].get_xticklabels(), rotation=0)\n",
    "\n",
    "\n",
    "axs[1].bar(df['sType'].value_counts().index, df['sType'].value_counts(), color='teal')\n",
    "axs[1].set_title('Distribution of sType')\n",
    "axs[1].set_xticklabels(axs[1].get_xticklabels(), rotation=0)\n",
    "\n",
    "\n",
    "fig.tight_layout()\n",
    "\n",
    "plt.show()"
   ]
  },
  {
   "cell_type": "markdown",
   "id": "071b04d0",
   "metadata": {},
   "source": [
    "- As we can see mostly Swap was used where two parties agree to exchange cash flows or other financial instruments over a specified period.\n",
    "- As per my analysis most of the time trade involved the actual physical delivery of the underlying asset."
   ]
  },
  {
   "cell_type": "markdown",
   "id": "04df43c3",
   "metadata": {},
   "source": [
    "## Bivariate Analysis"
   ]
  },
  {
   "cell_type": "code",
   "execution_count": 483,
   "id": "7d61c250",
   "metadata": {},
   "outputs": [
    {
     "data": {
      "image/png": "[encoded data removed]",
      "text/plain": [
       "<Figure size 640x480 with 1 Axes>"
      ]
     },
     "metadata": {},
     "output_type": "display_data"
    }
   ],
   "source": [
    "sns.lineplot(x='Month',y='price',data=df,markers=True,hue='sType')\n",
    "plt.show()"
   ]
  },
  {
   "cell_type": "markdown",
   "id": "cf77c094",
   "metadata": {},
   "source": [
    "- As per analysis we could see monthy trend in price of the traded asset and the settlement type.\n",
    "- In the month of June and March the price seemed high and traded asset was settled through Physical delivery."
   ]
  },
  {
   "cell_type": "code",
   "execution_count": 121,
   "id": "a5878d0a",
   "metadata": {},
   "outputs": [
    {
     "data": {
      "image/png": "[encoded data removed]",
      "text/plain": [
       "<Figure size 1000x800 with 1 Axes>"
      ]
     },
     "metadata": {},
     "output_type": "display_data"
    }
   ],
   "source": [
    "plt.figure(figsize=(10, 8))\n",
    "\n",
    "\n",
    "ax = sns.countplot(x='Reporting Status', data=df, hue='transactionType', palette='viridis')\n",
    "\n",
    "\n",
    "for container in ax.containers:\n",
    "    ax.bar_label(container, fmt='%d', label_type='edge', color='black', fontsize=10, weight='bold')\n",
    "\n",
    "\n",
    "plt.title('Count of Transactions by Reporting Status and Transaction Type', fontsize=14, weight='bold')\n",
    "\n",
    "\n",
    "plt.xlabel('Reporting Status', fontsize=12)\n",
    "plt.ylabel('Count', fontsize=12)\n",
    "\n",
    "plt.legend(title='Transaction Type', title_fontsize='12', fontsize='10')\n",
    "\n",
    "\n",
    "plt.tight_layout()\n",
    "\n",
    "\n",
    "plt.show()"
   ]
  },
  {
   "cell_type": "markdown",
   "id": "66bf6251",
   "metadata": {},
   "source": [
    "- As we can see most of the transactions were Ignored or not reported the traded transactions were ignored most of the time.\n",
    "- The number of acknowledged traded transactions were quite low."
   ]
  },
  {
   "cell_type": "code",
   "execution_count": 125,
   "id": "26b9687d",
   "metadata": {},
   "outputs": [
    {
     "data": {
      "image/png": "[encoded data removed]",
      "text/plain": [
       "<Figure size 1000x800 with 1 Axes>"
      ]
     },
     "metadata": {},
     "output_type": "display_data"
    }
   ],
   "source": [
    "plt.figure(figsize=(10, 8))\n",
    "\n",
    "\n",
    "ax = sns.countplot(x='Reporting Status', data=df, hue='cflag', palette='Set2')\n",
    "\n",
    "\n",
    "for container in ax.containers:\n",
    "    ax.bar_label(container, fmt='%d', label_type='edge', fontsize=8, color='black', weight='bold')\n",
    "\n",
    "\n",
    "plt.title('Count of Transactions by Reporting Status and Cflag', fontsize=14, weight='bold')\n",
    "\n",
    "\n",
    "plt.xlabel('Reporting Status', fontsize=12)\n",
    "plt.ylabel('Count', fontsize=12)\n",
    "\n",
    "\n",
    "plt.legend(title='Cflag', title_fontsize='12', fontsize='10')\n",
    "\n",
    "plt.tight_layout()\n",
    "\n",
    "plt.show()"
   ]
  },
  {
   "cell_type": "markdown",
   "id": "463ede22",
   "metadata": {},
   "source": [
    "- From above we can interpret that most of the transactions that were fully cleared were not reported or ignored.\n",
    "- The acknowledged transactions that were fully cleared were quite low."
   ]
  },
  {
   "cell_type": "code",
   "execution_count": 484,
   "id": "41147126",
   "metadata": {},
   "outputs": [
    {
     "data": {
      "image/png": "[encoded data removed]",
      "text/plain": [
       "<Figure size 640x480 with 1 Axes>"
      ]
     },
     "metadata": {},
     "output_type": "display_data"
    }
   ],
   "source": [
    "ax=sns.countplot(x='party',hue='transactionType',data=df,palette='flare')\n",
    "for i in ax.containers:\n",
    "    ax.bar_label(i)\n",
    "plt.show()"
   ]
  },
  {
   "cell_type": "markdown",
   "id": "0f6f878f",
   "metadata": {},
   "source": [
    "- According to my analysis PartyX had higher number of transactions as they have traded more number of times than others.\n",
    "- PartyZ had lower number of transactions that they have traded as compared to other parties."
   ]
  },
  {
   "cell_type": "markdown",
   "id": "ad8803b6",
   "metadata": {},
   "source": [
    "# Summary Report"
   ]
  },
  {
   "cell_type": "markdown",
   "id": "9d5fa0b2",
   "metadata": {},
   "source": [
    "## Introduction"
   ]
  },
  {
   "cell_type": "markdown",
   "id": "d4fed102",
   "metadata": {},
   "source": [
    "- This report presents a comprehensive analysis of trade data, focusing on key variables such as method, cflag, and their respective distributions. \n",
    "- The analysis aims to provide valuable insights into the patterns and characteristics of the trades."
   ]
  },
  {
   "cell_type": "markdown",
   "id": "98441815",
   "metadata": {},
   "source": [
    "## Data Overview"
   ]
  },
  {
   "cell_type": "markdown",
   "id": "18962d8d",
   "metadata": {},
   "source": [
    "- The dataset contains information about trades, including attributes such as method, cflag, and others. \n",
    "- The analysis is based on 50000 rows and 26 columns."
   ]
  },
  {
   "cell_type": "markdown",
   "id": "87feae03",
   "metadata": {},
   "source": [
    "## Key Findings"
   ]
  },
  {
   "cell_type": "markdown",
   "id": "6a313f7d",
   "metadata": {},
   "source": [
    "### 1. Distribution of Method"
   ]
  },
  {
   "cell_type": "markdown",
   "id": "307fb6b0",
   "metadata": {},
   "source": [
    "- The distribution of trade methods reveals that most of the financial transactions were conducted Electronically.\n",
    "- Method Electronic was the most prevalent, representing 25.2% of all trades."
   ]
  },
  {
   "cell_type": "markdown",
   "id": "c28bc73c",
   "metadata": {},
   "source": [
    "### 2. Distribution of Cflag"
   ]
  },
  {
   "cell_type": "markdown",
   "id": "fa855b88",
   "metadata": {},
   "source": [
    "- The Cflag distribution illustrates that Fully had more weightage as compared to others.\n",
    "- Cflag Fully was the most prevalent representing 33.5% and the least Cflag is Uncollateralized which is 33.2%."
   ]
  },
  {
   "cell_type": "markdown",
   "id": "af5a29e5",
   "metadata": {},
   "source": [
    "### 3. Distribution of mType"
   ]
  },
  {
   "cell_type": "markdown",
   "id": "6f2241b0",
   "metadata": {},
   "source": [
    "- The distribution of mType reveals that Snapshot was widely used to capture of the current state of the market.\n",
    "- Snapshot was the most prevalent, representing 50.1% of all other mType."
   ]
  },
  {
   "cell_type": "markdown",
   "id": "32375977",
   "metadata": {},
   "source": [
    "### 4. Distribution of Reporting Status"
   ]
  },
  {
   "cell_type": "markdown",
   "id": "a730e3d7",
   "metadata": {},
   "source": [
    "- Most of the time the reporting status of a particular trade was intentionally being disregarded or not considered.\n",
    "- Ignored was the most prevalent, representing 25.7% of all other trade reporting status."
   ]
  },
  {
   "cell_type": "markdown",
   "id": "7646f091",
   "metadata": {},
   "source": [
    "### 5. Distribution of Event Types"
   ]
  },
  {
   "cell_type": "markdown",
   "id": "6eb20aec",
   "metadata": {},
   "source": [
    "- Most of the time termination occured as contract had expired,canceled,or reached a predefined condition.\n",
    "- Termination was the most prevalent, representing 11.39% of all other event types."
   ]
  },
  {
   "cell_type": "markdown",
   "id": "dd9d8426",
   "metadata": {},
   "source": [
    "### 6. Distribution of Products"
   ]
  },
  {
   "cell_type": "markdown",
   "id": "ace48b75",
   "metadata": {},
   "source": [
    "- The distribution of Products reveals that Swap was the most frequent way through which financial product was traded.\n",
    "- Swap was the most prevalent, representing 83.4% of all other products."
   ]
  },
  {
   "cell_type": "markdown",
   "id": "c4707f6a",
   "metadata": {},
   "source": [
    "### 7. Distribution of sType"
   ]
  },
  {
   "cell_type": "markdown",
   "id": "c78816d2",
   "metadata": {},
   "source": [
    "- The distribution of sType reveals that Physical was widely used as a settlement method while trading.\n",
    "- Physical was the most prevalent, representing 50.1% of all other sTypes."
   ]
  },
  {
   "cell_type": "markdown",
   "id": "df613ae6",
   "metadata": {},
   "source": [
    "### 8. Monthly Trend of Price of Asset with Settlement Type"
   ]
  },
  {
   "cell_type": "markdown",
   "id": "a00def46",
   "metadata": {},
   "source": [
    "- Monthy trend in price of the traded asset and the settlement type.\n",
    "- In the month of June and March the price seemed high and traded asset was settled through Physical delivery."
   ]
  },
  {
   "cell_type": "markdown",
   "id": "1567442b",
   "metadata": {},
   "source": [
    "### 9. Status of Transactions with Type of Transaction"
   ]
  },
  {
   "cell_type": "markdown",
   "id": "7276bedb",
   "metadata": {},
   "source": [
    "- The transactions were Ignored or not reported the traded transactions were ignored most of the time.\n",
    "- The number of acknowledged traded transactions were quite low."
   ]
  },
  {
   "cell_type": "markdown",
   "id": "05d106eb",
   "metadata": {},
   "source": [
    "### 10. Reporting Status of Transactions with Clearance Flag"
   ]
  },
  {
   "cell_type": "markdown",
   "id": "3bd347db",
   "metadata": {},
   "source": [
    "- The transactions that were fully cleared were not reported or ignored.\n",
    "- The acknowledged transactions that were fully cleared were quite low."
   ]
  },
  {
   "cell_type": "markdown",
   "id": "cca2d7b6",
   "metadata": {},
   "source": [
    "### 11. Transactions of Parties with Type of Transaction"
   ]
  },
  {
   "cell_type": "markdown",
   "id": "08436c8c",
   "metadata": {},
   "source": [
    "- PartyX had higher number of transactions as they have traded more number of times than others.\n",
    "- PartyZ had lower number of transactions that they have traded as compared to other parties."
   ]
  },
  {
   "cell_type": "markdown",
   "id": "6450040a",
   "metadata": {},
   "source": [
    "## Conclusion"
   ]
  },
  {
   "cell_type": "markdown",
   "id": "d9a6d21a",
   "metadata": {},
   "source": [
    "- In conclusion, this analysis offers valuable insights into the trade data, emphasizing key patterns and relationships among different variables. \n",
    "- The findings provide a foundation for informed decision-making and potential areas for further exploration."
   ]
  },
  {
   "cell_type": "markdown",
   "id": "45021d99",
   "metadata": {},
   "source": [
    "## Handling Missing Data"
   ]
  },
  {
   "cell_type": "code",
   "execution_count": 489,
   "id": "f3daf5f0",
   "metadata": {},
   "outputs": [
    {
     "data": {
      "text/plain": [
       "tradeId                 0\n",
       "regulator               0\n",
       "version                 0\n",
       "assetClass              0\n",
       "clStatus                0\n",
       "cflag                   0\n",
       "eFlag                   0\n",
       "cDateTime               0\n",
       "method                  0\n",
       "rate                    0\n",
       "expirationDate          0\n",
       "eventT                  0\n",
       "mType                   0\n",
       "Timestamp               0\n",
       "quantity                0\n",
       "seller                  0\n",
       "endDate                 0\n",
       "sType                   0\n",
       "Product                 0\n",
       "price               34986\n",
       "terminationDate      6209\n",
       "party                   0\n",
       "PartyId                 0\n",
       "transactionType         0\n",
       "Reporting Status        0\n",
       "Year                    0\n",
       "Month                   0\n",
       "dtype: int64"
      ]
     },
     "execution_count": 489,
     "metadata": {},
     "output_type": "execute_result"
    }
   ],
   "source": [
    "df.isnull().sum()"
   ]
  },
  {
   "cell_type": "code",
   "execution_count": 490,
   "id": "32f80a4b",
   "metadata": {},
   "outputs": [],
   "source": [
    "# As price column has approximately 70% missing values then we can drop that column\n",
    "\n",
    "df= df.drop(columns=['price'])"
   ]
  },
  {
   "cell_type": "code",
   "execution_count": 491,
   "id": "1edd8315",
   "metadata": {},
   "outputs": [],
   "source": [
    "# Column terminationDate has 12% missing values so we can drop the null values rows\n",
    "\n",
    "df= df.dropna(subset=['terminationDate'])"
   ]
  },
  {
   "cell_type": "code",
   "execution_count": 492,
   "id": "2121e388",
   "metadata": {},
   "outputs": [
    {
     "data": {
      "text/plain": [
       "tradeId             0\n",
       "regulator           0\n",
       "version             0\n",
       "assetClass          0\n",
       "clStatus            0\n",
       "cflag               0\n",
       "eFlag               0\n",
       "cDateTime           0\n",
       "method              0\n",
       "rate                0\n",
       "expirationDate      0\n",
       "eventT              0\n",
       "mType               0\n",
       "Timestamp           0\n",
       "quantity            0\n",
       "seller              0\n",
       "endDate             0\n",
       "sType               0\n",
       "Product             0\n",
       "terminationDate     0\n",
       "party               0\n",
       "PartyId             0\n",
       "transactionType     0\n",
       "Reporting Status    0\n",
       "Year                0\n",
       "Month               0\n",
       "dtype: int64"
      ]
     },
     "execution_count": 492,
     "metadata": {},
     "output_type": "execute_result"
    }
   ],
   "source": [
    "df.isnull().sum()"
   ]
  },
  {
   "cell_type": "markdown",
   "id": "408dbfc4",
   "metadata": {},
   "source": [
    "## Dropping Unnecessary Columns"
   ]
  },
  {
   "cell_type": "code",
   "execution_count": 493,
   "id": "58da0cd9",
   "metadata": {},
   "outputs": [],
   "source": [
    "df= df.drop(columns=['tradeId','regulator','assetClass','quantity'])"
   ]
  },
  {
   "cell_type": "code",
   "execution_count": 494,
   "id": "d285fa3e",
   "metadata": {},
   "outputs": [],
   "source": [
    "df1=df.copy()"
   ]
  },
  {
   "cell_type": "code",
   "execution_count": 495,
   "id": "12159859",
   "metadata": {},
   "outputs": [],
   "source": [
    "df1= df1.drop(columns=['cDateTime','expirationDate','Timestamp','endDate','terminationDate'])"
   ]
  },
  {
   "cell_type": "markdown",
   "id": "f888b02d",
   "metadata": {},
   "source": [
    "## Categorical Columns"
   ]
  },
  {
   "cell_type": "markdown",
   "id": "ce1a2684",
   "metadata": {},
   "source": [
    "- Categorical Features- cflag, method, eventT, mType, seller, sType, Product, party, transactionType, Reporting Status"
   ]
  },
  {
   "cell_type": "markdown",
   "id": "1b0e545d",
   "metadata": {},
   "source": [
    "# Encoding"
   ]
  },
  {
   "cell_type": "markdown",
   "id": "624a304e",
   "metadata": {},
   "source": [
    "### Label Encoding"
   ]
  },
  {
   "cell_type": "code",
   "execution_count": 496,
   "id": "9c93073d",
   "metadata": {},
   "outputs": [],
   "source": [
    "df1['cflag']= df1['cflag'].astype('category')\n",
    "df1['cflag']= df1['cflag'].cat.codes"
   ]
  },
  {
   "cell_type": "code",
   "execution_count": 497,
   "id": "a23d64f4",
   "metadata": {},
   "outputs": [],
   "source": [
    "df1['method']= df1['method'].astype('category')\n",
    "df1['method']= df1['method'].cat.codes"
   ]
  },
  {
   "cell_type": "code",
   "execution_count": 498,
   "id": "9daabde4",
   "metadata": {},
   "outputs": [],
   "source": [
    "df1['mType']= df1['mType'].astype('category')\n",
    "df1['mType']= df1['mType'].cat.codes"
   ]
  },
  {
   "cell_type": "code",
   "execution_count": 499,
   "id": "52630b2b",
   "metadata": {},
   "outputs": [],
   "source": [
    "df1['seller']= df1['seller'].astype('category')\n",
    "df1['seller']= df1['seller'].cat.codes"
   ]
  },
  {
   "cell_type": "code",
   "execution_count": 500,
   "id": "5410dce6",
   "metadata": {},
   "outputs": [],
   "source": [
    "df1['sType']= df1['sType'].astype('category')\n",
    "df1['sType']= df1['sType'].cat.codes"
   ]
  },
  {
   "cell_type": "code",
   "execution_count": 501,
   "id": "e468ad2d",
   "metadata": {},
   "outputs": [],
   "source": [
    "df1['Product']= df1['Product'].astype('category')\n",
    "df1['Product']= df1['Product'].cat.codes"
   ]
  },
  {
   "cell_type": "code",
   "execution_count": 502,
   "id": "7c371fd2",
   "metadata": {},
   "outputs": [],
   "source": [
    "df1['transactionType']= df1['transactionType'].astype('category')\n",
    "df1['transactionType']= df1['transactionType'].cat.codes"
   ]
  },
  {
   "cell_type": "code",
   "execution_count": 503,
   "id": "4511a9c3",
   "metadata": {},
   "outputs": [],
   "source": [
    "df1['Reporting Status']= df1['Reporting Status'].astype('category')\n",
    "df1['Reporting Status']= df1['Reporting Status'].cat.codes"
   ]
  },
  {
   "cell_type": "markdown",
   "id": "dbf7d744",
   "metadata": {},
   "source": [
    "### One Hot Encoder"
   ]
  },
  {
   "cell_type": "code",
   "execution_count": 504,
   "id": "fd9bbb1c",
   "metadata": {},
   "outputs": [],
   "source": [
    "df1= pd.get_dummies(columns=['eventT','party'],data=df1,drop_first=True,dtype='float')"
   ]
  },
  {
   "cell_type": "code",
   "execution_count": 505,
   "id": "599345af",
   "metadata": {},
   "outputs": [
    {
     "data": {
      "text/html": [
       "<div>\n",
       "<style scoped>\n",
       "    .dataframe tbody tr th:only-of-type {\n",
       "        vertical-align: middle;\n",
       "    }\n",
       "\n",
       "    .dataframe tbody tr th {\n",
       "        vertical-align: top;\n",
       "    }\n",
       "\n",
       "    .dataframe thead th {\n",
       "        text-align: right;\n",
       "    }\n",
       "</style>\n",
       "<table border=\"1\" class=\"dataframe\">\n",
       "  <thead>\n",
       "    <tr style=\"text-align: right;\">\n",
       "      <th></th>\n",
       "      <th>version</th>\n",
       "      <th>clStatus</th>\n",
       "      <th>cflag</th>\n",
       "      <th>eFlag</th>\n",
       "      <th>method</th>\n",
       "      <th>rate</th>\n",
       "      <th>mType</th>\n",
       "      <th>seller</th>\n",
       "      <th>sType</th>\n",
       "      <th>Product</th>\n",
       "      <th>...</th>\n",
       "      <th>eventT_Exercise</th>\n",
       "      <th>eventT_Novation</th>\n",
       "      <th>eventT_NovationTrade</th>\n",
       "      <th>eventT_PartialExercise</th>\n",
       "      <th>eventT_Termination</th>\n",
       "      <th>eventT_Trade</th>\n",
       "      <th>party_PartyL</th>\n",
       "      <th>party_PartyX</th>\n",
       "      <th>party_PartyY</th>\n",
       "      <th>party_PartyZ</th>\n",
       "    </tr>\n",
       "  </thead>\n",
       "  <tbody>\n",
       "    <tr>\n",
       "      <th>0</th>\n",
       "      <td>1</td>\n",
       "      <td>1</td>\n",
       "      <td>0</td>\n",
       "      <td>0</td>\n",
       "      <td>2</td>\n",
       "      <td>3204.6267</td>\n",
       "      <td>0</td>\n",
       "      <td>0</td>\n",
       "      <td>0</td>\n",
       "      <td>2</td>\n",
       "      <td>...</td>\n",
       "      <td>0.0</td>\n",
       "      <td>0.0</td>\n",
       "      <td>0.0</td>\n",
       "      <td>0.0</td>\n",
       "      <td>0.0</td>\n",
       "      <td>0.0</td>\n",
       "      <td>0.0</td>\n",
       "      <td>0.0</td>\n",
       "      <td>0.0</td>\n",
       "      <td>1.0</td>\n",
       "    </tr>\n",
       "    <tr>\n",
       "      <th>1</th>\n",
       "      <td>9</td>\n",
       "      <td>0</td>\n",
       "      <td>0</td>\n",
       "      <td>0</td>\n",
       "      <td>3</td>\n",
       "      <td>1061.6943</td>\n",
       "      <td>1</td>\n",
       "      <td>1</td>\n",
       "      <td>0</td>\n",
       "      <td>2</td>\n",
       "      <td>...</td>\n",
       "      <td>0.0</td>\n",
       "      <td>0.0</td>\n",
       "      <td>1.0</td>\n",
       "      <td>0.0</td>\n",
       "      <td>0.0</td>\n",
       "      <td>0.0</td>\n",
       "      <td>0.0</td>\n",
       "      <td>1.0</td>\n",
       "      <td>0.0</td>\n",
       "      <td>0.0</td>\n",
       "    </tr>\n",
       "    <tr>\n",
       "      <th>2</th>\n",
       "      <td>8</td>\n",
       "      <td>0</td>\n",
       "      <td>0</td>\n",
       "      <td>0</td>\n",
       "      <td>2</td>\n",
       "      <td>9338.9422</td>\n",
       "      <td>0</td>\n",
       "      <td>1</td>\n",
       "      <td>1</td>\n",
       "      <td>2</td>\n",
       "      <td>...</td>\n",
       "      <td>0.0</td>\n",
       "      <td>0.0</td>\n",
       "      <td>1.0</td>\n",
       "      <td>0.0</td>\n",
       "      <td>0.0</td>\n",
       "      <td>0.0</td>\n",
       "      <td>0.0</td>\n",
       "      <td>1.0</td>\n",
       "      <td>0.0</td>\n",
       "      <td>0.0</td>\n",
       "    </tr>\n",
       "    <tr>\n",
       "      <th>3</th>\n",
       "      <td>1</td>\n",
       "      <td>0</td>\n",
       "      <td>0</td>\n",
       "      <td>1</td>\n",
       "      <td>0</td>\n",
       "      <td>9303.3931</td>\n",
       "      <td>0</td>\n",
       "      <td>1</td>\n",
       "      <td>0</td>\n",
       "      <td>3</td>\n",
       "      <td>...</td>\n",
       "      <td>1.0</td>\n",
       "      <td>0.0</td>\n",
       "      <td>0.0</td>\n",
       "      <td>0.0</td>\n",
       "      <td>0.0</td>\n",
       "      <td>0.0</td>\n",
       "      <td>0.0</td>\n",
       "      <td>0.0</td>\n",
       "      <td>0.0</td>\n",
       "      <td>0.0</td>\n",
       "    </tr>\n",
       "    <tr>\n",
       "      <th>4</th>\n",
       "      <td>1</td>\n",
       "      <td>1</td>\n",
       "      <td>1</td>\n",
       "      <td>0</td>\n",
       "      <td>0</td>\n",
       "      <td>9684.7840</td>\n",
       "      <td>1</td>\n",
       "      <td>0</td>\n",
       "      <td>0</td>\n",
       "      <td>2</td>\n",
       "      <td>...</td>\n",
       "      <td>0.0</td>\n",
       "      <td>0.0</td>\n",
       "      <td>0.0</td>\n",
       "      <td>0.0</td>\n",
       "      <td>0.0</td>\n",
       "      <td>1.0</td>\n",
       "      <td>0.0</td>\n",
       "      <td>1.0</td>\n",
       "      <td>0.0</td>\n",
       "      <td>0.0</td>\n",
       "    </tr>\n",
       "  </tbody>\n",
       "</table>\n",
       "<p>5 rows × 27 columns</p>\n",
       "</div>"
      ],
      "text/plain": [
       "   version  clStatus  cflag  eFlag  method       rate  mType  seller  sType  \\\n",
       "0        1         1      0      0       2  3204.6267      0       0      0   \n",
       "1        9         0      0      0       3  1061.6943      1       1      0   \n",
       "2        8         0      0      0       2  9338.9422      0       1      1   \n",
       "3        1         0      0      1       0  9303.3931      0       1      0   \n",
       "4        1         1      1      0       0  9684.7840      1       0      0   \n",
       "\n",
       "   Product  ...  eventT_Exercise  eventT_Novation  eventT_NovationTrade  \\\n",
       "0        2  ...              0.0              0.0                   0.0   \n",
       "1        2  ...              0.0              0.0                   1.0   \n",
       "2        2  ...              0.0              0.0                   1.0   \n",
       "3        3  ...              1.0              0.0                   0.0   \n",
       "4        2  ...              0.0              0.0                   0.0   \n",
       "\n",
       "   eventT_PartialExercise  eventT_Termination  eventT_Trade  party_PartyL  \\\n",
       "0                     0.0                 0.0           0.0           0.0   \n",
       "1                     0.0                 0.0           0.0           0.0   \n",
       "2                     0.0                 0.0           0.0           0.0   \n",
       "3                     0.0                 0.0           0.0           0.0   \n",
       "4                     0.0                 0.0           1.0           0.0   \n",
       "\n",
       "   party_PartyX  party_PartyY  party_PartyZ  \n",
       "0           0.0           0.0           1.0  \n",
       "1           1.0           0.0           0.0  \n",
       "2           1.0           0.0           0.0  \n",
       "3           0.0           0.0           0.0  \n",
       "4           1.0           0.0           0.0  \n",
       "\n",
       "[5 rows x 27 columns]"
      ]
     },
     "execution_count": 505,
     "metadata": {},
     "output_type": "execute_result"
    }
   ],
   "source": [
    "df1.head()"
   ]
  },
  {
   "cell_type": "code",
   "execution_count": 506,
   "id": "12cdb7e3",
   "metadata": {},
   "outputs": [
    {
     "name": "stdout",
     "output_type": "stream",
     "text": [
      "<class 'pandas.core.frame.DataFrame'>\n",
      "Index: 43791 entries, 0 to 49998\n",
      "Data columns (total 27 columns):\n",
      " #   Column                  Non-Null Count  Dtype  \n",
      "---  ------                  --------------  -----  \n",
      " 0   version                 43791 non-null  int64  \n",
      " 1   clStatus                43791 non-null  int32  \n",
      " 2   cflag                   43791 non-null  int8   \n",
      " 3   eFlag                   43791 non-null  int32  \n",
      " 4   method                  43791 non-null  int8   \n",
      " 5   rate                    43791 non-null  float64\n",
      " 6   mType                   43791 non-null  int8   \n",
      " 7   seller                  43791 non-null  int8   \n",
      " 8   sType                   43791 non-null  int8   \n",
      " 9   Product                 43791 non-null  int8   \n",
      " 10  PartyId                 43791 non-null  int64  \n",
      " 11  transactionType         43791 non-null  int8   \n",
      " 12  Reporting Status        43791 non-null  int8   \n",
      " 13  Year                    43791 non-null  int32  \n",
      " 14  Month                   43791 non-null  int32  \n",
      " 15  eventT_Compression      43791 non-null  float64\n",
      " 16  eventT_Error            43791 non-null  float64\n",
      " 17  eventT_Exercise         43791 non-null  float64\n",
      " 18  eventT_Novation         43791 non-null  float64\n",
      " 19  eventT_NovationTrade    43791 non-null  float64\n",
      " 20  eventT_PartialExercise  43791 non-null  float64\n",
      " 21  eventT_Termination      43791 non-null  float64\n",
      " 22  eventT_Trade            43791 non-null  float64\n",
      " 23  party_PartyL            43791 non-null  float64\n",
      " 24  party_PartyX            43791 non-null  float64\n",
      " 25  party_PartyY            43791 non-null  float64\n",
      " 26  party_PartyZ            43791 non-null  float64\n",
      "dtypes: float64(13), int32(4), int64(2), int8(8)\n",
      "memory usage: 6.3 MB\n"
     ]
    }
   ],
   "source": [
    "df1.info()"
   ]
  },
  {
   "cell_type": "markdown",
   "id": "c366f361",
   "metadata": {},
   "source": [
    "# Check Correlation"
   ]
  },
  {
   "cell_type": "code",
   "execution_count": 507,
   "id": "509b78ff",
   "metadata": {},
   "outputs": [
    {
     "data": {
      "text/html": [
       "<div>\n",
       "<style scoped>\n",
       "    .dataframe tbody tr th:only-of-type {\n",
       "        vertical-align: middle;\n",
       "    }\n",
       "\n",
       "    .dataframe tbody tr th {\n",
       "        vertical-align: top;\n",
       "    }\n",
       "\n",
       "    .dataframe thead th {\n",
       "        text-align: right;\n",
       "    }\n",
       "</style>\n",
       "<table border=\"1\" class=\"dataframe\">\n",
       "  <thead>\n",
       "    <tr style=\"text-align: right;\">\n",
       "      <th></th>\n",
       "      <th>version</th>\n",
       "      <th>clStatus</th>\n",
       "      <th>cflag</th>\n",
       "      <th>eFlag</th>\n",
       "      <th>method</th>\n",
       "      <th>rate</th>\n",
       "      <th>mType</th>\n",
       "      <th>seller</th>\n",
       "      <th>sType</th>\n",
       "      <th>Product</th>\n",
       "      <th>...</th>\n",
       "      <th>eventT_Exercise</th>\n",
       "      <th>eventT_Novation</th>\n",
       "      <th>eventT_NovationTrade</th>\n",
       "      <th>eventT_PartialExercise</th>\n",
       "      <th>eventT_Termination</th>\n",
       "      <th>eventT_Trade</th>\n",
       "      <th>party_PartyL</th>\n",
       "      <th>party_PartyX</th>\n",
       "      <th>party_PartyY</th>\n",
       "      <th>party_PartyZ</th>\n",
       "    </tr>\n",
       "  </thead>\n",
       "  <tbody>\n",
       "    <tr>\n",
       "      <th>version</th>\n",
       "      <td>1.000000</td>\n",
       "      <td>-0.001173</td>\n",
       "      <td>0.005997</td>\n",
       "      <td>0.000336</td>\n",
       "      <td>0.002018</td>\n",
       "      <td>0.004245</td>\n",
       "      <td>-0.001017</td>\n",
       "      <td>-0.001676</td>\n",
       "      <td>-0.003134</td>\n",
       "      <td>-0.001804</td>\n",
       "      <td>...</td>\n",
       "      <td>0.003403</td>\n",
       "      <td>0.008141</td>\n",
       "      <td>0.003360</td>\n",
       "      <td>-0.000686</td>\n",
       "      <td>-0.009352</td>\n",
       "      <td>0.007715</td>\n",
       "      <td>0.008975</td>\n",
       "      <td>-0.002150</td>\n",
       "      <td>-0.011605</td>\n",
       "      <td>0.003505</td>\n",
       "    </tr>\n",
       "    <tr>\n",
       "      <th>clStatus</th>\n",
       "      <td>-0.001173</td>\n",
       "      <td>1.000000</td>\n",
       "      <td>-0.002000</td>\n",
       "      <td>-0.005795</td>\n",
       "      <td>-0.004011</td>\n",
       "      <td>-0.008206</td>\n",
       "      <td>-0.002442</td>\n",
       "      <td>0.003582</td>\n",
       "      <td>0.003017</td>\n",
       "      <td>-0.127855</td>\n",
       "      <td>...</td>\n",
       "      <td>-0.001324</td>\n",
       "      <td>0.001651</td>\n",
       "      <td>-0.004449</td>\n",
       "      <td>0.002750</td>\n",
       "      <td>0.004597</td>\n",
       "      <td>-0.007356</td>\n",
       "      <td>-0.036580</td>\n",
       "      <td>-0.036299</td>\n",
       "      <td>-0.026512</td>\n",
       "      <td>-0.040397</td>\n",
       "    </tr>\n",
       "    <tr>\n",
       "      <th>cflag</th>\n",
       "      <td>0.005997</td>\n",
       "      <td>-0.002000</td>\n",
       "      <td>1.000000</td>\n",
       "      <td>0.007271</td>\n",
       "      <td>-0.001212</td>\n",
       "      <td>0.002206</td>\n",
       "      <td>0.003079</td>\n",
       "      <td>-0.006424</td>\n",
       "      <td>0.000617</td>\n",
       "      <td>-0.002238</td>\n",
       "      <td>...</td>\n",
       "      <td>0.000909</td>\n",
       "      <td>0.003600</td>\n",
       "      <td>0.002698</td>\n",
       "      <td>0.002155</td>\n",
       "      <td>-0.007792</td>\n",
       "      <td>0.006124</td>\n",
       "      <td>0.001896</td>\n",
       "      <td>0.002887</td>\n",
       "      <td>-0.002458</td>\n",
       "      <td>-0.003041</td>\n",
       "    </tr>\n",
       "    <tr>\n",
       "      <th>eFlag</th>\n",
       "      <td>0.000336</td>\n",
       "      <td>-0.005795</td>\n",
       "      <td>0.007271</td>\n",
       "      <td>1.000000</td>\n",
       "      <td>-0.005210</td>\n",
       "      <td>-0.002711</td>\n",
       "      <td>0.003629</td>\n",
       "      <td>-0.010030</td>\n",
       "      <td>0.001620</td>\n",
       "      <td>-0.002037</td>\n",
       "      <td>...</td>\n",
       "      <td>0.003224</td>\n",
       "      <td>0.005318</td>\n",
       "      <td>0.000554</td>\n",
       "      <td>-0.005701</td>\n",
       "      <td>-0.005781</td>\n",
       "      <td>0.001552</td>\n",
       "      <td>-0.004886</td>\n",
       "      <td>0.005032</td>\n",
       "      <td>0.005639</td>\n",
       "      <td>-0.008141</td>\n",
       "    </tr>\n",
       "    <tr>\n",
       "      <th>method</th>\n",
       "      <td>0.002018</td>\n",
       "      <td>-0.004011</td>\n",
       "      <td>-0.001212</td>\n",
       "      <td>-0.005210</td>\n",
       "      <td>1.000000</td>\n",
       "      <td>-0.002514</td>\n",
       "      <td>-0.003026</td>\n",
       "      <td>0.004522</td>\n",
       "      <td>-0.005199</td>\n",
       "      <td>-0.002036</td>\n",
       "      <td>...</td>\n",
       "      <td>0.002272</td>\n",
       "      <td>-0.003630</td>\n",
       "      <td>-0.005715</td>\n",
       "      <td>-0.001750</td>\n",
       "      <td>0.000564</td>\n",
       "      <td>0.004778</td>\n",
       "      <td>0.005110</td>\n",
       "      <td>-0.006082</td>\n",
       "      <td>-0.003348</td>\n",
       "      <td>-0.001396</td>\n",
       "    </tr>\n",
       "    <tr>\n",
       "      <th>rate</th>\n",
       "      <td>0.004245</td>\n",
       "      <td>-0.008206</td>\n",
       "      <td>0.002206</td>\n",
       "      <td>-0.002711</td>\n",
       "      <td>-0.002514</td>\n",
       "      <td>1.000000</td>\n",
       "      <td>-0.007298</td>\n",
       "      <td>-0.003125</td>\n",
       "      <td>0.005739</td>\n",
       "      <td>0.004450</td>\n",
       "      <td>...</td>\n",
       "      <td>-0.002795</td>\n",
       "      <td>0.001798</td>\n",
       "      <td>-0.003620</td>\n",
       "      <td>0.001364</td>\n",
       "      <td>0.002937</td>\n",
       "      <td>-0.003796</td>\n",
       "      <td>-0.000505</td>\n",
       "      <td>-0.005563</td>\n",
       "      <td>0.004498</td>\n",
       "      <td>0.002173</td>\n",
       "    </tr>\n",
       "    <tr>\n",
       "      <th>mType</th>\n",
       "      <td>-0.001017</td>\n",
       "      <td>-0.002442</td>\n",
       "      <td>0.003079</td>\n",
       "      <td>0.003629</td>\n",
       "      <td>-0.003026</td>\n",
       "      <td>-0.007298</td>\n",
       "      <td>1.000000</td>\n",
       "      <td>-0.000818</td>\n",
       "      <td>0.004631</td>\n",
       "      <td>-0.010139</td>\n",
       "      <td>...</td>\n",
       "      <td>-0.000611</td>\n",
       "      <td>0.005118</td>\n",
       "      <td>-0.006951</td>\n",
       "      <td>0.000340</td>\n",
       "      <td>-0.009739</td>\n",
       "      <td>0.003354</td>\n",
       "      <td>0.004152</td>\n",
       "      <td>-0.002367</td>\n",
       "      <td>0.002246</td>\n",
       "      <td>0.002407</td>\n",
       "    </tr>\n",
       "    <tr>\n",
       "      <th>seller</th>\n",
       "      <td>-0.001676</td>\n",
       "      <td>0.003582</td>\n",
       "      <td>-0.006424</td>\n",
       "      <td>-0.010030</td>\n",
       "      <td>0.004522</td>\n",
       "      <td>-0.003125</td>\n",
       "      <td>-0.000818</td>\n",
       "      <td>1.000000</td>\n",
       "      <td>-0.001908</td>\n",
       "      <td>-0.004298</td>\n",
       "      <td>...</td>\n",
       "      <td>0.000405</td>\n",
       "      <td>0.004139</td>\n",
       "      <td>0.006080</td>\n",
       "      <td>-0.002987</td>\n",
       "      <td>-0.002451</td>\n",
       "      <td>-0.001420</td>\n",
       "      <td>-0.004265</td>\n",
       "      <td>0.009814</td>\n",
       "      <td>-0.001407</td>\n",
       "      <td>-0.005654</td>\n",
       "    </tr>\n",
       "    <tr>\n",
       "      <th>sType</th>\n",
       "      <td>-0.003134</td>\n",
       "      <td>0.003017</td>\n",
       "      <td>0.000617</td>\n",
       "      <td>0.001620</td>\n",
       "      <td>-0.005199</td>\n",
       "      <td>0.005739</td>\n",
       "      <td>0.004631</td>\n",
       "      <td>-0.001908</td>\n",
       "      <td>1.000000</td>\n",
       "      <td>-0.001504</td>\n",
       "      <td>...</td>\n",
       "      <td>0.005184</td>\n",
       "      <td>-0.004554</td>\n",
       "      <td>-0.002135</td>\n",
       "      <td>-0.002858</td>\n",
       "      <td>0.003906</td>\n",
       "      <td>-0.004147</td>\n",
       "      <td>0.003549</td>\n",
       "      <td>0.000056</td>\n",
       "      <td>0.008260</td>\n",
       "      <td>-0.008959</td>\n",
       "    </tr>\n",
       "    <tr>\n",
       "      <th>Product</th>\n",
       "      <td>-0.001804</td>\n",
       "      <td>-0.127855</td>\n",
       "      <td>-0.002238</td>\n",
       "      <td>-0.002037</td>\n",
       "      <td>-0.002036</td>\n",
       "      <td>0.004450</td>\n",
       "      <td>-0.010139</td>\n",
       "      <td>-0.004298</td>\n",
       "      <td>-0.001504</td>\n",
       "      <td>1.000000</td>\n",
       "      <td>...</td>\n",
       "      <td>-0.000242</td>\n",
       "      <td>0.001759</td>\n",
       "      <td>-0.003056</td>\n",
       "      <td>-0.001169</td>\n",
       "      <td>-0.004878</td>\n",
       "      <td>0.004611</td>\n",
       "      <td>0.023010</td>\n",
       "      <td>0.035875</td>\n",
       "      <td>0.022726</td>\n",
       "      <td>0.022874</td>\n",
       "    </tr>\n",
       "    <tr>\n",
       "      <th>PartyId</th>\n",
       "      <td>-0.009614</td>\n",
       "      <td>-0.046435</td>\n",
       "      <td>0.001356</td>\n",
       "      <td>0.009110</td>\n",
       "      <td>-0.005228</td>\n",
       "      <td>-0.000908</td>\n",
       "      <td>0.000697</td>\n",
       "      <td>0.006090</td>\n",
       "      <td>0.010382</td>\n",
       "      <td>0.044077</td>\n",
       "      <td>...</td>\n",
       "      <td>0.001480</td>\n",
       "      <td>-0.007800</td>\n",
       "      <td>-0.001329</td>\n",
       "      <td>0.001051</td>\n",
       "      <td>0.003494</td>\n",
       "      <td>0.005522</td>\n",
       "      <td>-0.054500</td>\n",
       "      <td>0.439027</td>\n",
       "      <td>0.610054</td>\n",
       "      <td>-0.722379</td>\n",
       "    </tr>\n",
       "    <tr>\n",
       "      <th>transactionType</th>\n",
       "      <td>-0.002066</td>\n",
       "      <td>-0.011308</td>\n",
       "      <td>0.005676</td>\n",
       "      <td>-0.002687</td>\n",
       "      <td>0.011843</td>\n",
       "      <td>-0.000435</td>\n",
       "      <td>0.002102</td>\n",
       "      <td>0.003928</td>\n",
       "      <td>-0.002669</td>\n",
       "      <td>-0.071234</td>\n",
       "      <td>...</td>\n",
       "      <td>0.005068</td>\n",
       "      <td>0.000128</td>\n",
       "      <td>-0.004344</td>\n",
       "      <td>-0.001982</td>\n",
       "      <td>-0.000742</td>\n",
       "      <td>-0.005977</td>\n",
       "      <td>-0.003946</td>\n",
       "      <td>-0.009396</td>\n",
       "      <td>-0.004170</td>\n",
       "      <td>-0.008611</td>\n",
       "    </tr>\n",
       "    <tr>\n",
       "      <th>Reporting Status</th>\n",
       "      <td>0.012479</td>\n",
       "      <td>0.004410</td>\n",
       "      <td>-0.001438</td>\n",
       "      <td>-0.005617</td>\n",
       "      <td>0.005666</td>\n",
       "      <td>0.001251</td>\n",
       "      <td>-0.002193</td>\n",
       "      <td>-0.005417</td>\n",
       "      <td>-0.004932</td>\n",
       "      <td>-0.039322</td>\n",
       "      <td>...</td>\n",
       "      <td>0.006399</td>\n",
       "      <td>0.002733</td>\n",
       "      <td>0.005577</td>\n",
       "      <td>-0.010776</td>\n",
       "      <td>-0.005621</td>\n",
       "      <td>0.000565</td>\n",
       "      <td>0.029731</td>\n",
       "      <td>0.052204</td>\n",
       "      <td>-0.168349</td>\n",
       "      <td>0.024813</td>\n",
       "    </tr>\n",
       "    <tr>\n",
       "      <th>Year</th>\n",
       "      <td>-0.006033</td>\n",
       "      <td>0.006601</td>\n",
       "      <td>0.000597</td>\n",
       "      <td>0.008369</td>\n",
       "      <td>0.001151</td>\n",
       "      <td>-0.003722</td>\n",
       "      <td>-0.001458</td>\n",
       "      <td>-0.010559</td>\n",
       "      <td>-0.001416</td>\n",
       "      <td>0.001704</td>\n",
       "      <td>...</td>\n",
       "      <td>0.005459</td>\n",
       "      <td>0.004581</td>\n",
       "      <td>-0.002630</td>\n",
       "      <td>0.000010</td>\n",
       "      <td>-0.001908</td>\n",
       "      <td>-0.003078</td>\n",
       "      <td>0.000216</td>\n",
       "      <td>0.000213</td>\n",
       "      <td>-0.001677</td>\n",
       "      <td>-0.000736</td>\n",
       "    </tr>\n",
       "    <tr>\n",
       "      <th>Month</th>\n",
       "      <td>0.003319</td>\n",
       "      <td>-0.011180</td>\n",
       "      <td>0.005673</td>\n",
       "      <td>-0.000646</td>\n",
       "      <td>0.000271</td>\n",
       "      <td>0.007475</td>\n",
       "      <td>0.001834</td>\n",
       "      <td>-0.005491</td>\n",
       "      <td>0.005496</td>\n",
       "      <td>0.007165</td>\n",
       "      <td>...</td>\n",
       "      <td>-0.000736</td>\n",
       "      <td>-0.010661</td>\n",
       "      <td>-0.000674</td>\n",
       "      <td>-0.006441</td>\n",
       "      <td>-0.000985</td>\n",
       "      <td>0.001589</td>\n",
       "      <td>0.005334</td>\n",
       "      <td>0.000704</td>\n",
       "      <td>-0.002930</td>\n",
       "      <td>-0.001929</td>\n",
       "    </tr>\n",
       "    <tr>\n",
       "      <th>eventT_Compression</th>\n",
       "      <td>-0.009674</td>\n",
       "      <td>0.002075</td>\n",
       "      <td>-0.002761</td>\n",
       "      <td>-0.005001</td>\n",
       "      <td>-0.007174</td>\n",
       "      <td>0.005191</td>\n",
       "      <td>0.000793</td>\n",
       "      <td>-0.007648</td>\n",
       "      <td>0.003859</td>\n",
       "      <td>-0.002657</td>\n",
       "      <td>...</td>\n",
       "      <td>-0.124583</td>\n",
       "      <td>-0.122774</td>\n",
       "      <td>-0.123249</td>\n",
       "      <td>-0.123967</td>\n",
       "      <td>-0.125994</td>\n",
       "      <td>-0.125083</td>\n",
       "      <td>-0.004577</td>\n",
       "      <td>0.000670</td>\n",
       "      <td>-0.003308</td>\n",
       "      <td>0.002449</td>\n",
       "    </tr>\n",
       "    <tr>\n",
       "      <th>eventT_Error</th>\n",
       "      <td>-0.006613</td>\n",
       "      <td>0.002645</td>\n",
       "      <td>-0.001146</td>\n",
       "      <td>0.008658</td>\n",
       "      <td>0.008813</td>\n",
       "      <td>-0.003465</td>\n",
       "      <td>0.000861</td>\n",
       "      <td>0.004546</td>\n",
       "      <td>-0.001770</td>\n",
       "      <td>0.000647</td>\n",
       "      <td>...</td>\n",
       "      <td>-0.124831</td>\n",
       "      <td>-0.123018</td>\n",
       "      <td>-0.123494</td>\n",
       "      <td>-0.124214</td>\n",
       "      <td>-0.126245</td>\n",
       "      <td>-0.125332</td>\n",
       "      <td>0.005574</td>\n",
       "      <td>-0.002221</td>\n",
       "      <td>0.000854</td>\n",
       "      <td>-0.001043</td>\n",
       "    </tr>\n",
       "    <tr>\n",
       "      <th>eventT_Exercise</th>\n",
       "      <td>0.003403</td>\n",
       "      <td>-0.001324</td>\n",
       "      <td>0.000909</td>\n",
       "      <td>0.003224</td>\n",
       "      <td>0.002272</td>\n",
       "      <td>-0.002795</td>\n",
       "      <td>-0.000611</td>\n",
       "      <td>0.000405</td>\n",
       "      <td>0.005184</td>\n",
       "      <td>-0.000242</td>\n",
       "      <td>...</td>\n",
       "      <td>1.000000</td>\n",
       "      <td>-0.124335</td>\n",
       "      <td>-0.124816</td>\n",
       "      <td>-0.125543</td>\n",
       "      <td>-0.127596</td>\n",
       "      <td>-0.126673</td>\n",
       "      <td>-0.004429</td>\n",
       "      <td>0.000952</td>\n",
       "      <td>0.002352</td>\n",
       "      <td>-0.000342</td>\n",
       "    </tr>\n",
       "    <tr>\n",
       "      <th>eventT_Novation</th>\n",
       "      <td>0.008141</td>\n",
       "      <td>0.001651</td>\n",
       "      <td>0.003600</td>\n",
       "      <td>0.005318</td>\n",
       "      <td>-0.003630</td>\n",
       "      <td>0.001798</td>\n",
       "      <td>0.005118</td>\n",
       "      <td>0.004139</td>\n",
       "      <td>-0.004554</td>\n",
       "      <td>0.001759</td>\n",
       "      <td>...</td>\n",
       "      <td>-0.124335</td>\n",
       "      <td>1.000000</td>\n",
       "      <td>-0.123004</td>\n",
       "      <td>-0.123720</td>\n",
       "      <td>-0.125743</td>\n",
       "      <td>-0.124834</td>\n",
       "      <td>-0.000117</td>\n",
       "      <td>-0.004053</td>\n",
       "      <td>-0.003742</td>\n",
       "      <td>0.006540</td>\n",
       "    </tr>\n",
       "    <tr>\n",
       "      <th>eventT_NovationTrade</th>\n",
       "      <td>0.003360</td>\n",
       "      <td>-0.004449</td>\n",
       "      <td>0.002698</td>\n",
       "      <td>0.000554</td>\n",
       "      <td>-0.005715</td>\n",
       "      <td>-0.003620</td>\n",
       "      <td>-0.006951</td>\n",
       "      <td>0.006080</td>\n",
       "      <td>-0.002135</td>\n",
       "      <td>-0.003056</td>\n",
       "      <td>...</td>\n",
       "      <td>-0.124816</td>\n",
       "      <td>-0.123004</td>\n",
       "      <td>1.000000</td>\n",
       "      <td>-0.124199</td>\n",
       "      <td>-0.126230</td>\n",
       "      <td>-0.125317</td>\n",
       "      <td>0.007165</td>\n",
       "      <td>0.002793</td>\n",
       "      <td>-0.005198</td>\n",
       "      <td>0.003485</td>\n",
       "    </tr>\n",
       "    <tr>\n",
       "      <th>eventT_PartialExercise</th>\n",
       "      <td>-0.000686</td>\n",
       "      <td>0.002750</td>\n",
       "      <td>0.002155</td>\n",
       "      <td>-0.005701</td>\n",
       "      <td>-0.001750</td>\n",
       "      <td>0.001364</td>\n",
       "      <td>0.000340</td>\n",
       "      <td>-0.002987</td>\n",
       "      <td>-0.002858</td>\n",
       "      <td>-0.001169</td>\n",
       "      <td>...</td>\n",
       "      <td>-0.125543</td>\n",
       "      <td>-0.123720</td>\n",
       "      <td>-0.124199</td>\n",
       "      <td>1.000000</td>\n",
       "      <td>-0.126965</td>\n",
       "      <td>-0.126047</td>\n",
       "      <td>-0.006910</td>\n",
       "      <td>0.003774</td>\n",
       "      <td>0.000043</td>\n",
       "      <td>-0.001080</td>\n",
       "    </tr>\n",
       "    <tr>\n",
       "      <th>eventT_Termination</th>\n",
       "      <td>-0.009352</td>\n",
       "      <td>0.004597</td>\n",
       "      <td>-0.007792</td>\n",
       "      <td>-0.005781</td>\n",
       "      <td>0.000564</td>\n",
       "      <td>0.002937</td>\n",
       "      <td>-0.009739</td>\n",
       "      <td>-0.002451</td>\n",
       "      <td>0.003906</td>\n",
       "      <td>-0.004878</td>\n",
       "      <td>...</td>\n",
       "      <td>-0.127596</td>\n",
       "      <td>-0.125743</td>\n",
       "      <td>-0.126230</td>\n",
       "      <td>-0.126965</td>\n",
       "      <td>1.000000</td>\n",
       "      <td>-0.128108</td>\n",
       "      <td>0.008284</td>\n",
       "      <td>-0.010463</td>\n",
       "      <td>0.007845</td>\n",
       "      <td>-0.007179</td>\n",
       "    </tr>\n",
       "    <tr>\n",
       "      <th>eventT_Trade</th>\n",
       "      <td>0.007715</td>\n",
       "      <td>-0.007356</td>\n",
       "      <td>0.006124</td>\n",
       "      <td>0.001552</td>\n",
       "      <td>0.004778</td>\n",
       "      <td>-0.003796</td>\n",
       "      <td>0.003354</td>\n",
       "      <td>-0.001420</td>\n",
       "      <td>-0.004147</td>\n",
       "      <td>0.004611</td>\n",
       "      <td>...</td>\n",
       "      <td>-0.126673</td>\n",
       "      <td>-0.124834</td>\n",
       "      <td>-0.125317</td>\n",
       "      <td>-0.126047</td>\n",
       "      <td>-0.128108</td>\n",
       "      <td>1.000000</td>\n",
       "      <td>-0.007865</td>\n",
       "      <td>0.006224</td>\n",
       "      <td>0.002383</td>\n",
       "      <td>-0.004952</td>\n",
       "    </tr>\n",
       "    <tr>\n",
       "      <th>party_PartyL</th>\n",
       "      <td>0.008975</td>\n",
       "      <td>-0.036580</td>\n",
       "      <td>0.001896</td>\n",
       "      <td>-0.004886</td>\n",
       "      <td>0.005110</td>\n",
       "      <td>-0.000505</td>\n",
       "      <td>0.004152</td>\n",
       "      <td>-0.004265</td>\n",
       "      <td>0.003549</td>\n",
       "      <td>0.023010</td>\n",
       "      <td>...</td>\n",
       "      <td>-0.004429</td>\n",
       "      <td>-0.000117</td>\n",
       "      <td>0.007165</td>\n",
       "      <td>-0.006910</td>\n",
       "      <td>0.008284</td>\n",
       "      <td>-0.007865</td>\n",
       "      <td>1.000000</td>\n",
       "      <td>-0.317910</td>\n",
       "      <td>-0.201389</td>\n",
       "      <td>-0.202700</td>\n",
       "    </tr>\n",
       "    <tr>\n",
       "      <th>party_PartyX</th>\n",
       "      <td>-0.002150</td>\n",
       "      <td>-0.036299</td>\n",
       "      <td>0.002887</td>\n",
       "      <td>0.005032</td>\n",
       "      <td>-0.006082</td>\n",
       "      <td>-0.005563</td>\n",
       "      <td>-0.002367</td>\n",
       "      <td>0.009814</td>\n",
       "      <td>0.000056</td>\n",
       "      <td>0.035875</td>\n",
       "      <td>...</td>\n",
       "      <td>0.000952</td>\n",
       "      <td>-0.004053</td>\n",
       "      <td>0.002793</td>\n",
       "      <td>0.003774</td>\n",
       "      <td>-0.010463</td>\n",
       "      <td>0.006224</td>\n",
       "      <td>-0.317910</td>\n",
       "      <td>1.000000</td>\n",
       "      <td>-0.313980</td>\n",
       "      <td>-0.316025</td>\n",
       "    </tr>\n",
       "    <tr>\n",
       "      <th>party_PartyY</th>\n",
       "      <td>-0.011605</td>\n",
       "      <td>-0.026512</td>\n",
       "      <td>-0.002458</td>\n",
       "      <td>0.005639</td>\n",
       "      <td>-0.003348</td>\n",
       "      <td>0.004498</td>\n",
       "      <td>0.002246</td>\n",
       "      <td>-0.001407</td>\n",
       "      <td>0.008260</td>\n",
       "      <td>0.022726</td>\n",
       "      <td>...</td>\n",
       "      <td>0.002352</td>\n",
       "      <td>-0.003742</td>\n",
       "      <td>-0.005198</td>\n",
       "      <td>0.000043</td>\n",
       "      <td>0.007845</td>\n",
       "      <td>0.002383</td>\n",
       "      <td>-0.201389</td>\n",
       "      <td>-0.313980</td>\n",
       "      <td>1.000000</td>\n",
       "      <td>-0.200195</td>\n",
       "    </tr>\n",
       "    <tr>\n",
       "      <th>party_PartyZ</th>\n",
       "      <td>0.003505</td>\n",
       "      <td>-0.040397</td>\n",
       "      <td>-0.003041</td>\n",
       "      <td>-0.008141</td>\n",
       "      <td>-0.001396</td>\n",
       "      <td>0.002173</td>\n",
       "      <td>0.002407</td>\n",
       "      <td>-0.005654</td>\n",
       "      <td>-0.008959</td>\n",
       "      <td>0.022874</td>\n",
       "      <td>...</td>\n",
       "      <td>-0.000342</td>\n",
       "      <td>0.006540</td>\n",
       "      <td>0.003485</td>\n",
       "      <td>-0.001080</td>\n",
       "      <td>-0.007179</td>\n",
       "      <td>-0.004952</td>\n",
       "      <td>-0.202700</td>\n",
       "      <td>-0.316025</td>\n",
       "      <td>-0.200195</td>\n",
       "      <td>1.000000</td>\n",
       "    </tr>\n",
       "  </tbody>\n",
       "</table>\n",
       "<p>27 rows × 27 columns</p>\n",
       "</div>"
      ],
      "text/plain": [
       "                         version  clStatus     cflag     eFlag    method  \\\n",
       "version                 1.000000 -0.001173  0.005997  0.000336  0.002018   \n",
       "clStatus               -0.001173  1.000000 -0.002000 -0.005795 -0.004011   \n",
       "cflag                   0.005997 -0.002000  1.000000  0.007271 -0.001212   \n",
       "eFlag                   0.000336 -0.005795  0.007271  1.000000 -0.005210   \n",
       "method                  0.002018 -0.004011 -0.001212 -0.005210  1.000000   \n",
       "rate                    0.004245 -0.008206  0.002206 -0.002711 -0.002514   \n",
       "mType                  -0.001017 -0.002442  0.003079  0.003629 -0.003026   \n",
       "seller                 -0.001676  0.003582 -0.006424 -0.010030  0.004522   \n",
       "sType                  -0.003134  0.003017  0.000617  0.001620 -0.005199   \n",
       "Product                -0.001804 -0.127855 -0.002238 -0.002037 -0.002036   \n",
       "PartyId                -0.009614 -0.046435  0.001356  0.009110 -0.005228   \n",
       "transactionType        -0.002066 -0.011308  0.005676 -0.002687  0.011843   \n",
       "Reporting Status        0.012479  0.004410 -0.001438 -0.005617  0.005666   \n",
       "Year                   -0.006033  0.006601  0.000597  0.008369  0.001151   \n",
       "Month                   0.003319 -0.011180  0.005673 -0.000646  0.000271   \n",
       "eventT_Compression     -0.009674  0.002075 -0.002761 -0.005001 -0.007174   \n",
       "eventT_Error           -0.006613  0.002645 -0.001146  0.008658  0.008813   \n",
       "eventT_Exercise         0.003403 -0.001324  0.000909  0.003224  0.002272   \n",
       "eventT_Novation         0.008141  0.001651  0.003600  0.005318 -0.003630   \n",
       "eventT_NovationTrade    0.003360 -0.004449  0.002698  0.000554 -0.005715   \n",
       "eventT_PartialExercise -0.000686  0.002750  0.002155 -0.005701 -0.001750   \n",
       "eventT_Termination     -0.009352  0.004597 -0.007792 -0.005781  0.000564   \n",
       "eventT_Trade            0.007715 -0.007356  0.006124  0.001552  0.004778   \n",
       "party_PartyL            0.008975 -0.036580  0.001896 -0.004886  0.005110   \n",
       "party_PartyX           -0.002150 -0.036299  0.002887  0.005032 -0.006082   \n",
       "party_PartyY           -0.011605 -0.026512 -0.002458  0.005639 -0.003348   \n",
       "party_PartyZ            0.003505 -0.040397 -0.003041 -0.008141 -0.001396   \n",
       "\n",
       "                            rate     mType    seller     sType   Product  ...  \\\n",
       "version                 0.004245 -0.001017 -0.001676 -0.003134 -0.001804  ...   \n",
       "clStatus               -0.008206 -0.002442  0.003582  0.003017 -0.127855  ...   \n",
       "cflag                   0.002206  0.003079 -0.006424  0.000617 -0.002238  ...   \n",
       "eFlag                  -0.002711  0.003629 -0.010030  0.001620 -0.002037  ...   \n",
       "method                 -0.002514 -0.003026  0.004522 -0.005199 -0.002036  ...   \n",
       "rate                    1.000000 -0.007298 -0.003125  0.005739  0.004450  ...   \n",
       "mType                  -0.007298  1.000000 -0.000818  0.004631 -0.010139  ...   \n",
       "seller                 -0.003125 -0.000818  1.000000 -0.001908 -0.004298  ...   \n",
       "sType                   0.005739  0.004631 -0.001908  1.000000 -0.001504  ...   \n",
       "Product                 0.004450 -0.010139 -0.004298 -0.001504  1.000000  ...   \n",
       "PartyId                -0.000908  0.000697  0.006090  0.010382  0.044077  ...   \n",
       "transactionType        -0.000435  0.002102  0.003928 -0.002669 -0.071234  ...   \n",
       "Reporting Status        0.001251 -0.002193 -0.005417 -0.004932 -0.039322  ...   \n",
       "Year                   -0.003722 -0.001458 -0.010559 -0.001416  0.001704  ...   \n",
       "Month                   0.007475  0.001834 -0.005491  0.005496  0.007165  ...   \n",
       "eventT_Compression      0.005191  0.000793 -0.007648  0.003859 -0.002657  ...   \n",
       "eventT_Error           -0.003465  0.000861  0.004546 -0.001770  0.000647  ...   \n",
       "eventT_Exercise        -0.002795 -0.000611  0.000405  0.005184 -0.000242  ...   \n",
       "eventT_Novation         0.001798  0.005118  0.004139 -0.004554  0.001759  ...   \n",
       "eventT_NovationTrade   -0.003620 -0.006951  0.006080 -0.002135 -0.003056  ...   \n",
       "eventT_PartialExercise  0.001364  0.000340 -0.002987 -0.002858 -0.001169  ...   \n",
       "eventT_Termination      0.002937 -0.009739 -0.002451  0.003906 -0.004878  ...   \n",
       "eventT_Trade           -0.003796  0.003354 -0.001420 -0.004147  0.004611  ...   \n",
       "party_PartyL           -0.000505  0.004152 -0.004265  0.003549  0.023010  ...   \n",
       "party_PartyX           -0.005563 -0.002367  0.009814  0.000056  0.035875  ...   \n",
       "party_PartyY            0.004498  0.002246 -0.001407  0.008260  0.022726  ...   \n",
       "party_PartyZ            0.002173  0.002407 -0.005654 -0.008959  0.022874  ...   \n",
       "\n",
       "                        eventT_Exercise  eventT_Novation  \\\n",
       "version                        0.003403         0.008141   \n",
       "clStatus                      -0.001324         0.001651   \n",
       "cflag                          0.000909         0.003600   \n",
       "eFlag                          0.003224         0.005318   \n",
       "method                         0.002272        -0.003630   \n",
       "rate                          -0.002795         0.001798   \n",
       "mType                         -0.000611         0.005118   \n",
       "seller                         0.000405         0.004139   \n",
       "sType                          0.005184        -0.004554   \n",
       "Product                       -0.000242         0.001759   \n",
       "PartyId                        0.001480        -0.007800   \n",
       "transactionType                0.005068         0.000128   \n",
       "Reporting Status               0.006399         0.002733   \n",
       "Year                           0.005459         0.004581   \n",
       "Month                         -0.000736        -0.010661   \n",
       "eventT_Compression            -0.124583        -0.122774   \n",
       "eventT_Error                  -0.124831        -0.123018   \n",
       "eventT_Exercise                1.000000        -0.124335   \n",
       "eventT_Novation               -0.124335         1.000000   \n",
       "eventT_NovationTrade          -0.124816        -0.123004   \n",
       "eventT_PartialExercise        -0.125543        -0.123720   \n",
       "eventT_Termination            -0.127596        -0.125743   \n",
       "eventT_Trade                  -0.126673        -0.124834   \n",
       "party_PartyL                  -0.004429        -0.000117   \n",
       "party_PartyX                   0.000952        -0.004053   \n",
       "party_PartyY                   0.002352        -0.003742   \n",
       "party_PartyZ                  -0.000342         0.006540   \n",
       "\n",
       "                        eventT_NovationTrade  eventT_PartialExercise  \\\n",
       "version                             0.003360               -0.000686   \n",
       "clStatus                           -0.004449                0.002750   \n",
       "cflag                               0.002698                0.002155   \n",
       "eFlag                               0.000554               -0.005701   \n",
       "method                             -0.005715               -0.001750   \n",
       "rate                               -0.003620                0.001364   \n",
       "mType                              -0.006951                0.000340   \n",
       "seller                              0.006080               -0.002987   \n",
       "sType                              -0.002135               -0.002858   \n",
       "Product                            -0.003056               -0.001169   \n",
       "PartyId                            -0.001329                0.001051   \n",
       "transactionType                    -0.004344               -0.001982   \n",
       "Reporting Status                    0.005577               -0.010776   \n",
       "Year                               -0.002630                0.000010   \n",
       "Month                              -0.000674               -0.006441   \n",
       "eventT_Compression                 -0.123249               -0.123967   \n",
       "eventT_Error                       -0.123494               -0.124214   \n",
       "eventT_Exercise                    -0.124816               -0.125543   \n",
       "eventT_Novation                    -0.123004               -0.123720   \n",
       "eventT_NovationTrade                1.000000               -0.124199   \n",
       "eventT_PartialExercise             -0.124199                1.000000   \n",
       "eventT_Termination                 -0.126230               -0.126965   \n",
       "eventT_Trade                       -0.125317               -0.126047   \n",
       "party_PartyL                        0.007165               -0.006910   \n",
       "party_PartyX                        0.002793                0.003774   \n",
       "party_PartyY                       -0.005198                0.000043   \n",
       "party_PartyZ                        0.003485               -0.001080   \n",
       "\n",
       "                        eventT_Termination  eventT_Trade  party_PartyL  \\\n",
       "version                          -0.009352      0.007715      0.008975   \n",
       "clStatus                          0.004597     -0.007356     -0.036580   \n",
       "cflag                            -0.007792      0.006124      0.001896   \n",
       "eFlag                            -0.005781      0.001552     -0.004886   \n",
       "method                            0.000564      0.004778      0.005110   \n",
       "rate                              0.002937     -0.003796     -0.000505   \n",
       "mType                            -0.009739      0.003354      0.004152   \n",
       "seller                           -0.002451     -0.001420     -0.004265   \n",
       "sType                             0.003906     -0.004147      0.003549   \n",
       "Product                          -0.004878      0.004611      0.023010   \n",
       "PartyId                           0.003494      0.005522     -0.054500   \n",
       "transactionType                  -0.000742     -0.005977     -0.003946   \n",
       "Reporting Status                 -0.005621      0.000565      0.029731   \n",
       "Year                             -0.001908     -0.003078      0.000216   \n",
       "Month                            -0.000985      0.001589      0.005334   \n",
       "eventT_Compression               -0.125994     -0.125083     -0.004577   \n",
       "eventT_Error                     -0.126245     -0.125332      0.005574   \n",
       "eventT_Exercise                  -0.127596     -0.126673     -0.004429   \n",
       "eventT_Novation                  -0.125743     -0.124834     -0.000117   \n",
       "eventT_NovationTrade             -0.126230     -0.125317      0.007165   \n",
       "eventT_PartialExercise           -0.126965     -0.126047     -0.006910   \n",
       "eventT_Termination                1.000000     -0.128108      0.008284   \n",
       "eventT_Trade                     -0.128108      1.000000     -0.007865   \n",
       "party_PartyL                      0.008284     -0.007865      1.000000   \n",
       "party_PartyX                     -0.010463      0.006224     -0.317910   \n",
       "party_PartyY                      0.007845      0.002383     -0.201389   \n",
       "party_PartyZ                     -0.007179     -0.004952     -0.202700   \n",
       "\n",
       "                        party_PartyX  party_PartyY  party_PartyZ  \n",
       "version                    -0.002150     -0.011605      0.003505  \n",
       "clStatus                   -0.036299     -0.026512     -0.040397  \n",
       "cflag                       0.002887     -0.002458     -0.003041  \n",
       "eFlag                       0.005032      0.005639     -0.008141  \n",
       "method                     -0.006082     -0.003348     -0.001396  \n",
       "rate                       -0.005563      0.004498      0.002173  \n",
       "mType                      -0.002367      0.002246      0.002407  \n",
       "seller                      0.009814     -0.001407     -0.005654  \n",
       "sType                       0.000056      0.008260     -0.008959  \n",
       "Product                     0.035875      0.022726      0.022874  \n",
       "PartyId                     0.439027      0.610054     -0.722379  \n",
       "transactionType            -0.009396     -0.004170     -0.008611  \n",
       "Reporting Status            0.052204     -0.168349      0.024813  \n",
       "Year                        0.000213     -0.001677     -0.000736  \n",
       "Month                       0.000704     -0.002930     -0.001929  \n",
       "eventT_Compression          0.000670     -0.003308      0.002449  \n",
       "eventT_Error               -0.002221      0.000854     -0.001043  \n",
       "eventT_Exercise             0.000952      0.002352     -0.000342  \n",
       "eventT_Novation            -0.004053     -0.003742      0.006540  \n",
       "eventT_NovationTrade        0.002793     -0.005198      0.003485  \n",
       "eventT_PartialExercise      0.003774      0.000043     -0.001080  \n",
       "eventT_Termination         -0.010463      0.007845     -0.007179  \n",
       "eventT_Trade                0.006224      0.002383     -0.004952  \n",
       "party_PartyL               -0.317910     -0.201389     -0.202700  \n",
       "party_PartyX                1.000000     -0.313980     -0.316025  \n",
       "party_PartyY               -0.313980      1.000000     -0.200195  \n",
       "party_PartyZ               -0.316025     -0.200195      1.000000  \n",
       "\n",
       "[27 rows x 27 columns]"
      ]
     },
     "execution_count": 507,
     "metadata": {},
     "output_type": "execute_result"
    }
   ],
   "source": [
    "df1.corr()"
   ]
  },
  {
   "cell_type": "markdown",
   "id": "636526aa",
   "metadata": {},
   "source": [
    "## Splitting Data into Dependent and Independent Variables\n"
   ]
  },
  {
   "cell_type": "code",
   "execution_count": 508,
   "id": "b86b7d33",
   "metadata": {},
   "outputs": [],
   "source": [
    "x=df1.drop(columns=['Reporting Status'])\n",
    "y=df1['Reporting Status']"
   ]
  },
  {
   "cell_type": "code",
   "execution_count": 509,
   "id": "414814ca",
   "metadata": {},
   "outputs": [
    {
     "data": {
      "text/html": [
       "<div>\n",
       "<style scoped>\n",
       "    .dataframe tbody tr th:only-of-type {\n",
       "        vertical-align: middle;\n",
       "    }\n",
       "\n",
       "    .dataframe tbody tr th {\n",
       "        vertical-align: top;\n",
       "    }\n",
       "\n",
       "    .dataframe thead th {\n",
       "        text-align: right;\n",
       "    }\n",
       "</style>\n",
       "<table border=\"1\" class=\"dataframe\">\n",
       "  <thead>\n",
       "    <tr style=\"text-align: right;\">\n",
       "      <th></th>\n",
       "      <th>version</th>\n",
       "      <th>clStatus</th>\n",
       "      <th>cflag</th>\n",
       "      <th>eFlag</th>\n",
       "      <th>method</th>\n",
       "      <th>rate</th>\n",
       "      <th>mType</th>\n",
       "      <th>seller</th>\n",
       "      <th>sType</th>\n",
       "      <th>Product</th>\n",
       "      <th>...</th>\n",
       "      <th>eventT_Exercise</th>\n",
       "      <th>eventT_Novation</th>\n",
       "      <th>eventT_NovationTrade</th>\n",
       "      <th>eventT_PartialExercise</th>\n",
       "      <th>eventT_Termination</th>\n",
       "      <th>eventT_Trade</th>\n",
       "      <th>party_PartyL</th>\n",
       "      <th>party_PartyX</th>\n",
       "      <th>party_PartyY</th>\n",
       "      <th>party_PartyZ</th>\n",
       "    </tr>\n",
       "  </thead>\n",
       "  <tbody>\n",
       "    <tr>\n",
       "      <th>0</th>\n",
       "      <td>1</td>\n",
       "      <td>1</td>\n",
       "      <td>0</td>\n",
       "      <td>0</td>\n",
       "      <td>2</td>\n",
       "      <td>3204.6267</td>\n",
       "      <td>0</td>\n",
       "      <td>0</td>\n",
       "      <td>0</td>\n",
       "      <td>2</td>\n",
       "      <td>...</td>\n",
       "      <td>0.0</td>\n",
       "      <td>0.0</td>\n",
       "      <td>0.0</td>\n",
       "      <td>0.0</td>\n",
       "      <td>0.0</td>\n",
       "      <td>0.0</td>\n",
       "      <td>0.0</td>\n",
       "      <td>0.0</td>\n",
       "      <td>0.0</td>\n",
       "      <td>1.0</td>\n",
       "    </tr>\n",
       "    <tr>\n",
       "      <th>1</th>\n",
       "      <td>9</td>\n",
       "      <td>0</td>\n",
       "      <td>0</td>\n",
       "      <td>0</td>\n",
       "      <td>3</td>\n",
       "      <td>1061.6943</td>\n",
       "      <td>1</td>\n",
       "      <td>1</td>\n",
       "      <td>0</td>\n",
       "      <td>2</td>\n",
       "      <td>...</td>\n",
       "      <td>0.0</td>\n",
       "      <td>0.0</td>\n",
       "      <td>1.0</td>\n",
       "      <td>0.0</td>\n",
       "      <td>0.0</td>\n",
       "      <td>0.0</td>\n",
       "      <td>0.0</td>\n",
       "      <td>1.0</td>\n",
       "      <td>0.0</td>\n",
       "      <td>0.0</td>\n",
       "    </tr>\n",
       "    <tr>\n",
       "      <th>2</th>\n",
       "      <td>8</td>\n",
       "      <td>0</td>\n",
       "      <td>0</td>\n",
       "      <td>0</td>\n",
       "      <td>2</td>\n",
       "      <td>9338.9422</td>\n",
       "      <td>0</td>\n",
       "      <td>1</td>\n",
       "      <td>1</td>\n",
       "      <td>2</td>\n",
       "      <td>...</td>\n",
       "      <td>0.0</td>\n",
       "      <td>0.0</td>\n",
       "      <td>1.0</td>\n",
       "      <td>0.0</td>\n",
       "      <td>0.0</td>\n",
       "      <td>0.0</td>\n",
       "      <td>0.0</td>\n",
       "      <td>1.0</td>\n",
       "      <td>0.0</td>\n",
       "      <td>0.0</td>\n",
       "    </tr>\n",
       "    <tr>\n",
       "      <th>3</th>\n",
       "      <td>1</td>\n",
       "      <td>0</td>\n",
       "      <td>0</td>\n",
       "      <td>1</td>\n",
       "      <td>0</td>\n",
       "      <td>9303.3931</td>\n",
       "      <td>0</td>\n",
       "      <td>1</td>\n",
       "      <td>0</td>\n",
       "      <td>3</td>\n",
       "      <td>...</td>\n",
       "      <td>1.0</td>\n",
       "      <td>0.0</td>\n",
       "      <td>0.0</td>\n",
       "      <td>0.0</td>\n",
       "      <td>0.0</td>\n",
       "      <td>0.0</td>\n",
       "      <td>0.0</td>\n",
       "      <td>0.0</td>\n",
       "      <td>0.0</td>\n",
       "      <td>0.0</td>\n",
       "    </tr>\n",
       "    <tr>\n",
       "      <th>4</th>\n",
       "      <td>1</td>\n",
       "      <td>1</td>\n",
       "      <td>1</td>\n",
       "      <td>0</td>\n",
       "      <td>0</td>\n",
       "      <td>9684.7840</td>\n",
       "      <td>1</td>\n",
       "      <td>0</td>\n",
       "      <td>0</td>\n",
       "      <td>2</td>\n",
       "      <td>...</td>\n",
       "      <td>0.0</td>\n",
       "      <td>0.0</td>\n",
       "      <td>0.0</td>\n",
       "      <td>0.0</td>\n",
       "      <td>0.0</td>\n",
       "      <td>1.0</td>\n",
       "      <td>0.0</td>\n",
       "      <td>1.0</td>\n",
       "      <td>0.0</td>\n",
       "      <td>0.0</td>\n",
       "    </tr>\n",
       "  </tbody>\n",
       "</table>\n",
       "<p>5 rows × 26 columns</p>\n",
       "</div>"
      ],
      "text/plain": [
       "   version  clStatus  cflag  eFlag  method       rate  mType  seller  sType  \\\n",
       "0        1         1      0      0       2  3204.6267      0       0      0   \n",
       "1        9         0      0      0       3  1061.6943      1       1      0   \n",
       "2        8         0      0      0       2  9338.9422      0       1      1   \n",
       "3        1         0      0      1       0  9303.3931      0       1      0   \n",
       "4        1         1      1      0       0  9684.7840      1       0      0   \n",
       "\n",
       "   Product  ...  eventT_Exercise  eventT_Novation  eventT_NovationTrade  \\\n",
       "0        2  ...              0.0              0.0                   0.0   \n",
       "1        2  ...              0.0              0.0                   1.0   \n",
       "2        2  ...              0.0              0.0                   1.0   \n",
       "3        3  ...              1.0              0.0                   0.0   \n",
       "4        2  ...              0.0              0.0                   0.0   \n",
       "\n",
       "   eventT_PartialExercise  eventT_Termination  eventT_Trade  party_PartyL  \\\n",
       "0                     0.0                 0.0           0.0           0.0   \n",
       "1                     0.0                 0.0           0.0           0.0   \n",
       "2                     0.0                 0.0           0.0           0.0   \n",
       "3                     0.0                 0.0           0.0           0.0   \n",
       "4                     0.0                 0.0           1.0           0.0   \n",
       "\n",
       "   party_PartyX  party_PartyY  party_PartyZ  \n",
       "0           0.0           0.0           1.0  \n",
       "1           1.0           0.0           0.0  \n",
       "2           1.0           0.0           0.0  \n",
       "3           0.0           0.0           0.0  \n",
       "4           1.0           0.0           0.0  \n",
       "\n",
       "[5 rows x 26 columns]"
      ]
     },
     "execution_count": 509,
     "metadata": {},
     "output_type": "execute_result"
    }
   ],
   "source": [
    "x.head()"
   ]
  },
  {
   "cell_type": "code",
   "execution_count": 510,
   "id": "ac85871c",
   "metadata": {},
   "outputs": [
    {
     "data": {
      "text/plain": [
       "0    3\n",
       "1    0\n",
       "2    6\n",
       "3    1\n",
       "4    1\n",
       "Name: Reporting Status, dtype: int8"
      ]
     },
     "execution_count": 510,
     "metadata": {},
     "output_type": "execute_result"
    }
   ],
   "source": [
    "y.head()"
   ]
  },
  {
   "cell_type": "markdown",
   "id": "692bbe04",
   "metadata": {},
   "source": [
    "# Feature Scaling"
   ]
  },
  {
   "cell_type": "code",
   "execution_count": 511,
   "id": "79a56a7d",
   "metadata": {},
   "outputs": [],
   "source": [
    "from sklearn.preprocessing import StandardScaler\n",
    "sc= StandardScaler()\n",
    "x= sc.fit_transform(x)"
   ]
  },
  {
   "cell_type": "code",
   "execution_count": 512,
   "id": "fb6a8097",
   "metadata": {},
   "outputs": [
    {
     "data": {
      "text/plain": [
       "array([[-1.54145902e+00,  9.32894034e-01, -1.22343136e+00, ...,\n",
       "        -7.04020840e-01, -4.45981406e-01,  2.22774029e+00],\n",
       "       [ 1.54583005e+00, -1.07193311e+00, -1.22343136e+00, ...,\n",
       "         1.42041250e+00, -4.45981406e-01, -4.48885359e-01],\n",
       "       [ 1.15991892e+00, -1.07193311e+00, -1.22343136e+00, ...,\n",
       "         1.42041250e+00, -4.45981406e-01, -4.48885359e-01],\n",
       "       ...,\n",
       "       [-1.15554788e+00, -1.07193311e+00, -1.22343136e+00, ...,\n",
       "         1.42041250e+00, -4.45981406e-01, -4.48885359e-01],\n",
       "       [ 1.15991892e+00, -1.07193311e+00,  1.22555649e+00, ...,\n",
       "        -7.04020840e-01, -4.45981406e-01,  2.22774029e+00],\n",
       "       [-1.15554788e+00,  9.32894034e-01,  1.06256467e-03, ...,\n",
       "        -7.04020840e-01, -4.45981406e-01, -4.48885359e-01]])"
      ]
     },
     "execution_count": 512,
     "metadata": {},
     "output_type": "execute_result"
    }
   ],
   "source": [
    "x"
   ]
  },
  {
   "cell_type": "markdown",
   "id": "b4089214",
   "metadata": {},
   "source": [
    "# Groups of Similar Transactions"
   ]
  },
  {
   "cell_type": "code",
   "execution_count": 426,
   "id": "2033ee9c",
   "metadata": {
    "scrolled": true
   },
   "outputs": [
    {
     "data": {
      "text/html": [
       "<div>\n",
       "<style scoped>\n",
       "    .dataframe tbody tr th:only-of-type {\n",
       "        vertical-align: middle;\n",
       "    }\n",
       "\n",
       "    .dataframe tbody tr th {\n",
       "        vertical-align: top;\n",
       "    }\n",
       "\n",
       "    .dataframe thead th {\n",
       "        text-align: right;\n",
       "    }\n",
       "</style>\n",
       "<table border=\"1\" class=\"dataframe\">\n",
       "  <thead>\n",
       "    <tr style=\"text-align: right;\">\n",
       "      <th></th>\n",
       "      <th>group_identifier</th>\n",
       "      <th>group_count</th>\n",
       "    </tr>\n",
       "  </thead>\n",
       "  <tbody>\n",
       "    <tr>\n",
       "      <th>0</th>\n",
       "      <td>Electronic_FULLY_Amendment_Cash</td>\n",
       "      <td>15</td>\n",
       "    </tr>\n",
       "    <tr>\n",
       "      <th>1</th>\n",
       "      <td>Electronic_FULLY_Amendment_Option</td>\n",
       "      <td>21</td>\n",
       "    </tr>\n",
       "    <tr>\n",
       "      <th>2</th>\n",
       "      <td>Electronic_FULLY_Amendment_Swap</td>\n",
       "      <td>360</td>\n",
       "    </tr>\n",
       "    <tr>\n",
       "      <th>3</th>\n",
       "      <td>Electronic_FULLY_Amendment_forward</td>\n",
       "      <td>36</td>\n",
       "    </tr>\n",
       "    <tr>\n",
       "      <th>4</th>\n",
       "      <td>Electronic_FULLY_Compression_Cash</td>\n",
       "      <td>9</td>\n",
       "    </tr>\n",
       "  </tbody>\n",
       "</table>\n",
       "</div>"
      ],
      "text/plain": [
       "                     group_identifier  group_count\n",
       "0     Electronic_FULLY_Amendment_Cash           15\n",
       "1   Electronic_FULLY_Amendment_Option           21\n",
       "2     Electronic_FULLY_Amendment_Swap          360\n",
       "3  Electronic_FULLY_Amendment_forward           36\n",
       "4   Electronic_FULLY_Compression_Cash            9"
      ]
     },
     "execution_count": 426,
     "metadata": {},
     "output_type": "execute_result"
    }
   ],
   "source": [
    "def create_group_identifier(row):\n",
    "    return f\"{row['method']}_{row['cflag']}_{row['eventT']}_{row['Product']}\"\n",
    "\n",
    "# Apply the function to create a new column 'group_identifier'\n",
    "df['group_identifier'] = df.apply(create_group_identifier, axis=1)\n",
    "\n",
    "# Group the DataFrame by the 'group_identifier' column and count the number of groups\n",
    "grouped_df = df.groupby('group_identifier').size().reset_index(name='group_count')\n",
    "\n",
    "# Display the grouped DataFrame\n",
    "grouped_data=pd.DataFrame(grouped_df)\n",
    "grouped_data.head()"
   ]
  },
  {
   "cell_type": "code",
   "execution_count": null,
   "id": "abe81ae5",
   "metadata": {},
   "outputs": [],
   "source": []
  }
 ],
 "metadata": {
  "kernelspec": {
   "display_name": "Python 3 (ipykernel)",
   "language": "python",
   "name": "python3"
  },
  "language_info": {
   "codemirror_mode": {
    "name": "ipython",
    "version": 3
   },
   "file_extension": ".py",
   "mimetype": "text/x-python",
   "name": "python",
   "nbconvert_exporter": "python",
   "pygments_lexer": "ipython3",
   "version": "3.11.5"
  }
 },
 "nbformat": 4,
 "nbformat_minor": 5
}
