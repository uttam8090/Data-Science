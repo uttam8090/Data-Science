{
 "cells": [
  {
   "cell_type": "markdown",
   "id": "52b911d3",
   "metadata": {},
   "source": [
    "# Importing Libraries"
   ]
  },
  {
   "cell_type": "code",
   "execution_count": 1,
   "id": "6a0a66f0",
   "metadata": {},
   "outputs": [],
   "source": [
    "import os\n",
    "import numpy as np\n",
    "import pandas as pd\n",
    "import matplotlib.pyplot as plt\n",
    "import seaborn as sns"
   ]
  },
  {
   "cell_type": "markdown",
   "id": "4f697828",
   "metadata": {},
   "source": [
    "# Load Dataset"
   ]
  },
  {
   "cell_type": "code",
   "execution_count": 2,
   "id": "0727a0f6",
   "metadata": {},
   "outputs": [
    {
     "data": {
      "text/html": [
       "<div>\n",
       "<style scoped>\n",
       "    .dataframe tbody tr th:only-of-type {\n",
       "        vertical-align: middle;\n",
       "    }\n",
       "\n",
       "    .dataframe tbody tr th {\n",
       "        vertical-align: top;\n",
       "    }\n",
       "\n",
       "    .dataframe thead th {\n",
       "        text-align: right;\n",
       "    }\n",
       "</style>\n",
       "<table border=\"1\" class=\"dataframe\">\n",
       "  <thead>\n",
       "    <tr style=\"text-align: right;\">\n",
       "      <th></th>\n",
       "      <th>event</th>\n",
       "      <th>date</th>\n",
       "      <th>country</th>\n",
       "      <th>city</th>\n",
       "      <th>artist</th>\n",
       "      <th>album</th>\n",
       "      <th>track</th>\n",
       "      <th>isrc</th>\n",
       "      <th>linkid</th>\n",
       "    </tr>\n",
       "  </thead>\n",
       "  <tbody>\n",
       "    <tr>\n",
       "      <th>0</th>\n",
       "      <td>click</td>\n",
       "      <td>2021-08-21</td>\n",
       "      <td>Saudi Arabia</td>\n",
       "      <td>Jeddah</td>\n",
       "      <td>Tesher</td>\n",
       "      <td>Jalebi Baby</td>\n",
       "      <td>Jalebi Baby</td>\n",
       "      <td>QZNWQ2070741</td>\n",
       "      <td>2d896d31-97b6-4869-967b-1c5fb9cd4bb8</td>\n",
       "    </tr>\n",
       "    <tr>\n",
       "      <th>1</th>\n",
       "      <td>click</td>\n",
       "      <td>2021-08-21</td>\n",
       "      <td>Saudi Arabia</td>\n",
       "      <td>Jeddah</td>\n",
       "      <td>Tesher</td>\n",
       "      <td>Jalebi Baby</td>\n",
       "      <td>Jalebi Baby</td>\n",
       "      <td>QZNWQ2070741</td>\n",
       "      <td>2d896d31-97b6-4869-967b-1c5fb9cd4bb8</td>\n",
       "    </tr>\n",
       "    <tr>\n",
       "      <th>2</th>\n",
       "      <td>click</td>\n",
       "      <td>2021-08-21</td>\n",
       "      <td>India</td>\n",
       "      <td>Ludhiana</td>\n",
       "      <td>Reyanna Maria</td>\n",
       "      <td>So Pretty</td>\n",
       "      <td>So Pretty</td>\n",
       "      <td>USUM72100871</td>\n",
       "      <td>23199824-9cf5-4b98-942a-34965c3b0cc2</td>\n",
       "    </tr>\n",
       "    <tr>\n",
       "      <th>3</th>\n",
       "      <td>click</td>\n",
       "      <td>2021-08-21</td>\n",
       "      <td>France</td>\n",
       "      <td>Unknown</td>\n",
       "      <td>Simone &amp; Simaria, Sebastian Yatra</td>\n",
       "      <td>No Llores Más</td>\n",
       "      <td>No Llores Más</td>\n",
       "      <td>BRUM72003904</td>\n",
       "      <td>35573248-4e49-47c7-af80-08a960fa74cd</td>\n",
       "    </tr>\n",
       "    <tr>\n",
       "      <th>4</th>\n",
       "      <td>click</td>\n",
       "      <td>2021-08-21</td>\n",
       "      <td>Maldives</td>\n",
       "      <td>Malé</td>\n",
       "      <td>Tesher</td>\n",
       "      <td>Jalebi Baby</td>\n",
       "      <td>Jalebi Baby</td>\n",
       "      <td>QZNWQ2070741</td>\n",
       "      <td>2d896d31-97b6-4869-967b-1c5fb9cd4bb8</td>\n",
       "    </tr>\n",
       "  </tbody>\n",
       "</table>\n",
       "</div>"
      ],
      "text/plain": [
       "   event        date       country      city  \\\n",
       "0  click  2021-08-21  Saudi Arabia    Jeddah   \n",
       "1  click  2021-08-21  Saudi Arabia    Jeddah   \n",
       "2  click  2021-08-21         India  Ludhiana   \n",
       "3  click  2021-08-21        France   Unknown   \n",
       "4  click  2021-08-21      Maldives      Malé   \n",
       "\n",
       "                              artist          album          track  \\\n",
       "0                             Tesher    Jalebi Baby    Jalebi Baby   \n",
       "1                             Tesher    Jalebi Baby    Jalebi Baby   \n",
       "2                      Reyanna Maria      So Pretty      So Pretty   \n",
       "3  Simone & Simaria, Sebastian Yatra  No Llores Más  No Llores Más   \n",
       "4                             Tesher    Jalebi Baby    Jalebi Baby   \n",
       "\n",
       "           isrc                                linkid  \n",
       "0  QZNWQ2070741  2d896d31-97b6-4869-967b-1c5fb9cd4bb8  \n",
       "1  QZNWQ2070741  2d896d31-97b6-4869-967b-1c5fb9cd4bb8  \n",
       "2  USUM72100871  23199824-9cf5-4b98-942a-34965c3b0cc2  \n",
       "3  BRUM72003904  35573248-4e49-47c7-af80-08a960fa74cd  \n",
       "4  QZNWQ2070741  2d896d31-97b6-4869-967b-1c5fb9cd4bb8  "
      ]
     },
     "execution_count": 2,
     "metadata": {},
     "output_type": "execute_result"
    }
   ],
   "source": [
    "traffic= pd.read_csv('traffic.csv')\n",
    "traffic.head()"
   ]
  },
  {
   "cell_type": "code",
   "execution_count": 3,
   "id": "67d1f551",
   "metadata": {},
   "outputs": [
    {
     "data": {
      "text/plain": [
       "(226278, 9)"
      ]
     },
     "execution_count": 3,
     "metadata": {},
     "output_type": "execute_result"
    }
   ],
   "source": [
    "traffic.shape"
   ]
  },
  {
   "cell_type": "markdown",
   "id": "da04add2",
   "metadata": {},
   "source": [
    "- There are 226278 rows and 9 columns"
   ]
  },
  {
   "cell_type": "code",
   "execution_count": 4,
   "id": "a1e8f1ca",
   "metadata": {},
   "outputs": [
    {
     "name": "stdout",
     "output_type": "stream",
     "text": [
      "<class 'pandas.core.frame.DataFrame'>\n",
      "RangeIndex: 226278 entries, 0 to 226277\n",
      "Data columns (total 9 columns):\n",
      " #   Column   Non-Null Count   Dtype \n",
      "---  ------   --------------   ----- \n",
      " 0   event    226278 non-null  object\n",
      " 1   date     226278 non-null  object\n",
      " 2   country  226267 non-null  object\n",
      " 3   city     226267 non-null  object\n",
      " 4   artist   226241 non-null  object\n",
      " 5   album    226273 non-null  object\n",
      " 6   track    226273 non-null  object\n",
      " 7   isrc     219157 non-null  object\n",
      " 8   linkid   226278 non-null  object\n",
      "dtypes: object(9)\n",
      "memory usage: 15.5+ MB\n"
     ]
    }
   ],
   "source": [
    "traffic.info()"
   ]
  },
  {
   "cell_type": "markdown",
   "id": "6f21006e",
   "metadata": {},
   "source": [
    "- Date column datatype is object so we need to convert it into date"
   ]
  },
  {
   "cell_type": "markdown",
   "id": "4ab222e6",
   "metadata": {},
   "source": [
    "## Converting the datatype of Date column from object to date"
   ]
  },
  {
   "cell_type": "code",
   "execution_count": 5,
   "id": "53b3d86c",
   "metadata": {},
   "outputs": [],
   "source": [
    "traffic['date']= pd.to_datetime(traffic['date'])"
   ]
  },
  {
   "cell_type": "code",
   "execution_count": 6,
   "id": "d1b43db4",
   "metadata": {},
   "outputs": [
    {
     "name": "stdout",
     "output_type": "stream",
     "text": [
      "<class 'pandas.core.frame.DataFrame'>\n",
      "RangeIndex: 226278 entries, 0 to 226277\n",
      "Data columns (total 9 columns):\n",
      " #   Column   Non-Null Count   Dtype         \n",
      "---  ------   --------------   -----         \n",
      " 0   event    226278 non-null  object        \n",
      " 1   date     226278 non-null  datetime64[ns]\n",
      " 2   country  226267 non-null  object        \n",
      " 3   city     226267 non-null  object        \n",
      " 4   artist   226241 non-null  object        \n",
      " 5   album    226273 non-null  object        \n",
      " 6   track    226273 non-null  object        \n",
      " 7   isrc     219157 non-null  object        \n",
      " 8   linkid   226278 non-null  object        \n",
      "dtypes: datetime64[ns](1), object(8)\n",
      "memory usage: 15.5+ MB\n"
     ]
    }
   ],
   "source": [
    "traffic.info()"
   ]
  },
  {
   "cell_type": "markdown",
   "id": "39f33d6d",
   "metadata": {},
   "source": [
    "## Check for Missing Values"
   ]
  },
  {
   "cell_type": "code",
   "execution_count": 8,
   "id": "149fe8bc",
   "metadata": {},
   "outputs": [
    {
     "data": {
      "text/plain": [
       "event         0\n",
       "date          0\n",
       "country      11\n",
       "city         11\n",
       "artist       37\n",
       "album         5\n",
       "track         5\n",
       "isrc       7121\n",
       "linkid        0\n",
       "dtype: int64"
      ]
     },
     "execution_count": 8,
     "metadata": {},
     "output_type": "execute_result"
    }
   ],
   "source": [
    "traffic.isna().sum()"
   ]
  },
  {
   "cell_type": "code",
   "execution_count": 10,
   "id": "7f128cc8",
   "metadata": {},
   "outputs": [
    {
     "data": {
      "text/plain": [
       "event      0.000000\n",
       "date       0.000000\n",
       "country    0.004861\n",
       "city       0.004861\n",
       "artist     0.016352\n",
       "album      0.002210\n",
       "track      0.002210\n",
       "isrc       3.147014\n",
       "linkid     0.000000\n",
       "dtype: float64"
      ]
     },
     "execution_count": 10,
     "metadata": {},
     "output_type": "execute_result"
    }
   ],
   "source": [
    "traffic.isna().sum()/len(traffic)*100"
   ]
  },
  {
   "cell_type": "markdown",
   "id": "cdc6a94e",
   "metadata": {},
   "source": [
    "- There are missing values in the data and missing percentage is less than 25% so we can impute the missing values"
   ]
  },
  {
   "cell_type": "markdown",
   "id": "f24023b3",
   "metadata": {},
   "source": [
    "## Check for Duplicate Data"
   ]
  },
  {
   "cell_type": "code",
   "execution_count": 11,
   "id": "a54a43ca",
   "metadata": {},
   "outputs": [
    {
     "data": {
      "text/plain": [
       "103711"
      ]
     },
     "execution_count": 11,
     "metadata": {},
     "output_type": "execute_result"
    }
   ],
   "source": [
    "traffic.duplicated().sum()"
   ]
  },
  {
   "cell_type": "markdown",
   "id": "a8c722ac",
   "metadata": {},
   "source": [
    "- There are 103711 duplicate values in the data so we need to drop these duplicates"
   ]
  },
  {
   "cell_type": "code",
   "execution_count": 15,
   "id": "70d942ca",
   "metadata": {},
   "outputs": [],
   "source": [
    "traffic.drop_duplicates(inplace=True)"
   ]
  },
  {
   "cell_type": "code",
   "execution_count": 16,
   "id": "abdcd4fa",
   "metadata": {},
   "outputs": [
    {
     "data": {
      "text/plain": [
       "0"
      ]
     },
     "execution_count": 16,
     "metadata": {},
     "output_type": "execute_result"
    }
   ],
   "source": [
    "traffic.duplicated().sum()"
   ]
  },
  {
   "cell_type": "markdown",
   "id": "7bd6b188",
   "metadata": {},
   "source": [
    "- We have successfully handled duplicate data"
   ]
  },
  {
   "cell_type": "code",
   "execution_count": 17,
   "id": "69e96e1e",
   "metadata": {},
   "outputs": [
    {
     "data": {
      "text/plain": [
       "(122567, 9)"
      ]
     },
     "execution_count": 17,
     "metadata": {},
     "output_type": "execute_result"
    }
   ],
   "source": [
    "traffic.shape"
   ]
  },
  {
   "cell_type": "markdown",
   "id": "bfd56142",
   "metadata": {},
   "source": [
    "## Handling Missing Data"
   ]
  },
  {
   "cell_type": "code",
   "execution_count": 18,
   "id": "1bad90e2",
   "metadata": {},
   "outputs": [
    {
     "data": {
      "text/plain": [
       "event         0\n",
       "date          0\n",
       "country       5\n",
       "city          5\n",
       "artist       28\n",
       "album         4\n",
       "track         4\n",
       "isrc       6306\n",
       "linkid        0\n",
       "dtype: int64"
      ]
     },
     "execution_count": 18,
     "metadata": {},
     "output_type": "execute_result"
    }
   ],
   "source": [
    "traffic.isna().sum()"
   ]
  },
  {
   "cell_type": "code",
   "execution_count": 19,
   "id": "80bfb3ea",
   "metadata": {},
   "outputs": [
    {
     "data": {
      "text/plain": [
       "country\n",
       "United States     28664\n",
       "India             18689\n",
       "France            10565\n",
       "Saudi Arabia       7682\n",
       "United Kingdom     5095\n",
       "                  ...  \n",
       "Samoa                 2\n",
       "Macao                 2\n",
       "Afghanistan           2\n",
       "Lesotho               1\n",
       "Sint Maarten          1\n",
       "Name: count, Length: 211, dtype: int64"
      ]
     },
     "execution_count": 19,
     "metadata": {},
     "output_type": "execute_result"
    }
   ],
   "source": [
    "traffic['country'].value_counts()"
   ]
  },
  {
   "cell_type": "code",
   "execution_count": 20,
   "id": "69465786",
   "metadata": {},
   "outputs": [],
   "source": [
    "traffic['country']= traffic['country'].fillna(traffic['country'].mode()[0])"
   ]
  },
  {
   "cell_type": "code",
   "execution_count": 21,
   "id": "82aaf5cb",
   "metadata": {},
   "outputs": [
    {
     "data": {
      "text/plain": [
       "city\n",
       "Unknown                8797\n",
       "Jeddah                 2497\n",
       "Riyadh                 2232\n",
       "Hyderabad              1088\n",
       "Dammam                 1002\n",
       "                       ... \n",
       "Kentwood                  1\n",
       "Saint-Come--Liniere       1\n",
       "Pontedassio               1\n",
       "Greater Noida             1\n",
       "Soumagne                  1\n",
       "Name: count, Length: 11993, dtype: int64"
      ]
     },
     "execution_count": 21,
     "metadata": {},
     "output_type": "execute_result"
    }
   ],
   "source": [
    "traffic['city'].value_counts()"
   ]
  },
  {
   "cell_type": "code",
   "execution_count": 22,
   "id": "8aad53e6",
   "metadata": {},
   "outputs": [],
   "source": [
    "traffic['city']= traffic['city'].fillna(traffic['city'].mode()[0])"
   ]
  },
  {
   "cell_type": "code",
   "execution_count": 23,
   "id": "6f425430",
   "metadata": {},
   "outputs": [
    {
     "data": {
      "text/plain": [
       "artist\n",
       "Tesher                            8288\n",
       "Anne-Marie                        4029\n",
       "Tundra Beats                      3951\n",
       "Roddy Ricch                       3107\n",
       "Olivia Rodrigo                    3037\n",
       "                                  ... \n",
       "Lynda                                1\n",
       "Neutro Shorty                        1\n",
       "Meridian Film Music Recordings       1\n",
       "The Marvelettes                      1\n",
       "Kiiara                               1\n",
       "Name: count, Length: 2419, dtype: int64"
      ]
     },
     "execution_count": 23,
     "metadata": {},
     "output_type": "execute_result"
    }
   ],
   "source": [
    "traffic['artist'].value_counts()"
   ]
  },
  {
   "cell_type": "code",
   "execution_count": 24,
   "id": "3e10c11a",
   "metadata": {},
   "outputs": [],
   "source": [
    "traffic['artist']= traffic['artist'].fillna(traffic['artist'].mode()[0])"
   ]
  },
  {
   "cell_type": "code",
   "execution_count": 25,
   "id": "690fc530",
   "metadata": {},
   "outputs": [
    {
     "data": {
      "text/plain": [
       "album\n",
       "Jalebi Baby                             8288\n",
       "Beautiful                               4028\n",
       "Beautiful Day                           3950\n",
       "Late At Night                           3059\n",
       "ily (i love you baby) (feat. Emilee)    2956\n",
       "                                        ... \n",
       "غيمة                                       1\n",
       "Ando Bien                                  1\n",
       "Wish You Were Sober                        1\n",
       "Energy                                     1\n",
       "low kii savage                             1\n",
       "Name: count, Length: 3254, dtype: int64"
      ]
     },
     "execution_count": 25,
     "metadata": {},
     "output_type": "execute_result"
    }
   ],
   "source": [
    "traffic['album'].value_counts()"
   ]
  },
  {
   "cell_type": "code",
   "execution_count": 26,
   "id": "1d874fee",
   "metadata": {},
   "outputs": [],
   "source": [
    "traffic['album']= traffic['album'].fillna(traffic['album'].mode()[0])"
   ]
  },
  {
   "cell_type": "code",
   "execution_count": 27,
   "id": "5b29048f",
   "metadata": {},
   "outputs": [
    {
     "data": {
      "text/plain": [
       "track\n",
       "Jalebi Baby                             8288\n",
       "Beautiful                               4037\n",
       "Beautiful Day                           3951\n",
       "Late At Night                           3059\n",
       "ily (i love you baby) (feat. Emilee)    2956\n",
       "                                        ... \n",
       "Vem Mim Amar                               1\n",
       "Fast As You                                1\n",
       "Bad Boy (with Young Thug)                  1\n",
       "NO OPS                                     1\n",
       "Gold                                       1\n",
       "Name: count, Length: 3562, dtype: int64"
      ]
     },
     "execution_count": 27,
     "metadata": {},
     "output_type": "execute_result"
    }
   ],
   "source": [
    "traffic['track'].value_counts()"
   ]
  },
  {
   "cell_type": "code",
   "execution_count": 28,
   "id": "c5185f98",
   "metadata": {},
   "outputs": [],
   "source": [
    "traffic['track']= traffic['track'].fillna(traffic['track'].mode()[0])"
   ]
  },
  {
   "cell_type": "code",
   "execution_count": 29,
   "id": "4a1f4aab",
   "metadata": {},
   "outputs": [
    {
     "data": {
      "text/plain": [
       "isrc\n",
       "QZNWQ2070741    8288\n",
       "GBAHS2100225    4028\n",
       "QZHN92194591    3950\n",
       "USAT22102236    3059\n",
       "QZJRC1945204    2947\n",
       "                ... \n",
       "QMCE32100057       1\n",
       "QM24S2104798       1\n",
       "USAT22102351       1\n",
       "QZ93L2106845       1\n",
       "USWL12100113       1\n",
       "Name: count, Length: 709, dtype: int64"
      ]
     },
     "execution_count": 29,
     "metadata": {},
     "output_type": "execute_result"
    }
   ],
   "source": [
    "traffic['isrc'].value_counts()"
   ]
  },
  {
   "cell_type": "code",
   "execution_count": 30,
   "id": "e5c6255a",
   "metadata": {},
   "outputs": [],
   "source": [
    "traffic['isrc']= traffic['isrc'].fillna(traffic['isrc'].mode()[0])"
   ]
  },
  {
   "cell_type": "code",
   "execution_count": 31,
   "id": "306f07ae",
   "metadata": {},
   "outputs": [
    {
     "data": {
      "text/plain": [
       "event      0\n",
       "date       0\n",
       "country    0\n",
       "city       0\n",
       "artist     0\n",
       "album      0\n",
       "track      0\n",
       "isrc       0\n",
       "linkid     0\n",
       "dtype: int64"
      ]
     },
     "execution_count": 31,
     "metadata": {},
     "output_type": "execute_result"
    }
   ],
   "source": [
    "traffic.isna().sum()"
   ]
  },
  {
   "cell_type": "code",
   "execution_count": 41,
   "id": "fce22d64",
   "metadata": {},
   "outputs": [
    {
     "data": {
      "text/html": [
       "<div>\n",
       "<style scoped>\n",
       "    .dataframe tbody tr th:only-of-type {\n",
       "        vertical-align: middle;\n",
       "    }\n",
       "\n",
       "    .dataframe tbody tr th {\n",
       "        vertical-align: top;\n",
       "    }\n",
       "\n",
       "    .dataframe thead th {\n",
       "        text-align: right;\n",
       "    }\n",
       "</style>\n",
       "<table border=\"1\" class=\"dataframe\">\n",
       "  <thead>\n",
       "    <tr style=\"text-align: right;\">\n",
       "      <th></th>\n",
       "      <th>event</th>\n",
       "      <th>date</th>\n",
       "      <th>country</th>\n",
       "      <th>city</th>\n",
       "      <th>artist</th>\n",
       "      <th>album</th>\n",
       "      <th>track</th>\n",
       "      <th>isrc</th>\n",
       "      <th>linkid</th>\n",
       "    </tr>\n",
       "  </thead>\n",
       "  <tbody>\n",
       "    <tr>\n",
       "      <th>0</th>\n",
       "      <td>click</td>\n",
       "      <td>2021-08-21</td>\n",
       "      <td>Saudi Arabia</td>\n",
       "      <td>Jeddah</td>\n",
       "      <td>Tesher</td>\n",
       "      <td>Jalebi Baby</td>\n",
       "      <td>Jalebi Baby</td>\n",
       "      <td>QZNWQ2070741</td>\n",
       "      <td>2d896d31-97b6-4869-967b-1c5fb9cd4bb8</td>\n",
       "    </tr>\n",
       "    <tr>\n",
       "      <th>2</th>\n",
       "      <td>click</td>\n",
       "      <td>2021-08-21</td>\n",
       "      <td>India</td>\n",
       "      <td>Ludhiana</td>\n",
       "      <td>Reyanna Maria</td>\n",
       "      <td>So Pretty</td>\n",
       "      <td>So Pretty</td>\n",
       "      <td>USUM72100871</td>\n",
       "      <td>23199824-9cf5-4b98-942a-34965c3b0cc2</td>\n",
       "    </tr>\n",
       "    <tr>\n",
       "      <th>3</th>\n",
       "      <td>click</td>\n",
       "      <td>2021-08-21</td>\n",
       "      <td>France</td>\n",
       "      <td>Unknown</td>\n",
       "      <td>Simone &amp; Simaria, Sebastian Yatra</td>\n",
       "      <td>No Llores Más</td>\n",
       "      <td>No Llores Más</td>\n",
       "      <td>BRUM72003904</td>\n",
       "      <td>35573248-4e49-47c7-af80-08a960fa74cd</td>\n",
       "    </tr>\n",
       "    <tr>\n",
       "      <th>4</th>\n",
       "      <td>click</td>\n",
       "      <td>2021-08-21</td>\n",
       "      <td>Maldives</td>\n",
       "      <td>Malé</td>\n",
       "      <td>Tesher</td>\n",
       "      <td>Jalebi Baby</td>\n",
       "      <td>Jalebi Baby</td>\n",
       "      <td>QZNWQ2070741</td>\n",
       "      <td>2d896d31-97b6-4869-967b-1c5fb9cd4bb8</td>\n",
       "    </tr>\n",
       "    <tr>\n",
       "      <th>5</th>\n",
       "      <td>click</td>\n",
       "      <td>2021-08-21</td>\n",
       "      <td>United States</td>\n",
       "      <td>Los Angeles</td>\n",
       "      <td>KenTheMan</td>\n",
       "      <td>I'm Perfect</td>\n",
       "      <td>I'm Perfect</td>\n",
       "      <td>US39N2102090</td>\n",
       "      <td>190c7170-4044-4c97-9709-926917155b02</td>\n",
       "    </tr>\n",
       "  </tbody>\n",
       "</table>\n",
       "</div>"
      ],
      "text/plain": [
       "   event       date        country         city  \\\n",
       "0  click 2021-08-21   Saudi Arabia       Jeddah   \n",
       "2  click 2021-08-21          India     Ludhiana   \n",
       "3  click 2021-08-21         France      Unknown   \n",
       "4  click 2021-08-21       Maldives         Malé   \n",
       "5  click 2021-08-21  United States  Los Angeles   \n",
       "\n",
       "                              artist          album          track  \\\n",
       "0                             Tesher    Jalebi Baby    Jalebi Baby   \n",
       "2                      Reyanna Maria      So Pretty      So Pretty   \n",
       "3  Simone & Simaria, Sebastian Yatra  No Llores Más  No Llores Más   \n",
       "4                             Tesher    Jalebi Baby    Jalebi Baby   \n",
       "5                          KenTheMan    I'm Perfect    I'm Perfect   \n",
       "\n",
       "           isrc                                linkid  \n",
       "0  QZNWQ2070741  2d896d31-97b6-4869-967b-1c5fb9cd4bb8  \n",
       "2  USUM72100871  23199824-9cf5-4b98-942a-34965c3b0cc2  \n",
       "3  BRUM72003904  35573248-4e49-47c7-af80-08a960fa74cd  \n",
       "4  QZNWQ2070741  2d896d31-97b6-4869-967b-1c5fb9cd4bb8  \n",
       "5  US39N2102090  190c7170-4044-4c97-9709-926917155b02  "
      ]
     },
     "execution_count": 41,
     "metadata": {},
     "output_type": "execute_result"
    }
   ],
   "source": [
    "traffic.head()"
   ]
  },
  {
   "cell_type": "markdown",
   "id": "2f35a19a",
   "metadata": {},
   "source": [
    "## Total pageview events"
   ]
  },
  {
   "cell_type": "code",
   "execution_count": 40,
   "id": "adba727f",
   "metadata": {},
   "outputs": [
    {
     "data": {
      "text/plain": [
       "73360"
      ]
     },
     "execution_count": 40,
     "metadata": {},
     "output_type": "execute_result"
    }
   ],
   "source": [
    "traffic[traffic['event']=='pageview'].shape[0]"
   ]
  },
  {
   "cell_type": "markdown",
   "id": "4c7cce50",
   "metadata": {},
   "source": [
    "## Average number of pageview events per day"
   ]
  },
  {
   "cell_type": "code",
   "execution_count": 68,
   "id": "e41a3148",
   "metadata": {},
   "outputs": [],
   "source": [
    "pageview_data = traffic[traffic['event'] == 'pageview']"
   ]
  },
  {
   "cell_type": "code",
   "execution_count": 69,
   "id": "0f1aa857",
   "metadata": {},
   "outputs": [],
   "source": [
    "pageview_counts_per_day = pageview_data.groupby('date').size()"
   ]
  },
  {
   "cell_type": "code",
   "execution_count": 70,
   "id": "d1b45fb6",
   "metadata": {},
   "outputs": [
    {
     "data": {
      "text/plain": [
       "10480.0"
      ]
     },
     "execution_count": 70,
     "metadata": {},
     "output_type": "execute_result"
    }
   ],
   "source": [
    "average_pageviews_per_day = pageview_counts_per_day.mean()\n",
    "average_pageviews_per_day"
   ]
  },
  {
   "cell_type": "markdown",
   "id": "26d6602c",
   "metadata": {},
   "source": [
    "## Total count of other recorded events"
   ]
  },
  {
   "cell_type": "code",
   "execution_count": 54,
   "id": "2816ad45",
   "metadata": {},
   "outputs": [
    {
     "data": {
      "text/plain": [
       "49207"
      ]
     },
     "execution_count": 54,
     "metadata": {},
     "output_type": "execute_result"
    }
   ],
   "source": [
    "traffic[traffic['event']!='pageview'].shape[0]"
   ]
  },
  {
   "cell_type": "markdown",
   "id": "9701140d",
   "metadata": {},
   "source": [
    "## Distribution of other recorded events"
   ]
  },
  {
   "cell_type": "code",
   "execution_count": 55,
   "id": "af70c6ed",
   "metadata": {},
   "outputs": [
    {
     "data": {
      "text/plain": [
       "32499"
      ]
     },
     "execution_count": 55,
     "metadata": {},
     "output_type": "execute_result"
    }
   ],
   "source": [
    "traffic[traffic['event']=='click'].shape[0]"
   ]
  },
  {
   "cell_type": "code",
   "execution_count": 56,
   "id": "d7c4317f",
   "metadata": {},
   "outputs": [
    {
     "data": {
      "text/plain": [
       "16708"
      ]
     },
     "execution_count": 56,
     "metadata": {},
     "output_type": "execute_result"
    }
   ],
   "source": [
    "traffic[traffic['event']=='preview'].shape[0]"
   ]
  },
  {
   "cell_type": "markdown",
   "id": "dc1ae880",
   "metadata": {},
   "source": [
    "## Geographical Distribution"
   ]
  },
  {
   "cell_type": "code",
   "execution_count": 72,
   "id": "6853cfee",
   "metadata": {},
   "outputs": [
    {
     "data": {
      "text/html": [
       "<div>\n",
       "<style scoped>\n",
       "    .dataframe tbody tr th:only-of-type {\n",
       "        vertical-align: middle;\n",
       "    }\n",
       "\n",
       "    .dataframe tbody tr th {\n",
       "        vertical-align: top;\n",
       "    }\n",
       "\n",
       "    .dataframe thead th {\n",
       "        text-align: right;\n",
       "    }\n",
       "</style>\n",
       "<table border=\"1\" class=\"dataframe\">\n",
       "  <thead>\n",
       "    <tr style=\"text-align: right;\">\n",
       "      <th></th>\n",
       "      <th>event</th>\n",
       "      <th>date</th>\n",
       "      <th>country</th>\n",
       "      <th>city</th>\n",
       "      <th>artist</th>\n",
       "      <th>album</th>\n",
       "      <th>track</th>\n",
       "      <th>isrc</th>\n",
       "      <th>linkid</th>\n",
       "    </tr>\n",
       "  </thead>\n",
       "  <tbody>\n",
       "    <tr>\n",
       "      <th>84043</th>\n",
       "      <td>pageview</td>\n",
       "      <td>2021-08-19</td>\n",
       "      <td>Saudi Arabia</td>\n",
       "      <td>Riyadh</td>\n",
       "      <td>Tesher</td>\n",
       "      <td>Jalebi Baby</td>\n",
       "      <td>Jalebi Baby</td>\n",
       "      <td>QZNWQ2070741</td>\n",
       "      <td>2d896d31-97b6-4869-967b-1c5fb9cd4bb8</td>\n",
       "    </tr>\n",
       "    <tr>\n",
       "      <th>84044</th>\n",
       "      <td>pageview</td>\n",
       "      <td>2021-08-19</td>\n",
       "      <td>United States</td>\n",
       "      <td>Absecon</td>\n",
       "      <td>KA$HDAMI</td>\n",
       "      <td>epiphany</td>\n",
       "      <td>Reparations!</td>\n",
       "      <td>QZFYY2115255</td>\n",
       "      <td>9c61dba1-9369-4ee4-a215-1d34581cd811</td>\n",
       "    </tr>\n",
       "    <tr>\n",
       "      <th>84046</th>\n",
       "      <td>pageview</td>\n",
       "      <td>2021-08-19</td>\n",
       "      <td>Ireland</td>\n",
       "      <td>Mullingar</td>\n",
       "      <td>Cardi B</td>\n",
       "      <td>Up</td>\n",
       "      <td>Up</td>\n",
       "      <td>USAT22100061</td>\n",
       "      <td>9d847c0e-6824-438f-9dc1-d76fca6dc87c</td>\n",
       "    </tr>\n",
       "    <tr>\n",
       "      <th>84047</th>\n",
       "      <td>pageview</td>\n",
       "      <td>2021-08-19</td>\n",
       "      <td>United Kingdom</td>\n",
       "      <td>Northampton</td>\n",
       "      <td>Kayla Nicole, Taylor Girlz, Flo Milli</td>\n",
       "      <td>Bundles 2 (feat. Flo Milli, Taylor Girlz)</td>\n",
       "      <td>Bundles 2 (feat. Flo Milli, Taylor Girlz)</td>\n",
       "      <td>QMCE32100359</td>\n",
       "      <td>fbf4b935-f961-4b13-b1d8-45ad47093559</td>\n",
       "    </tr>\n",
       "    <tr>\n",
       "      <th>84048</th>\n",
       "      <td>pageview</td>\n",
       "      <td>2021-08-19</td>\n",
       "      <td>Saudi Arabia</td>\n",
       "      <td>Yanbu</td>\n",
       "      <td>Wun Two</td>\n",
       "      <td>econto - Single</td>\n",
       "      <td>econto</td>\n",
       "      <td>USAT22103621</td>\n",
       "      <td>950cfa6f-ed68-4de6-bbba-ddf697f0eeed</td>\n",
       "    </tr>\n",
       "  </tbody>\n",
       "</table>\n",
       "</div>"
      ],
      "text/plain": [
       "          event       date         country         city  \\\n",
       "84043  pageview 2021-08-19    Saudi Arabia       Riyadh   \n",
       "84044  pageview 2021-08-19   United States      Absecon   \n",
       "84046  pageview 2021-08-19         Ireland    Mullingar   \n",
       "84047  pageview 2021-08-19  United Kingdom  Northampton   \n",
       "84048  pageview 2021-08-19    Saudi Arabia        Yanbu   \n",
       "\n",
       "                                      artist  \\\n",
       "84043                                 Tesher   \n",
       "84044                               KA$HDAMI   \n",
       "84046                                Cardi B   \n",
       "84047  Kayla Nicole, Taylor Girlz, Flo Milli   \n",
       "84048                                Wun Two   \n",
       "\n",
       "                                           album  \\\n",
       "84043                                Jalebi Baby   \n",
       "84044                                   epiphany   \n",
       "84046                                         Up   \n",
       "84047  Bundles 2 (feat. Flo Milli, Taylor Girlz)   \n",
       "84048                            econto - Single   \n",
       "\n",
       "                                           track          isrc  \\\n",
       "84043                                Jalebi Baby  QZNWQ2070741   \n",
       "84044                               Reparations!  QZFYY2115255   \n",
       "84046                                         Up  USAT22100061   \n",
       "84047  Bundles 2 (feat. Flo Milli, Taylor Girlz)  QMCE32100359   \n",
       "84048                                     econto  USAT22103621   \n",
       "\n",
       "                                     linkid  \n",
       "84043  2d896d31-97b6-4869-967b-1c5fb9cd4bb8  \n",
       "84044  9c61dba1-9369-4ee4-a215-1d34581cd811  \n",
       "84046  9d847c0e-6824-438f-9dc1-d76fca6dc87c  \n",
       "84047  fbf4b935-f961-4b13-b1d8-45ad47093559  \n",
       "84048  950cfa6f-ed68-4de6-bbba-ddf697f0eeed  "
      ]
     },
     "execution_count": 72,
     "metadata": {},
     "output_type": "execute_result"
    }
   ],
   "source": [
    "pageview_data.head()"
   ]
  },
  {
   "cell_type": "code",
   "execution_count": 74,
   "id": "aa1b229f",
   "metadata": {},
   "outputs": [
    {
     "name": "stdout",
     "output_type": "stream",
     "text": [
      "['Saudi Arabia' 'United States' 'Ireland' 'United Kingdom' 'France'\n",
      " 'Guatemala' 'Jordan' 'Kuwait' 'Pakistan' 'Italy' 'Germany' 'Iraq' 'Peru'\n",
      " 'India' 'Nicaragua' 'Rwanda' 'Tanzania' 'United Arab Emirates' 'Norway'\n",
      " 'Oman' 'Bahamas' 'Algeria' 'Czechia' 'Mexico' 'Jamaica' 'Netherlands'\n",
      " 'Colombia' 'Morocco' 'Australia' 'Myanmar' 'Uzbekistan' 'Austria'\n",
      " 'Latvia' 'Turkey' 'Mauritania' 'Sri Lanka' 'Bosnia and Herzegovina'\n",
      " 'Estonia' 'Nigeria' 'Bulgaria' 'Greece' 'El Salvador' 'Philippines'\n",
      " 'Denmark' 'Serbia' 'Canada' 'Spain' 'Libya' 'Palestine' 'Chad' 'Ecuador'\n",
      " 'Mali' 'Romania' 'Switzerland' 'Portugal' 'Slovenia' 'Iceland' 'Sweden'\n",
      " 'Bahrain' 'Egypt' 'Lithuania' 'Liberia' 'Israel' 'Ukraine' 'Puerto Rico'\n",
      " 'South Africa' 'Ghana' 'Kenya' 'Armenia' 'Nepal' 'Barbados' 'Azerbaijan'\n",
      " 'Qatar' 'Uganda' 'Poland' 'Brazil' 'Guyana' 'Fiji' 'Bangladesh' 'Belgium'\n",
      " 'Hong Kong' 'Haiti' 'Botswana' 'Ivory Coast' 'Bhutan' 'Indonesia'\n",
      " 'Réunion' 'Cameroon' 'Singapore' 'Yemen' 'French Guiana' 'Slovakia'\n",
      " 'Dominican Republic' 'Russia' 'Cabo Verde' 'Kyrgyzstan' 'New Zealand'\n",
      " 'U.S. Virgin Islands' 'Albania' 'Venezuela' 'Burkina Faso' 'Montenegro'\n",
      " 'Paraguay' 'Bolivia' 'Cyprus' 'Mayotte' 'Thailand' 'Maldives' 'Tunisia'\n",
      " 'Namibia' 'Costa Rica' 'Croatia' 'Trinidad and Tobago' 'Senegal'\n",
      " 'Suriname' 'Malaysia' 'Honduras' 'DR Congo' 'South Korea' 'Finland'\n",
      " 'Mozambique' 'Hungary' 'Kazakhstan' 'Zambia' 'Somalia' 'Moldova'\n",
      " 'Cayman Islands' 'Saint Vincent and the Grenadines' 'Martinique'\n",
      " 'Guadeloupe' 'Kosovo' 'Sudan' 'Saint Lucia' 'Uruguay' 'Mauritius' 'Aruba'\n",
      " 'Curaçao' 'British Virgin Islands' 'Vietnam' 'Laos' 'Sierra Leone'\n",
      " 'Seychelles' 'Guinea' 'Lebanon' 'Angola' 'Belize' 'Togo'\n",
      " 'Turks and Caicos Islands' 'Georgia' 'Gabon' 'Argentina'\n",
      " 'North Macedonia' 'Benin' 'Ethiopia' 'Niger' 'Zimbabwe'\n",
      " 'St Kitts and Nevis' 'Malawi' 'Chile' 'Madagascar' 'Panama' 'Luxembourg'\n",
      " 'Grenada' 'Greenland' 'Mongolia' 'Taiwan' 'Liechtenstein' 'Anguilla'\n",
      " 'Principality of Monaco' 'Djibouti' 'Samoa' 'Åland' 'Eswatini'\n",
      " 'Faroe Islands' 'Cambodia' 'China' 'French Polynesia' 'Papua New Guinea'\n",
      " 'Japan' 'Lesotho' 'Eritrea' 'Iran' 'Antigua and Barbuda' 'Burundi'\n",
      " 'Belarus' 'Guinea-Bissau' 'Bermuda' 'Gambia' 'Isle of Man'\n",
      " 'American Samoa' 'Tajikistan' 'Comoros' 'Jersey' 'Andorra' 'Brunei'\n",
      " 'Congo Republic' 'Syria' 'Dominica' 'New Caledonia' 'Marshall Islands'\n",
      " 'Macao' 'Gibraltar' 'Palau' 'Solomon Islands' 'Malta' 'Wallis and Futuna'\n",
      " 'Afghanistan' 'Central African Republic' 'Guernsey' 'Sint Maarten'\n",
      " 'Saint Martin']\n"
     ]
    }
   ],
   "source": [
    "pageview_countries= pageview_data['country'].unique()\n",
    "print(pageview_countries)"
   ]
  },
  {
   "cell_type": "markdown",
   "id": "6dbd8f32",
   "metadata": {},
   "source": [
    "## Click-Through Rate Analysis"
   ]
  },
  {
   "cell_type": "code",
   "execution_count": 75,
   "id": "b41ec36b",
   "metadata": {},
   "outputs": [],
   "source": [
    "total_clicks= traffic[traffic['event']=='click'].shape[0]\n",
    "total_pageviews= traffic[traffic['event']=='pageview'].shape[0]"
   ]
  },
  {
   "cell_type": "code",
   "execution_count": 76,
   "id": "2e7bf621",
   "metadata": {},
   "outputs": [
    {
     "data": {
      "text/plain": [
       "44.30070883315158"
      ]
     },
     "execution_count": 76,
     "metadata": {},
     "output_type": "execute_result"
    }
   ],
   "source": [
    "ctr= (total_clicks / total_pageviews)*100\n",
    "ctr"
   ]
  },
  {
   "cell_type": "code",
   "execution_count": 79,
   "id": "df1c3789",
   "metadata": {},
   "outputs": [
    {
     "data": {
      "text/html": [
       "<div>\n",
       "<style scoped>\n",
       "    .dataframe tbody tr th:only-of-type {\n",
       "        vertical-align: middle;\n",
       "    }\n",
       "\n",
       "    .dataframe tbody tr th {\n",
       "        vertical-align: top;\n",
       "    }\n",
       "\n",
       "    .dataframe thead th {\n",
       "        text-align: right;\n",
       "    }\n",
       "</style>\n",
       "<table border=\"1\" class=\"dataframe\">\n",
       "  <thead>\n",
       "    <tr style=\"text-align: right;\">\n",
       "      <th>event</th>\n",
       "      <th>click</th>\n",
       "      <th>pageview</th>\n",
       "      <th>preview</th>\n",
       "    </tr>\n",
       "    <tr>\n",
       "      <th>linkid</th>\n",
       "      <th></th>\n",
       "      <th></th>\n",
       "      <th></th>\n",
       "    </tr>\n",
       "  </thead>\n",
       "  <tbody>\n",
       "    <tr>\n",
       "      <th>00073307-ae96-5089-a117-4783afb42f8e</th>\n",
       "      <td>0</td>\n",
       "      <td>2</td>\n",
       "      <td>0</td>\n",
       "    </tr>\n",
       "    <tr>\n",
       "      <th>00126b32-0c35-507b-981c-02c80d2aa8e7</th>\n",
       "      <td>2</td>\n",
       "      <td>2</td>\n",
       "      <td>0</td>\n",
       "    </tr>\n",
       "    <tr>\n",
       "      <th>0018cfff-50a1-5984-9715-01ef2d11a49a</th>\n",
       "      <td>0</td>\n",
       "      <td>1</td>\n",
       "      <td>0</td>\n",
       "    </tr>\n",
       "    <tr>\n",
       "      <th>0033934b-5d16-5a06-af58-d087bcdd3680</th>\n",
       "      <td>0</td>\n",
       "      <td>1</td>\n",
       "      <td>0</td>\n",
       "    </tr>\n",
       "    <tr>\n",
       "      <th>0034d6cf-3bd8-5ffe-aafc-b3959fc48608</th>\n",
       "      <td>0</td>\n",
       "      <td>1</td>\n",
       "      <td>0</td>\n",
       "    </tr>\n",
       "    <tr>\n",
       "      <th>...</th>\n",
       "      <td>...</td>\n",
       "      <td>...</td>\n",
       "      <td>...</td>\n",
       "    </tr>\n",
       "    <tr>\n",
       "      <th>fff38ca0-8043-50cd-a5f1-f65ebb7105c5</th>\n",
       "      <td>1</td>\n",
       "      <td>1</td>\n",
       "      <td>0</td>\n",
       "    </tr>\n",
       "    <tr>\n",
       "      <th>fff4e5f0-4ee5-5fe7-aa30-e870edaf6ed7</th>\n",
       "      <td>0</td>\n",
       "      <td>1</td>\n",
       "      <td>0</td>\n",
       "    </tr>\n",
       "    <tr>\n",
       "      <th>fff84c0e-90a1-59d8-9997-adc909d50e16</th>\n",
       "      <td>1</td>\n",
       "      <td>1</td>\n",
       "      <td>0</td>\n",
       "    </tr>\n",
       "    <tr>\n",
       "      <th>fffc17a7-f935-5d3e-bd3e-d761fd80d479</th>\n",
       "      <td>1</td>\n",
       "      <td>2</td>\n",
       "      <td>0</td>\n",
       "    </tr>\n",
       "    <tr>\n",
       "      <th>fffd0045-29de-522b-b5d8-35786363bf07</th>\n",
       "      <td>1</td>\n",
       "      <td>2</td>\n",
       "      <td>0</td>\n",
       "    </tr>\n",
       "  </tbody>\n",
       "</table>\n",
       "<p>3839 rows × 3 columns</p>\n",
       "</div>"
      ],
      "text/plain": [
       "event                                 click  pageview  preview\n",
       "linkid                                                        \n",
       "00073307-ae96-5089-a117-4783afb42f8e      0         2        0\n",
       "00126b32-0c35-507b-981c-02c80d2aa8e7      2         2        0\n",
       "0018cfff-50a1-5984-9715-01ef2d11a49a      0         1        0\n",
       "0033934b-5d16-5a06-af58-d087bcdd3680      0         1        0\n",
       "0034d6cf-3bd8-5ffe-aafc-b3959fc48608      0         1        0\n",
       "...                                     ...       ...      ...\n",
       "fff38ca0-8043-50cd-a5f1-f65ebb7105c5      1         1        0\n",
       "fff4e5f0-4ee5-5fe7-aa30-e870edaf6ed7      0         1        0\n",
       "fff84c0e-90a1-59d8-9997-adc909d50e16      1         1        0\n",
       "fffc17a7-f935-5d3e-bd3e-d761fd80d479      1         2        0\n",
       "fffd0045-29de-522b-b5d8-35786363bf07      1         2        0\n",
       "\n",
       "[3839 rows x 3 columns]"
      ]
     },
     "execution_count": 79,
     "metadata": {},
     "output_type": "execute_result"
    }
   ],
   "source": [
    "link_group= traffic.groupby('linkid')['event'].value_counts().unstack(fill_value=0)\n",
    "link_group"
   ]
  },
  {
   "cell_type": "code",
   "execution_count": 81,
   "id": "2aa251c2",
   "metadata": {},
   "outputs": [
    {
     "data": {
      "text/html": [
       "<div>\n",
       "<style scoped>\n",
       "    .dataframe tbody tr th:only-of-type {\n",
       "        vertical-align: middle;\n",
       "    }\n",
       "\n",
       "    .dataframe tbody tr th {\n",
       "        vertical-align: top;\n",
       "    }\n",
       "\n",
       "    .dataframe thead th {\n",
       "        text-align: right;\n",
       "    }\n",
       "</style>\n",
       "<table border=\"1\" class=\"dataframe\">\n",
       "  <thead>\n",
       "    <tr style=\"text-align: right;\">\n",
       "      <th>event</th>\n",
       "      <th>CTR</th>\n",
       "    </tr>\n",
       "    <tr>\n",
       "      <th>linkid</th>\n",
       "      <th></th>\n",
       "    </tr>\n",
       "  </thead>\n",
       "  <tbody>\n",
       "    <tr>\n",
       "      <th>00073307-ae96-5089-a117-4783afb42f8e</th>\n",
       "      <td>0.0</td>\n",
       "    </tr>\n",
       "    <tr>\n",
       "      <th>00126b32-0c35-507b-981c-02c80d2aa8e7</th>\n",
       "      <td>100.0</td>\n",
       "    </tr>\n",
       "    <tr>\n",
       "      <th>0018cfff-50a1-5984-9715-01ef2d11a49a</th>\n",
       "      <td>0.0</td>\n",
       "    </tr>\n",
       "    <tr>\n",
       "      <th>0033934b-5d16-5a06-af58-d087bcdd3680</th>\n",
       "      <td>0.0</td>\n",
       "    </tr>\n",
       "    <tr>\n",
       "      <th>0034d6cf-3bd8-5ffe-aafc-b3959fc48608</th>\n",
       "      <td>0.0</td>\n",
       "    </tr>\n",
       "    <tr>\n",
       "      <th>...</th>\n",
       "      <td>...</td>\n",
       "    </tr>\n",
       "    <tr>\n",
       "      <th>fff38ca0-8043-50cd-a5f1-f65ebb7105c5</th>\n",
       "      <td>100.0</td>\n",
       "    </tr>\n",
       "    <tr>\n",
       "      <th>fff4e5f0-4ee5-5fe7-aa30-e870edaf6ed7</th>\n",
       "      <td>0.0</td>\n",
       "    </tr>\n",
       "    <tr>\n",
       "      <th>fff84c0e-90a1-59d8-9997-adc909d50e16</th>\n",
       "      <td>100.0</td>\n",
       "    </tr>\n",
       "    <tr>\n",
       "      <th>fffc17a7-f935-5d3e-bd3e-d761fd80d479</th>\n",
       "      <td>50.0</td>\n",
       "    </tr>\n",
       "    <tr>\n",
       "      <th>fffd0045-29de-522b-b5d8-35786363bf07</th>\n",
       "      <td>50.0</td>\n",
       "    </tr>\n",
       "  </tbody>\n",
       "</table>\n",
       "<p>3839 rows × 1 columns</p>\n",
       "</div>"
      ],
      "text/plain": [
       "event                                   CTR\n",
       "linkid                                     \n",
       "00073307-ae96-5089-a117-4783afb42f8e    0.0\n",
       "00126b32-0c35-507b-981c-02c80d2aa8e7  100.0\n",
       "0018cfff-50a1-5984-9715-01ef2d11a49a    0.0\n",
       "0033934b-5d16-5a06-af58-d087bcdd3680    0.0\n",
       "0034d6cf-3bd8-5ffe-aafc-b3959fc48608    0.0\n",
       "...                                     ...\n",
       "fff38ca0-8043-50cd-a5f1-f65ebb7105c5  100.0\n",
       "fff4e5f0-4ee5-5fe7-aa30-e870edaf6ed7    0.0\n",
       "fff84c0e-90a1-59d8-9997-adc909d50e16  100.0\n",
       "fffc17a7-f935-5d3e-bd3e-d761fd80d479   50.0\n",
       "fffd0045-29de-522b-b5d8-35786363bf07   50.0\n",
       "\n",
       "[3839 rows x 1 columns]"
      ]
     },
     "execution_count": 81,
     "metadata": {},
     "output_type": "execute_result"
    }
   ],
   "source": [
    "link_group['CTR'] = (link_group.get('click', 0) / link_group.get('pageview', 1)) * 100\n",
    "link_group[['CTR']]"
   ]
  },
  {
   "cell_type": "markdown",
   "id": "17693bee",
   "metadata": {},
   "source": [
    "## Correlation Analysis"
   ]
  },
  {
   "cell_type": "code",
   "execution_count": 82,
   "id": "f733c9f6",
   "metadata": {},
   "outputs": [
    {
     "data": {
      "text/html": [
       "<div>\n",
       "<style scoped>\n",
       "    .dataframe tbody tr th:only-of-type {\n",
       "        vertical-align: middle;\n",
       "    }\n",
       "\n",
       "    .dataframe tbody tr th {\n",
       "        vertical-align: top;\n",
       "    }\n",
       "\n",
       "    .dataframe thead th {\n",
       "        text-align: right;\n",
       "    }\n",
       "</style>\n",
       "<table border=\"1\" class=\"dataframe\">\n",
       "  <thead>\n",
       "    <tr style=\"text-align: right;\">\n",
       "      <th>event</th>\n",
       "      <th>click</th>\n",
       "      <th>pageview</th>\n",
       "      <th>preview</th>\n",
       "      <th>CTR</th>\n",
       "    </tr>\n",
       "    <tr>\n",
       "      <th>linkid</th>\n",
       "      <th></th>\n",
       "      <th></th>\n",
       "      <th></th>\n",
       "      <th></th>\n",
       "    </tr>\n",
       "  </thead>\n",
       "  <tbody>\n",
       "    <tr>\n",
       "      <th>00073307-ae96-5089-a117-4783afb42f8e</th>\n",
       "      <td>0</td>\n",
       "      <td>2</td>\n",
       "      <td>0</td>\n",
       "      <td>0.0</td>\n",
       "    </tr>\n",
       "    <tr>\n",
       "      <th>00126b32-0c35-507b-981c-02c80d2aa8e7</th>\n",
       "      <td>2</td>\n",
       "      <td>2</td>\n",
       "      <td>0</td>\n",
       "      <td>100.0</td>\n",
       "    </tr>\n",
       "    <tr>\n",
       "      <th>0018cfff-50a1-5984-9715-01ef2d11a49a</th>\n",
       "      <td>0</td>\n",
       "      <td>1</td>\n",
       "      <td>0</td>\n",
       "      <td>0.0</td>\n",
       "    </tr>\n",
       "    <tr>\n",
       "      <th>0033934b-5d16-5a06-af58-d087bcdd3680</th>\n",
       "      <td>0</td>\n",
       "      <td>1</td>\n",
       "      <td>0</td>\n",
       "      <td>0.0</td>\n",
       "    </tr>\n",
       "    <tr>\n",
       "      <th>0034d6cf-3bd8-5ffe-aafc-b3959fc48608</th>\n",
       "      <td>0</td>\n",
       "      <td>1</td>\n",
       "      <td>0</td>\n",
       "      <td>0.0</td>\n",
       "    </tr>\n",
       "    <tr>\n",
       "      <th>...</th>\n",
       "      <td>...</td>\n",
       "      <td>...</td>\n",
       "      <td>...</td>\n",
       "      <td>...</td>\n",
       "    </tr>\n",
       "    <tr>\n",
       "      <th>fff38ca0-8043-50cd-a5f1-f65ebb7105c5</th>\n",
       "      <td>1</td>\n",
       "      <td>1</td>\n",
       "      <td>0</td>\n",
       "      <td>100.0</td>\n",
       "    </tr>\n",
       "    <tr>\n",
       "      <th>fff4e5f0-4ee5-5fe7-aa30-e870edaf6ed7</th>\n",
       "      <td>0</td>\n",
       "      <td>1</td>\n",
       "      <td>0</td>\n",
       "      <td>0.0</td>\n",
       "    </tr>\n",
       "    <tr>\n",
       "      <th>fff84c0e-90a1-59d8-9997-adc909d50e16</th>\n",
       "      <td>1</td>\n",
       "      <td>1</td>\n",
       "      <td>0</td>\n",
       "      <td>100.0</td>\n",
       "    </tr>\n",
       "    <tr>\n",
       "      <th>fffc17a7-f935-5d3e-bd3e-d761fd80d479</th>\n",
       "      <td>1</td>\n",
       "      <td>2</td>\n",
       "      <td>0</td>\n",
       "      <td>50.0</td>\n",
       "    </tr>\n",
       "    <tr>\n",
       "      <th>fffd0045-29de-522b-b5d8-35786363bf07</th>\n",
       "      <td>1</td>\n",
       "      <td>2</td>\n",
       "      <td>0</td>\n",
       "      <td>50.0</td>\n",
       "    </tr>\n",
       "  </tbody>\n",
       "</table>\n",
       "<p>3839 rows × 4 columns</p>\n",
       "</div>"
      ],
      "text/plain": [
       "event                                 click  pageview  preview    CTR\n",
       "linkid                                                               \n",
       "00073307-ae96-5089-a117-4783afb42f8e      0         2        0    0.0\n",
       "00126b32-0c35-507b-981c-02c80d2aa8e7      2         2        0  100.0\n",
       "0018cfff-50a1-5984-9715-01ef2d11a49a      0         1        0    0.0\n",
       "0033934b-5d16-5a06-af58-d087bcdd3680      0         1        0    0.0\n",
       "0034d6cf-3bd8-5ffe-aafc-b3959fc48608      0         1        0    0.0\n",
       "...                                     ...       ...      ...    ...\n",
       "fff38ca0-8043-50cd-a5f1-f65ebb7105c5      1         1        0  100.0\n",
       "fff4e5f0-4ee5-5fe7-aa30-e870edaf6ed7      0         1        0    0.0\n",
       "fff84c0e-90a1-59d8-9997-adc909d50e16      1         1        0  100.0\n",
       "fffc17a7-f935-5d3e-bd3e-d761fd80d479      1         2        0   50.0\n",
       "fffd0045-29de-522b-b5d8-35786363bf07      1         2        0   50.0\n",
       "\n",
       "[3839 rows x 4 columns]"
      ]
     },
     "execution_count": 82,
     "metadata": {},
     "output_type": "execute_result"
    }
   ],
   "source": [
    "link_group"
   ]
  },
  {
   "cell_type": "code",
   "execution_count": 83,
   "id": "3330389b",
   "metadata": {},
   "outputs": [],
   "source": [
    "clicks= link_group.get('click',0)\n",
    "previews= link_group.get('preview',0)"
   ]
  },
  {
   "cell_type": "code",
   "execution_count": 84,
   "id": "154352cd",
   "metadata": {},
   "outputs": [
    {
     "data": {
      "text/plain": [
       "0.9634390538767612"
      ]
     },
     "execution_count": 84,
     "metadata": {},
     "output_type": "execute_result"
    }
   ],
   "source": [
    "correlation= clicks.corr(previews)\n",
    "correlation"
   ]
  },
  {
   "cell_type": "code",
   "execution_count": 91,
   "id": "37c0587a",
   "metadata": {},
   "outputs": [],
   "source": [
    "from scipy.stats import pearsonr, chi2_contingency"
   ]
  },
  {
   "cell_type": "code",
   "execution_count": 86,
   "id": "461adf22",
   "metadata": {},
   "outputs": [],
   "source": [
    "correlation,p_value= pearsonr(clicks,previews)"
   ]
  },
  {
   "cell_type": "code",
   "execution_count": 87,
   "id": "a05a6f0a",
   "metadata": {},
   "outputs": [
    {
     "data": {
      "text/plain": [
       "0.9634390538767621"
      ]
     },
     "execution_count": 87,
     "metadata": {},
     "output_type": "execute_result"
    }
   ],
   "source": [
    "correlation"
   ]
  },
  {
   "cell_type": "code",
   "execution_count": 88,
   "id": "579a015a",
   "metadata": {},
   "outputs": [
    {
     "data": {
      "text/plain": [
       "0.0"
      ]
     },
     "execution_count": 88,
     "metadata": {},
     "output_type": "execute_result"
    }
   ],
   "source": [
    "p_value"
   ]
  },
  {
   "cell_type": "code",
   "execution_count": 89,
   "id": "1652e501",
   "metadata": {},
   "outputs": [
    {
     "name": "stdout",
     "output_type": "stream",
     "text": [
      "The correlation is statistically significant.\n"
     ]
    }
   ],
   "source": [
    "if p_value < 0.05:\n",
    "    print(\"The correlation is statistically significant.\")\n",
    "else:\n",
    "    print(\"The correlation is not statistically significant.\")"
   ]
  },
  {
   "cell_type": "markdown",
   "id": "8a57cd1a",
   "metadata": {},
   "source": [
    "- Yes, the correlation is statistically significant and there exists strong correlation between clicks and previews on link"
   ]
  },
  {
   "cell_type": "markdown",
   "id": "b7aa8e52",
   "metadata": {},
   "source": [
    "## Linear Relationship (Pearson Correlation)"
   ]
  },
  {
   "cell_type": "code",
   "execution_count": 93,
   "id": "cbd275aa",
   "metadata": {},
   "outputs": [
    {
     "name": "stdout",
     "output_type": "stream",
     "text": [
      "Linear Relationship Test (Pearson Correlation):\n",
      "Correlation coefficient: 0.96\n",
      "P-value: 0.0000\n",
      "The correlation is statistically significant.\n"
     ]
    }
   ],
   "source": [
    "# Group by 'linkid' and count the number of 'click' and 'preview' events for each link\n",
    "link_group = traffic.groupby('linkid')['event'].value_counts().unstack(fill_value=0)\n",
    "\n",
    "# Extract the counts of clicks and previews\n",
    "clicks = link_group.get('click', 0)\n",
    "previews = link_group.get('preview', 0)\n",
    "\n",
    "# Step 1: Pearson Correlation for Linear Relationship\n",
    "correlation, p_value = pearsonr(clicks, previews)\n",
    "print(f\"Linear Relationship Test (Pearson Correlation):\")\n",
    "print(f\"Correlation coefficient: {correlation:.2f}\")\n",
    "print(f\"P-value: {p_value:.4f}\")\n",
    "if p_value < 0.05:\n",
    "    print(\"The correlation is statistically significant.\")\n",
    "else:\n",
    "    print(\"The correlation is not statistically significant.\")"
   ]
  },
  {
   "cell_type": "markdown",
   "id": "4ac5568b",
   "metadata": {},
   "source": [
    "## Categorical Relationship (Chi-square Test)"
   ]
  },
  {
   "cell_type": "code",
   "execution_count": 98,
   "id": "be9054ad",
   "metadata": {},
   "outputs": [
    {
     "name": "stdout",
     "output_type": "stream",
     "text": [
      "Categorical Relationship Test (Chi-square Test):\n",
      "Chi-square statistic: 279043.41\n",
      "P-value: 0.0000\n",
      "There is a statistically significant association between clicks and previews as categories.\n"
     ]
    }
   ],
   "source": [
    "# Create a contingency table\n",
    "contingency_table = pd.crosstab(clicks, previews)\n",
    "\n",
    "# Perform the Chi-square test\n",
    "chi2, chi_p_value, dof, expected = chi2_contingency(contingency_table)\n",
    "print(\"Categorical Relationship Test (Chi-square Test):\")\n",
    "print(f\"Chi-square statistic: {chi2:.2f}\")\n",
    "print(f\"P-value: {chi_p_value:.4f}\")\n",
    "if chi_p_value < 0.05:\n",
    "    print(\"There is a statistically significant association between clicks and previews as categories.\")\n",
    "else:\n",
    "    print(\"There is no statistically significant association between clicks and previews as categories.\")"
   ]
  },
  {
   "cell_type": "code",
   "execution_count": null,
   "id": "d3526e45",
   "metadata": {},
   "outputs": [],
   "source": []
  }
 ],
 "metadata": {
  "kernelspec": {
   "display_name": "Python 3 (ipykernel)",
   "language": "python",
   "name": "python3"
  },
  "language_info": {
   "codemirror_mode": {
    "name": "ipython",
    "version": 3
   },
   "file_extension": ".py",
   "mimetype": "text/x-python",
   "name": "python",
   "nbconvert_exporter": "python",
   "pygments_lexer": "ipython3",
   "version": "3.11.5"
  }
 },
 "nbformat": 4,
 "nbformat_minor": 5
}
